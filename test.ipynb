{
 "cells": [
  {
   "cell_type": "markdown",
   "metadata": {},
   "source": [
    "##### 建立一個 function 要能回傳 某個數字開始 指定數量的 偶數\n",
    "Ex: \n",
    "\n",
    "num = 5, n = 3 要回傳 6, 8, 10\n",
    "\n",
    "\n",
    "num = 4, n = 5 要回傳 4, 6, 8, 10, 12"
   ]
  },
  {
   "cell_type": "code",
   "execution_count": null,
   "metadata": {},
   "outputs": [],
   "source": [
    "def even_number(num, n):\n",
    "\n",
    "    pass"
   ]
  },
  {
   "cell_type": "markdown",
   "metadata": {},
   "source": [
    "##### 取得 API資料 並進行篩選排序\n",
    "題目會提供 Year, pha 要能夠篩選出一模一樣的資料回傳\n",
    "\n",
    "(回傳的資料請依照 period_yr 排序)"
   ]
  },
  {
   "cell_type": "code",
   "execution_count": null,
   "metadata": {},
   "outputs": [],
   "source": [
    "URL = 'https://jsonmock.hackerrank.com/api/asteroids/search?parameter=%7Bkeyword%7D&page=%7Bpage_no%7D'\n",
    "\n",
    "def get_specified_data(year, pha):\n",
    "\n",
    "    pass"
   ]
  },
  {
   "cell_type": "markdown",
   "metadata": {},
   "source": [
    "##### 請將 data.txt 裡面的資料 拆分成指定的 txt 檔\n",
    "\n",
    "分別為 c_data.txt, cc_data.txt, css_data.txt "
   ]
  },
  {
   "cell_type": "code",
   "execution_count": null,
   "metadata": {},
   "outputs": [],
   "source": [
    "def separate_data(file_path):\n",
    "\n",
    "    pass"
   ]
  }
 ],
 "metadata": {
  "language_info": {
   "name": "python"
  }
 },
 "nbformat": 4,
 "nbformat_minor": 2
}
