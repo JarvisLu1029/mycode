{
 "cells": [
  {
   "cell_type": "markdown",
   "metadata": {},
   "source": [
    "##### json 套件\n",
    "|`json.dump(<obj>, <file>, [ensure_ascii=False], [indent=<num>])`|`json.dumps(<obj>)`|`json.load()`|`json.loads()`|\n",
    "|:--:|:--:|:--:|:--:|\n",
    "|物件轉JSON並寫入文件|物件轉JSON字串|讀取JSON文件|將JSON字串轉成Python物件|"
   ]
  },
  {
   "cell_type": "code",
   "execution_count": 8,
   "metadata": {},
   "outputs": [],
   "source": [
    "# json.dumps()\n",
    "import json\n",
    "\n",
    "with open('./dict_data.json', 'w+', encoding='utf-8') as f:\n",
    "    data_dict = {\n",
    "        'apple': {\n",
    "            'price': 100,\n",
    "            'quantity': 50,\n",
    "            'color': ['greem', 'red']\n",
    "        },\n",
    "        'orange': {\n",
    "            'price': 50,\n",
    "            'quantity': 30,\n",
    "            'color': 'orange'\n",
    "        },\n",
    "        'tomato': {\n",
    "            'price': 150,\n",
    "            'quantity': 70,\n",
    "            'color': 'red'\n",
    "        }\n",
    "    }\n",
    "    f.write(json.dumps(data_dict))\n",
    "    # f.write(str(data_dict))"
   ]
  },
  {
   "cell_type": "code",
   "execution_count": null,
   "metadata": {},
   "outputs": [],
   "source": [
    "import json\n",
    "\n",
    "data = {\n",
    "    'name': 'John Doe',\n",
    "    'age': 30,\n",
    "    'city': '台北市'\n",
    "}\n",
    "\n",
    "with open('data.json', 'w', encoding='utf-8') as f:\n",
    "    # 將字典寫入檔案\n",
    "    json.dump(data, f, indent=4)\n",
    "    # json.dump(data, f, ensure_ascii=False, indent=4)\n"
   ]
  },
  {
   "cell_type": "code",
   "execution_count": 7,
   "metadata": {},
   "outputs": [
    {
     "name": "stdout",
     "output_type": "stream",
     "text": [
      "{\"apple\": {\"price\": 100, \"quantity\": 50, \"color\": [\"greem\", \"red\"]}, \"orange\": {\"price\": 50, \"quantity\": 30, \"color\": \"orange\"}, \"tomato\": {\"price\": 150, \"quantity\": 70, \"color\": \"red\"}}\n",
      "<class 'str'>\n",
      "<class 'dict'>\n"
     ]
    }
   ],
   "source": [
    "# json.loads()\n",
    "import json\n",
    "\n",
    "with open('./dict_data.txt') as f:\n",
    "    str_data = f.read()\n",
    "    \n",
    "    print(str_data)\n",
    "    print(type(str_data))\n",
    "    # str_data_double = str_data.replace('\\'', '\\\"')\n",
    "\n",
    "    # print(str_data_double)\n",
    "\n",
    "    data_list = json.loads(str_data)\n",
    "\n",
    "    print(type(data_list))"
   ]
  }
 ],
 "metadata": {
  "kernelspec": {
   "display_name": "Python 3",
   "language": "python",
   "name": "python3"
  },
  "language_info": {
   "codemirror_mode": {
    "name": "ipython",
    "version": 3
   },
   "file_extension": ".py",
   "mimetype": "text/x-python",
   "name": "python",
   "nbconvert_exporter": "python",
   "pygments_lexer": "ipython3",
   "version": "3.12.0"
  }
 },
 "nbformat": 4,
 "nbformat_minor": 2
}
