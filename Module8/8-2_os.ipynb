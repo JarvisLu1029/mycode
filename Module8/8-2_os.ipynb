{
 "cells": [
  {
   "cell_type": "code",
   "execution_count": 3,
   "metadata": {},
   "outputs": [
    {
     "name": "stdout",
     "output_type": "stream",
     "text": [
      "檔案存在\n"
     ]
    }
   ],
   "source": [
    "# 匯入套件\n",
    "import os\n",
    "\n",
    "# 檔案路徑\n",
    "file_path = './data.txt'\n",
    "\n",
    "# 如果指定路徑的檔案存在，則執行刪除\n",
    "if os.path.exists(file_path):\n",
    "    # os.remove(file_path)\n",
    "    print('檔案存在')\n",
    "else:\n",
    "    print('Not Found')"
   ]
  },
  {
   "cell_type": "markdown",
   "metadata": {},
   "source": [
    "##### 讀取指定資料夾 並將該資料夾檔案用 list 呈現"
   ]
  },
  {
   "cell_type": "code",
   "execution_count": 2,
   "metadata": {},
   "outputs": [
    {
     "name": "stdout",
     "output_type": "stream",
     "text": [
      "['8-1_open.ipynb', '8-2_os.ipynb', '8-3_practice.ipynb', 'data.txt']\n"
     ]
    }
   ],
   "source": [
    "file_list = os.listdir('./')\n",
    "print(file_list)"
   ]
  },
  {
   "cell_type": "code",
   "execution_count": 1,
   "metadata": {},
   "outputs": [
    {
     "name": "stdout",
     "output_type": "stream",
     "text": [
      "Collecting python-dotenv\n",
      "  Downloading python_dotenv-1.0.0-py3-none-any.whl (19 kB)\n",
      "Installing collected packages: python-dotenv\n",
      "Successfully installed python-dotenv-1.0.0\n"
     ]
    },
    {
     "name": "stderr",
     "output_type": "stream",
     "text": [
      "\n",
      "[notice] A new release of pip is available: 23.2.1 -> 23.3.1\n",
      "[notice] To update, run: python.exe -m pip install --upgrade pip\n"
     ]
    }
   ],
   "source": [
    "!pip install python-dotenv"
   ]
  },
  {
   "cell_type": "code",
   "execution_count": 4,
   "metadata": {},
   "outputs": [
    {
     "name": "stdout",
     "output_type": "stream",
     "text": [
      "Jarvis\n"
     ]
    }
   ],
   "source": [
    "from dotenv import load_dotenv \n",
    "# 載入應用程式的環境變數 \n",
    "# 可以將這些敏感信息存儲在一個名為.env的文件中 並使用 load_dotenv() 載入\n",
    "load_dotenv()\n",
    "\n",
    "my_account = os.getenv('ACCOUNT')\n",
    "print(my_account)"
   ]
  }
 ],
 "metadata": {
  "kernelspec": {
   "display_name": "Python 3",
   "language": "python",
   "name": "python3"
  },
  "language_info": {
   "codemirror_mode": {
    "name": "ipython",
    "version": 3
   },
   "file_extension": ".py",
   "mimetype": "text/x-python",
   "name": "python",
   "nbconvert_exporter": "python",
   "pygments_lexer": "ipython3",
   "version": "3.12.0"
  }
 },
 "nbformat": 4,
 "nbformat_minor": 2
}
