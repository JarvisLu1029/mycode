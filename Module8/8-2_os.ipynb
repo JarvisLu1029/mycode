{
 "cells": [
  {
   "cell_type": "code",
   "execution_count": 1,
   "metadata": {},
   "outputs": [
    {
     "name": "stdout",
     "output_type": "stream",
     "text": [
      "檔案存在\n"
     ]
    }
   ],
   "source": [
    "# 匯入套件\n",
    "import os\n",
    "\n",
    "# 檔案路徑\n",
    "file_path = './data.txt'\n",
    "\n",
    "# 如果指定路徑的檔案存在，則執行刪除\n",
    "if os.path.exists(file_path):\n",
    "    print('檔案存在')\n",
    "else:\n",
    "    print('Not Found')"
   ]
  },
  {
   "cell_type": "code",
   "execution_count": 2,
   "metadata": {},
   "outputs": [
    {
     "name": "stdout",
     "output_type": "stream",
     "text": [
      "['8-1_open.ipynb', '8-2_os.ipynb', '8-3_practice.ipynb', 'data.txt']\n"
     ]
    }
   ],
   "source": [
    "file_list = os.listdir('./')\n",
    "print(file_list)"
   ]
  }
 ],
 "metadata": {
  "kernelspec": {
   "display_name": "Python 3",
   "language": "python",
   "name": "python3"
  },
  "language_info": {
   "codemirror_mode": {
    "name": "ipython",
    "version": 3
   },
   "file_extension": ".py",
   "mimetype": "text/x-python",
   "name": "python",
   "nbconvert_exporter": "python",
   "pygments_lexer": "ipython3",
   "version": "3.9.13"
  }
 },
 "nbformat": 4,
 "nbformat_minor": 2
}
