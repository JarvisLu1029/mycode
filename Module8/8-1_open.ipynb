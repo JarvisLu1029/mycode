{
 "cells": [
  {
   "cell_type": "markdown",
   "metadata": {},
   "source": [
    "##### open( ) 函式\n",
    "|\"r\"|\"a\"|\"w\"|\"x\"|\"t\"|\"b\"|\n",
    "|:--:|:--:|:--:|:--:|:--:|:--:|\n",
    "|read|append|write|create|text|binary|"
   ]
  },
  {
   "cell_type": "markdown",
   "metadata": {},
   "source": [
    "##### 讀取檔案 read( )"
   ]
  },
  {
   "cell_type": "code",
   "execution_count": 10,
   "metadata": {},
   "outputs": [
    {
     "name": "stdout",
     "output_type": "stream",
     "text": [
      "# 建立第一支 Python 程式\n",
      "\n",
      "# 宣告變數\n",
      "x = 1\n",
      "name = 'Alex'\n",
      "\n",
      "\n",
      "# 輸出變數\n",
      "print(x)\n",
      "print(name)\n",
      "\n",
      "<class 'str'>\n"
     ]
    }
   ],
   "source": [
    "# 讀取檔案內容 - 現今常用的寫法 (執行完畢會自動關閉檔案)\n",
    "with open(file=\"../Module2/2-1.py\", mode=\"r\", encoding=\"utf-8\") as f:\n",
    "    doc = f.read()\n",
    "    print(doc)\n",
    "    print(type(doc))\n",
    "    '''\n",
    "    當使用for循環遍歷文件的每一行時，文件的內容已經被完全讀取。\n",
    "    再次使用f.read()時，文件指針已經在文件的末尾，所以它會返回一個空字符串。\n",
    "    '''\n",
    "    # f.seek(0)\n",
    "    # print(f.read())"
   ]
  },
  {
   "cell_type": "code",
   "execution_count": 3,
   "metadata": {},
   "outputs": [
    {
     "name": "stdout",
     "output_type": "stream",
     "text": [
      "# 建立第一支 Python 程式\n",
      "\n",
      "# 宣告變數\n",
      "x = 1\n",
      "name = 'Alex'\n",
      "\n",
      "\n",
      "# 輸出變數\n",
      "print(x)\n",
      "print(name)\n"
     ]
    }
   ],
   "source": [
    "with open(file=\"../Module2/2-1.py\", mode=\"r\", encoding=\"utf-8\") as f:\n",
    "    for line in f:\n",
    "        print(line, end='')"
   ]
  },
  {
   "cell_type": "code",
   "execution_count": 1,
   "metadata": {},
   "outputs": [
    {
     "name": "stdout",
     "output_type": "stream",
     "text": [
      "['# 建立第一支 Python 程式\\n', '\\n', '# 宣告變數\\n', 'x = 1\\n', \"name = 'Alex'\\n\", '\\n', '\\n', '# 輸出變數\\n', 'print(x)\\n', 'print(name)\\n']\n",
      "['# 建立第一支 Python 程式', '# 宣告變數', 'x = 1', \"name = 'Alex'\", '# 輸出變數', 'print(x)', 'print(name)']\n"
     ]
    }
   ],
   "source": [
    "# 資料處理\n",
    "\n",
    "with open(file=\"../Module2/2-1.py\", mode=\"r\", encoding=\"utf-8\") as f:\n",
    "    x = f.readlines()\n",
    "    print(x)\n",
    "    \n",
    "    while '\\n' in x:\n",
    "        x.remove('\\n')\n",
    "    \n",
    "    y = []\n",
    "    for i in x:\n",
    "        z = i.strip('\\n')\n",
    "        y.append(z)\n",
    "\n",
    "    # y = [i.strip('\\n') for i in x]\n",
    "    print(y)"
   ]
  },
  {
   "cell_type": "markdown",
   "metadata": {},
   "source": [
    "##### 寫入檔案 write( )"
   ]
  },
  {
   "cell_type": "code",
   "execution_count": 12,
   "metadata": {},
   "outputs": [
    {
     "name": "stdout",
     "output_type": "stream",
     "text": [
      "Help on function open in module _io:\n",
      "\n",
      "open(file, mode='r', buffering=-1, encoding=None, errors=None, newline=None, closefd=True, opener=None)\n",
      "    Open file and return a stream.  Raise OSError upon failure.\n",
      "\n",
      "    file is either a text or byte string giving the name (and the path\n",
      "    if the file isn't in the current working directory) of the file to\n",
      "    be opened or an integer file descriptor of the file to be\n",
      "    wrapped. (If a file descriptor is given, it is closed when the\n",
      "    returned I/O object is closed, unless closefd is set to False.)\n",
      "\n",
      "    mode is an optional string that specifies the mode in which the file\n",
      "    is opened. It defaults to 'r' which means open for reading in text\n",
      "    mode.  Other common values are 'w' for writing (truncating the file if\n",
      "    it already exists), 'x' for creating and writing to a new file, and\n",
      "    'a' for appending (which on some Unix systems, means that all writes\n",
      "    append to the end of the file regardless of the current seek position).\n",
      "    In text mode, if encoding is not specified the encoding used is platform\n",
      "    dependent: locale.getencoding() is called to get the current locale encoding.\n",
      "    (For reading and writing raw bytes use binary mode and leave encoding\n",
      "    unspecified.) The available modes are:\n",
      "\n",
      "    ========= ===============================================================\n",
      "    Character Meaning\n",
      "    --------- ---------------------------------------------------------------\n",
      "    'r'       open for reading (default)\n",
      "    'w'       open for writing, truncating the file first\n",
      "    'x'       create a new file and open it for writing\n",
      "    'a'       open for writing, appending to the end of the file if it exists\n",
      "    'b'       binary mode\n",
      "    't'       text mode (default)\n",
      "    '+'       open a disk file for updating (reading and writing)\n",
      "    ========= ===============================================================\n",
      "\n",
      "    The default mode is 'rt' (open for reading text). For binary random\n",
      "    access, the mode 'w+b' opens and truncates the file to 0 bytes, while\n",
      "    'r+b' opens the file without truncation. The 'x' mode implies 'w' and\n",
      "    raises an `FileExistsError` if the file already exists.\n",
      "\n",
      "    Python distinguishes between files opened in binary and text modes,\n",
      "    even when the underlying operating system doesn't. Files opened in\n",
      "    binary mode (appending 'b' to the mode argument) return contents as\n",
      "    bytes objects without any decoding. In text mode (the default, or when\n",
      "    't' is appended to the mode argument), the contents of the file are\n",
      "    returned as strings, the bytes having been first decoded using a\n",
      "    platform-dependent encoding or using the specified encoding if given.\n",
      "\n",
      "    buffering is an optional integer used to set the buffering policy.\n",
      "    Pass 0 to switch buffering off (only allowed in binary mode), 1 to select\n",
      "    line buffering (only usable in text mode), and an integer > 1 to indicate\n",
      "    the size of a fixed-size chunk buffer.  When no buffering argument is\n",
      "    given, the default buffering policy works as follows:\n",
      "\n",
      "    * Binary files are buffered in fixed-size chunks; the size of the buffer\n",
      "      is chosen using a heuristic trying to determine the underlying device's\n",
      "      \"block size\" and falling back on `io.DEFAULT_BUFFER_SIZE`.\n",
      "      On many systems, the buffer will typically be 4096 or 8192 bytes long.\n",
      "\n",
      "    * \"Interactive\" text files (files for which isatty() returns True)\n",
      "      use line buffering.  Other text files use the policy described above\n",
      "      for binary files.\n",
      "\n",
      "    encoding is the name of the encoding used to decode or encode the\n",
      "    file. This should only be used in text mode. The default encoding is\n",
      "    platform dependent, but any encoding supported by Python can be\n",
      "    passed.  See the codecs module for the list of supported encodings.\n",
      "\n",
      "    errors is an optional string that specifies how encoding errors are to\n",
      "    be handled---this argument should not be used in binary mode. Pass\n",
      "    'strict' to raise a ValueError exception if there is an encoding error\n",
      "    (the default of None has the same effect), or pass 'ignore' to ignore\n",
      "    errors. (Note that ignoring encoding errors can lead to data loss.)\n",
      "    See the documentation for codecs.register or run 'help(codecs.Codec)'\n",
      "    for a list of the permitted encoding error strings.\n",
      "\n",
      "    newline controls how universal newlines works (it only applies to text\n",
      "    mode). It can be None, '', '\\n', '\\r', and '\\r\\n'.  It works as\n",
      "    follows:\n",
      "\n",
      "    * On input, if newline is None, universal newlines mode is\n",
      "      enabled. Lines in the input can end in '\\n', '\\r', or '\\r\\n', and\n",
      "      these are translated into '\\n' before being returned to the\n",
      "      caller. If it is '', universal newline mode is enabled, but line\n",
      "      endings are returned to the caller untranslated. If it has any of\n",
      "      the other legal values, input lines are only terminated by the given\n",
      "      string, and the line ending is returned to the caller untranslated.\n",
      "\n",
      "    * On output, if newline is None, any '\\n' characters written are\n",
      "      translated to the system default line separator, os.linesep. If\n",
      "      newline is '' or '\\n', no translation takes place. If newline is any\n",
      "      of the other legal values, any '\\n' characters written are translated\n",
      "      to the given string.\n",
      "\n",
      "    If closefd is False, the underlying file descriptor will be kept open\n",
      "    when the file is closed. This does not work when a file name is given\n",
      "    and must be True in that case.\n",
      "\n",
      "    A custom opener can be used by passing a callable as *opener*. The\n",
      "    underlying file descriptor for the file object is then obtained by\n",
      "    calling *opener* with (*file*, *flags*). *opener* must return an open\n",
      "    file descriptor (passing os.open as *opener* results in functionality\n",
      "    similar to passing None).\n",
      "\n",
      "    open() returns a file object whose type depends on the mode, and\n",
      "    through which the standard file operations such as reading and writing\n",
      "    are performed. When open() is used to open a file in a text mode ('w',\n",
      "    'r', 'wt', 'rt', etc.), it returns a TextIOWrapper. When used to open\n",
      "    a file in a binary mode, the returned class varies: in read binary\n",
      "    mode, it returns a BufferedReader; in write binary and append binary\n",
      "    modes, it returns a BufferedWriter, and in read/write mode, it returns\n",
      "    a BufferedRandom.\n",
      "\n",
      "    It is also possible to use a string or bytearray as a file for both\n",
      "    reading and writing. For strings StringIO can be used like a file\n",
      "    opened in a text mode, and for bytes a BytesIO can be used like a file\n",
      "    opened in a binary mode.\n",
      "\n"
     ]
    }
   ],
   "source": [
    "help(open)"
   ]
  },
  {
   "cell_type": "code",
   "execution_count": null,
   "metadata": {},
   "outputs": [],
   "source": [
    "# 文字內容\n",
    "text = '''\n",
    "傑出的人會努力規劃自己的人生，普通的人則是隨便命運怎麼安排   \n",
    "一個是充實、有目的的過每一天，一個是隨興的過一天算一天\n",
    "創業這條路 Michael E.Gerber\n",
    "'''\n",
    "\n",
    "# 寫入檔案\n",
    "with open(\"./8-1.txt\", 'w', encoding='utf-8') as f:\n",
    "    f.write(text + '\\n')\n",
    "\n",
    "# 寫入最後一行 (附加文字在檔案內容最後一行)\n",
    "# People say that success just happens to you. It doesn't!\n",
    "with open('./8-1.txt', 'w', encoding='utf-8') as f:\n",
    "    f.write(\"People say that success just happens to you. It doesn't!\" + \"\\n\")"
   ]
  },
  {
   "cell_type": "code",
   "execution_count": null,
   "metadata": {},
   "outputs": [],
   "source": [
    "# 建立一個 1-100 的 list"
   ]
  },
  {
   "cell_type": "code",
   "execution_count": 35,
   "metadata": {},
   "outputs": [],
   "source": [
    "with open('./dict_data.txt', 'w+') as f:\n",
    "    data_dict = {\n",
    "    'apple': {\n",
    "        'price': 100,\n",
    "        'quantity': 50,\n",
    "        'color': ['greem', 'red']\n",
    "    },\n",
    "    'orange': {\n",
    "        'price': 50,\n",
    "        'quantity': 30,\n",
    "        'color': 'orange'\n",
    "    },\n",
    "    'tomato': {\n",
    "        'price': 150,\n",
    "        'quantity': 70,\n",
    "        'color': 'red'\n",
    "    }\n",
    "}\n",
    "    f.write(str(data_dict))"
   ]
  },
  {
   "cell_type": "code",
   "execution_count": 1,
   "metadata": {},
   "outputs": [
    {
     "name": "stdout",
     "output_type": "stream",
     "text": [
      "{'apple': {'price': 100, 'quantity': 50, 'color': ['greem', 'red']}, 'orange': {'price': 50, 'quantity': 30, 'color': 'orange'}, 'tomato': {'price': 150, 'quantity': 70, 'color': 'red'}}\n"
     ]
    },
    {
     "ename": "JSONDecodeError",
     "evalue": "Expecting property name enclosed in double quotes: line 1 column 2 (char 1)",
     "output_type": "error",
     "traceback": [
      "\u001b[1;31m---------------------------------------------------------------------------\u001b[0m",
      "\u001b[1;31mJSONDecodeError\u001b[0m                           Traceback (most recent call last)",
      "\u001b[1;32me:\\Program\\資策會課程講義\\個人講義\\Python_code\\mycode\\Module8\\8-1_open.ipynb 儲存格 11\u001b[0m line \u001b[0;36m1\n\u001b[0;32m      <a href='vscode-notebook-cell:/e%3A/Program/%E8%B3%87%E7%AD%96%E6%9C%83%E8%AA%B2%E7%A8%8B%E8%AC%9B%E7%BE%A9/%E5%80%8B%E4%BA%BA%E8%AC%9B%E7%BE%A9/Python_code/mycode/Module8/8-1_open.ipynb#X13sZmlsZQ%3D%3D?line=6'>7</a>\u001b[0m \u001b[39mprint\u001b[39m(str_data)\n\u001b[0;32m      <a href='vscode-notebook-cell:/e%3A/Program/%E8%B3%87%E7%AD%96%E6%9C%83%E8%AA%B2%E7%A8%8B%E8%AC%9B%E7%BE%A9/%E5%80%8B%E4%BA%BA%E8%AC%9B%E7%BE%A9/Python_code/mycode/Module8/8-1_open.ipynb#X13sZmlsZQ%3D%3D?line=8'>9</a>\u001b[0m \u001b[39m# str_data_double = str_data.replace('\\'', '\\\"')\u001b[39;00m\n\u001b[0;32m     <a href='vscode-notebook-cell:/e%3A/Program/%E8%B3%87%E7%AD%96%E6%9C%83%E8%AA%B2%E7%A8%8B%E8%AC%9B%E7%BE%A9/%E5%80%8B%E4%BA%BA%E8%AC%9B%E7%BE%A9/Python_code/mycode/Module8/8-1_open.ipynb#X13sZmlsZQ%3D%3D?line=9'>10</a>\u001b[0m \n\u001b[0;32m     <a href='vscode-notebook-cell:/e%3A/Program/%E8%B3%87%E7%AD%96%E6%9C%83%E8%AA%B2%E7%A8%8B%E8%AC%9B%E7%BE%A9/%E5%80%8B%E4%BA%BA%E8%AC%9B%E7%BE%A9/Python_code/mycode/Module8/8-1_open.ipynb#X13sZmlsZQ%3D%3D?line=10'>11</a>\u001b[0m \u001b[39m# print(str_data_double)\u001b[39;00m\n\u001b[1;32m---> <a href='vscode-notebook-cell:/e%3A/Program/%E8%B3%87%E7%AD%96%E6%9C%83%E8%AA%B2%E7%A8%8B%E8%AC%9B%E7%BE%A9/%E5%80%8B%E4%BA%BA%E8%AC%9B%E7%BE%A9/Python_code/mycode/Module8/8-1_open.ipynb#X13sZmlsZQ%3D%3D?line=12'>13</a>\u001b[0m data_list \u001b[39m=\u001b[39m json\u001b[39m.\u001b[39;49mloads(str_data)\n\u001b[0;32m     <a href='vscode-notebook-cell:/e%3A/Program/%E8%B3%87%E7%AD%96%E6%9C%83%E8%AA%B2%E7%A8%8B%E8%AC%9B%E7%BE%A9/%E5%80%8B%E4%BA%BA%E8%AC%9B%E7%BE%A9/Python_code/mycode/Module8/8-1_open.ipynb#X13sZmlsZQ%3D%3D?line=14'>15</a>\u001b[0m \u001b[39mprint\u001b[39m(\u001b[39mtype\u001b[39m(data_list))\n",
      "File \u001b[1;32mc:\\Users\\Jarvis Lu\\AppData\\Local\\Programs\\Python\\Python312\\Lib\\json\\__init__.py:346\u001b[0m, in \u001b[0;36mloads\u001b[1;34m(s, cls, object_hook, parse_float, parse_int, parse_constant, object_pairs_hook, **kw)\u001b[0m\n\u001b[0;32m    341\u001b[0m     s \u001b[39m=\u001b[39m s\u001b[39m.\u001b[39mdecode(detect_encoding(s), \u001b[39m'\u001b[39m\u001b[39msurrogatepass\u001b[39m\u001b[39m'\u001b[39m)\n\u001b[0;32m    343\u001b[0m \u001b[39mif\u001b[39;00m (\u001b[39mcls\u001b[39m \u001b[39mis\u001b[39;00m \u001b[39mNone\u001b[39;00m \u001b[39mand\u001b[39;00m object_hook \u001b[39mis\u001b[39;00m \u001b[39mNone\u001b[39;00m \u001b[39mand\u001b[39;00m\n\u001b[0;32m    344\u001b[0m         parse_int \u001b[39mis\u001b[39;00m \u001b[39mNone\u001b[39;00m \u001b[39mand\u001b[39;00m parse_float \u001b[39mis\u001b[39;00m \u001b[39mNone\u001b[39;00m \u001b[39mand\u001b[39;00m\n\u001b[0;32m    345\u001b[0m         parse_constant \u001b[39mis\u001b[39;00m \u001b[39mNone\u001b[39;00m \u001b[39mand\u001b[39;00m object_pairs_hook \u001b[39mis\u001b[39;00m \u001b[39mNone\u001b[39;00m \u001b[39mand\u001b[39;00m \u001b[39mnot\u001b[39;00m kw):\n\u001b[1;32m--> 346\u001b[0m     \u001b[39mreturn\u001b[39;00m _default_decoder\u001b[39m.\u001b[39;49mdecode(s)\n\u001b[0;32m    347\u001b[0m \u001b[39mif\u001b[39;00m \u001b[39mcls\u001b[39m \u001b[39mis\u001b[39;00m \u001b[39mNone\u001b[39;00m:\n\u001b[0;32m    348\u001b[0m     \u001b[39mcls\u001b[39m \u001b[39m=\u001b[39m JSONDecoder\n",
      "File \u001b[1;32mc:\\Users\\Jarvis Lu\\AppData\\Local\\Programs\\Python\\Python312\\Lib\\json\\decoder.py:337\u001b[0m, in \u001b[0;36mJSONDecoder.decode\u001b[1;34m(self, s, _w)\u001b[0m\n\u001b[0;32m    332\u001b[0m \u001b[39mdef\u001b[39;00m \u001b[39mdecode\u001b[39m(\u001b[39mself\u001b[39m, s, _w\u001b[39m=\u001b[39mWHITESPACE\u001b[39m.\u001b[39mmatch):\n\u001b[0;32m    333\u001b[0m \u001b[39m    \u001b[39m\u001b[39m\"\"\"Return the Python representation of ``s`` (a ``str`` instance\u001b[39;00m\n\u001b[0;32m    334\u001b[0m \u001b[39m    containing a JSON document).\u001b[39;00m\n\u001b[0;32m    335\u001b[0m \n\u001b[0;32m    336\u001b[0m \u001b[39m    \"\"\"\u001b[39;00m\n\u001b[1;32m--> 337\u001b[0m     obj, end \u001b[39m=\u001b[39m \u001b[39mself\u001b[39;49m\u001b[39m.\u001b[39;49mraw_decode(s, idx\u001b[39m=\u001b[39;49m_w(s, \u001b[39m0\u001b[39;49m)\u001b[39m.\u001b[39;49mend())\n\u001b[0;32m    338\u001b[0m     end \u001b[39m=\u001b[39m _w(s, end)\u001b[39m.\u001b[39mend()\n\u001b[0;32m    339\u001b[0m     \u001b[39mif\u001b[39;00m end \u001b[39m!=\u001b[39m \u001b[39mlen\u001b[39m(s):\n",
      "File \u001b[1;32mc:\\Users\\Jarvis Lu\\AppData\\Local\\Programs\\Python\\Python312\\Lib\\json\\decoder.py:353\u001b[0m, in \u001b[0;36mJSONDecoder.raw_decode\u001b[1;34m(self, s, idx)\u001b[0m\n\u001b[0;32m    344\u001b[0m \u001b[39m\u001b[39m\u001b[39m\"\"\"Decode a JSON document from ``s`` (a ``str`` beginning with\u001b[39;00m\n\u001b[0;32m    345\u001b[0m \u001b[39ma JSON document) and return a 2-tuple of the Python\u001b[39;00m\n\u001b[0;32m    346\u001b[0m \u001b[39mrepresentation and the index in ``s`` where the document ended.\u001b[39;00m\n\u001b[1;32m   (...)\u001b[0m\n\u001b[0;32m    350\u001b[0m \n\u001b[0;32m    351\u001b[0m \u001b[39m\"\"\"\u001b[39;00m\n\u001b[0;32m    352\u001b[0m \u001b[39mtry\u001b[39;00m:\n\u001b[1;32m--> 353\u001b[0m     obj, end \u001b[39m=\u001b[39m \u001b[39mself\u001b[39;49m\u001b[39m.\u001b[39;49mscan_once(s, idx)\n\u001b[0;32m    354\u001b[0m \u001b[39mexcept\u001b[39;00m \u001b[39mStopIteration\u001b[39;00m \u001b[39mas\u001b[39;00m err:\n\u001b[0;32m    355\u001b[0m     \u001b[39mraise\u001b[39;00m JSONDecodeError(\u001b[39m\"\u001b[39m\u001b[39mExpecting value\u001b[39m\u001b[39m\"\u001b[39m, s, err\u001b[39m.\u001b[39mvalue) \u001b[39mfrom\u001b[39;00m \u001b[39mNone\u001b[39;00m\n",
      "\u001b[1;31mJSONDecodeError\u001b[0m: Expecting property name enclosed in double quotes: line 1 column 2 (char 1)"
     ]
    }
   ],
   "source": [
    "# json.loads()\n",
    "import json\n",
    "\n",
    "with open('./dict_data.txt') as f:\n",
    "    str_data = f.read()\n",
    "    \n",
    "    print(str_data)\n",
    "\n",
    "    # str_data_double = str_data.replace('\\'', '\\\"')\n",
    "\n",
    "    # print(str_data_double)\n",
    "\n",
    "    data_list = json.loads(str_data)\n",
    "\n",
    "    print(type(data_list))"
   ]
  },
  {
   "cell_type": "code",
   "execution_count": null,
   "metadata": {},
   "outputs": [],
   "source": []
  }
 ],
 "metadata": {
  "kernelspec": {
   "display_name": "Python 3",
   "language": "python",
   "name": "python3"
  },
  "language_info": {
   "codemirror_mode": {
    "name": "ipython",
    "version": 3
   },
   "file_extension": ".py",
   "mimetype": "text/x-python",
   "name": "python",
   "nbconvert_exporter": "python",
   "pygments_lexer": "ipython3",
   "version": "3.12.0"
  }
 },
 "nbformat": 4,
 "nbformat_minor": 2
}
