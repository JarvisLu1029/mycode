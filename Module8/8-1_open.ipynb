{
 "cells": [
  {
   "cell_type": "markdown",
   "metadata": {},
   "source": [
    "##### open( ) 函式\n",
    "|\"r\"|\"a\"|\"w\"|\"x\"|\"t\"|\"b\"|\n",
    "|:--:|:--:|:--:|:--:|:--:|:--:|\n",
    "|read|append|write|create|text|binary|"
   ]
  },
  {
   "cell_type": "markdown",
   "metadata": {},
   "source": [
    "##### 讀取檔案 read( )"
   ]
  },
  {
   "cell_type": "code",
   "execution_count": 2,
   "metadata": {},
   "outputs": [
    {
     "name": "stdout",
     "output_type": "stream",
     "text": [
      "==================================================\n",
      "# 建立第一支 Python 程式\n",
      "\n",
      "# 宣告變數\n",
      "x = 1\n",
      "name = 'Alex'\n",
      "\n",
      "\n",
      "# 輸出變數\n",
      "print(x)\n",
      "print(name)\n",
      "\n",
      "==================================================\n"
     ]
    }
   ],
   "source": [
    "# 印出 50 個 等號\n",
    "print(\"=\" * 50)\n",
    "\n",
    "# 讀取檔案內容 - 現今常用的寫法 (執行完畢會自動關閉檔案)\n",
    "with open(file=\"../Module2/2-1.py\", mode=\"r\", encoding=\"utf-8\") as f:\n",
    "    doc = f.read()\n",
    "    print(doc)\n",
    "    # print(type(doc))\n",
    "    '''\n",
    "    當使用for循環遍歷文件的每一行時，文件的內容已經被完全讀取。\n",
    "    再次使用f.read()時，文件指針已經在文件的末尾，所以它會返回一個空字符串。\n",
    "    '''\n",
    "    # f.seek(0)\n",
    "    # print(f.read())\n",
    "\n",
    "# 印出 50 個 等號\n",
    "print(\"=\" * 50)\n",
    "\n",
    "\n"
   ]
  },
  {
   "cell_type": "code",
   "execution_count": null,
   "metadata": {},
   "outputs": [],
   "source": [
    "with open(file=\"../Module2/2-1.py\", mode=\"r\", encoding=\"utf-8\") as f:\n",
    "    for line in f:\n",
    "        print(line)"
   ]
  },
  {
   "cell_type": "code",
   "execution_count": 1,
   "metadata": {},
   "outputs": [
    {
     "name": "stdout",
     "output_type": "stream",
     "text": [
      "['# 建立第一支 Python 程式\\n', '\\n', '# 宣告變數\\n', 'x = 1\\n', \"name = 'Alex'\\n\", '\\n', '\\n', '# 輸出變數\\n', 'print(x)\\n', 'print(name)\\n']\n",
      "['# 建立第一支 Python 程式', '# 宣告變數', 'x = 1', \"name = 'Alex'\", '# 輸出變數', 'print(x)', 'print(name)']\n"
     ]
    }
   ],
   "source": [
    "# 資料處理\n",
    "\n",
    "with open(file=\"../Module2/2-1.py\", mode=\"r\", encoding=\"utf-8\") as f:\n",
    "    x = f.readlines()\n",
    "    print(x)\n",
    "    \n",
    "    while '\\n' in x:\n",
    "        x.remove('\\n')\n",
    "    \n",
    "    y = []\n",
    "    for i in x:\n",
    "        z = i.strip('\\n')\n",
    "        y.append(z)\n",
    "\n",
    "    # y = [i.strip('\\n') for i in x]\n",
    "    print(y)"
   ]
  },
  {
   "cell_type": "markdown",
   "metadata": {},
   "source": [
    "##### 寫入檔案 write( )"
   ]
  },
  {
   "cell_type": "code",
   "execution_count": null,
   "metadata": {},
   "outputs": [],
   "source": [
    "# 文字內容\n",
    "text = '''\n",
    "傑出的人會努力規劃自己的人生，普通的人則是隨便命運怎麼安排   \n",
    "一個是充實、有目的的過每一天，一個是隨興的過一天算一天\n",
    "'''\n",
    "\n",
    "# 寫入檔案\n",
    "with open(\"./8-2.txt\", 'w', encoding='utf-8') as f:\n",
    "    f.write(text + '\\n')\n",
    "\n",
    "# 寫入最後一行 (附加文字在檔案內容最後一行)\n",
    "# People say that success just happens to you. It doesn't!\n",
    "with open('./8-2.txt', 'w', encoding='utf-8') as f:\n",
    "    f.write(\"People say that success just happens to you. It doesn't!\" + \"\\n\")"
   ]
  }
 ],
 "metadata": {
  "kernelspec": {
   "display_name": "Python 3",
   "language": "python",
   "name": "python3"
  },
  "language_info": {
   "codemirror_mode": {
    "name": "ipython",
    "version": 3
   },
   "file_extension": ".py",
   "mimetype": "text/x-python",
   "name": "python",
   "nbconvert_exporter": "python",
   "pygments_lexer": "ipython3",
   "version": "3.9.13"
  }
 },
 "nbformat": 4,
 "nbformat_minor": 2
}
