{
 "cells": [
  {
   "cell_type": "markdown",
   "metadata": {},
   "source": [
    "##### 將 data.txt 的資料分類成另外三個檔案 cs.txt  cpp.txt  c.txt"
   ]
  },
  {
   "cell_type": "code",
   "execution_count": null,
   "metadata": {},
   "outputs": [],
   "source": []
  },
  {
   "cell_type": "code",
   "execution_count": null,
   "metadata": {},
   "outputs": [],
   "source": [
    "import random\n",
    "import string\n",
    "\n",
    "# 可能的文件名前綴和副檔名\n",
    "prefixes = ['abc01', 'abc02']\n",
    "extensions = ['.cs', '.cpp', '.c']\n",
    "\n",
    "# 生成20筆隨機資料\n",
    "random_data = []\n",
    "for _ in range(20):\n",
    "    random_prefix = random.choice(prefixes)\n",
    "    random_extension = random.choice(extensions)\n",
    "    random_number = str(random.randint(1, 99)).zfill(2)  # 隨機兩位數的數字，不足兩位補0\n",
    "    random_filename = f\"{random_prefix}{random_number}{random_extension}\"\n",
    "    random_data.append(random_filename)\n",
    "\n",
    "# 打印生成的隨機資料\n",
    "print(random_data)\n",
    "\n",
    "with open('./data.txt', 'w') as f:\n",
    "    for i in random_data:\n",
    "        f.write(i+'\\n')"
   ]
  }
 ],
 "metadata": {
  "kernelspec": {
   "display_name": "Python 3",
   "language": "python",
   "name": "python3"
  },
  "language_info": {
   "codemirror_mode": {
    "name": "ipython",
    "version": 3
   },
   "file_extension": ".py",
   "mimetype": "text/x-python",
   "name": "python",
   "nbconvert_exporter": "python",
   "pygments_lexer": "ipython3",
   "version": "3.9.13"
  }
 },
 "nbformat": 4,
 "nbformat_minor": 2
}
