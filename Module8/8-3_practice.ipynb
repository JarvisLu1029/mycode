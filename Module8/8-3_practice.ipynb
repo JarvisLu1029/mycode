{
 "cells": [
  {
   "cell_type": "markdown",
   "metadata": {},
   "source": [
    "##### 將 data.txt 的資料分類成另外三個檔案 cc.txt  css.txt  c.txt"
   ]
  },
  {
   "cell_type": "code",
   "execution_count": 2,
   "metadata": {},
   "outputs": [],
   "source": [
    "with open('./data.txt', 'r') as f:\n",
    "    filename_list = f.readlines()\n",
    "    \n",
    "    filename_list_without_n = [i.replace('\\n', '') for i in filename_list]\n",
    "    # print(data_list_without_n)\n",
    "\n",
    "    for filename in filename_list_without_n:\n",
    "        if filename[-3:] == 'css':\n",
    "            with open('./css.txt', 'a+') as f: # append\n",
    "                f.write(filename + '\\n')\n",
    "        elif filename[-2:] == 'cc':\n",
    "            with open('./cc.txt', 'a+') as f:\n",
    "                f.write(filename + '\\n')\n",
    "        else:\n",
    "            with open('./c.txt', 'a+')as f:\n",
    "                f.write(filename + '\\n')"
   ]
  },
  {
   "cell_type": "code",
   "execution_count": 1,
   "metadata": {},
   "outputs": [
    {
     "name": "stdout",
     "output_type": "stream",
     "text": [
      "['abc0182.cc', 'abc0102.cc', 'abc0281.cc', 'abc0134.c', 'abc0238.cc', 'abc0244.c', 'abc0157.css', 'abc0116.c', 'abc0245.cc', 'abc0187.cc', 'abc0202.c', 'abc0285.cc', 'abc0220.cc', 'abc0174.css', 'abc0140.c', 'abc0176.c', 'abc0174.css', 'abc0244.css', 'abc0289.css', 'abc0175.c']\n"
     ]
    }
   ],
   "source": [
    "import random\n",
    "import string\n",
    "\n",
    "# 可能的文件名前綴和副檔名\n",
    "prefixes = ['abc01', 'abc02']\n",
    "extensions = ['.css', '.cc', '.c']\n",
    "\n",
    "# 生成20筆隨機資料\n",
    "random_data = []\n",
    "for _ in range(20):\n",
    "    random_prefix = random.choice(prefixes)\n",
    "    random_extension = random.choice(extensions)\n",
    "    random_number = str(random.randint(1, 99)).zfill(2)  # 隨機兩位數的數字，不足兩位補0\n",
    "    random_filename = f\"{random_prefix}{random_number}{random_extension}\"\n",
    "    random_data.append(random_filename)\n",
    "\n",
    "# 打印生成的隨機資料\n",
    "print(random_data)\n",
    "\n",
    "with open('./data.txt', 'w') as f:\n",
    "    for i in random_data:\n",
    "        f.write(i+'\\n')"
   ]
  }
 ],
 "metadata": {
  "kernelspec": {
   "display_name": "Python 3",
   "language": "python",
   "name": "python3"
  },
  "language_info": {
   "codemirror_mode": {
    "name": "ipython",
    "version": 3
   },
   "file_extension": ".py",
   "mimetype": "text/x-python",
   "name": "python",
   "nbconvert_exporter": "python",
   "pygments_lexer": "ipython3",
   "version": "3.12.0"
  }
 },
 "nbformat": 4,
 "nbformat_minor": 2
}
