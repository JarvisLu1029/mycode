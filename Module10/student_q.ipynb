{
 "cells": [
  {
   "cell_type": "markdown",
   "metadata": {},
   "source": [
    "我們來做一個跳繩謠產生器，要印出一系列雙行歌謠。程式的開頭是"
   ]
  },
  {
   "cell_type": "code",
   "execution_count": 1,
   "metadata": {},
   "outputs": [
    {
     "name": "stdout",
     "output_type": "stream",
     "text": [
      "['Fee!', 'Fie!', 'Foe!']\n",
      "Fee! Fie! Foe! Flop!\n",
      "Someone better get a mop.\n",
      "Fee! Fie! Foe! Fope!\n",
      "Someone better turn a rope.\n",
      "Fee! Fie! Foe! Fa!\n",
      "Someone better get your ma.\n",
      "Fee! Fie! Foe! Fudge!\n",
      "Someone better call the judge.\n",
      "Fee! Fie! Foe! Fat!\n",
      "Someone better pet the cat.\n",
      "Fee! Fie! Foe! Fog!\n",
      "Someone better walk the dog.\n",
      "Fee! Fie! Foe! Fun!\n",
      "Someone better say we're done.\n"
     ]
    }
   ],
   "source": [
    "start1 = [\"fee\", \"fie\", \"foe\"]\n",
    "rhymes = [\n",
    "    (\"flop\", \"get a mop\"),\n",
    "    (\"fope\", \"turn a rope\"),\n",
    "    (\"fa\", \"get your ma\"),\n",
    "    (\"fudge\", \"call the judge\"),\n",
    "    (\"fat\", \"pet the cat\"),\n",
    "    (\"fog\", \"walk the dog\"),\n",
    "    (\"fun\", \"say we're done\"),\n",
    "]\n",
    "start2 = \"Someone better\"\n",
    "\n",
    "print([word.capitalize() + \"!\" for word in start1])\n",
    "\n",
    "start1_caps = \" \".join([word.capitalize() + \"!\" for word in start1])\n",
    "for first, second in rhymes:\n",
    "    print(f\"{start1_caps} {first.capitalize()}!\")\n",
    "    print(f\"{start2} {second}.\")"
   ]
  },
  {
   "cell_type": "code",
   "execution_count": 4,
   "metadata": {},
   "outputs": [
    {
     "data": {
      "text/plain": [
       "'This'"
      ]
     },
     "execution_count": 4,
     "metadata": {},
     "output_type": "execute_result"
    }
   ],
   "source": [
    "'this'.capitalize()"
   ]
  },
  {
   "cell_type": "code",
   "execution_count": 6,
   "metadata": {},
   "outputs": [
    {
     "name": "stdout",
     "output_type": "stream",
     "text": [
      "['Fee!', 'Fie!', 'Foe!']\n"
     ]
    }
   ],
   "source": [
    "start1_list = [ (word.capitalize() + \"!\") for word in start1]\n",
    "print(start1_list)"
   ]
  },
  {
   "cell_type": "code",
   "execution_count": 7,
   "metadata": {},
   "outputs": [
    {
     "name": "stdout",
     "output_type": "stream",
     "text": [
      "Fee! Fie! Foe!\n"
     ]
    }
   ],
   "source": [
    "x = \" \".join(start1_list)\n",
    "print(x)"
   ]
  },
  {
   "cell_type": "code",
   "execution_count": 8,
   "metadata": {},
   "outputs": [
    {
     "name": "stdout",
     "output_type": "stream",
     "text": [
      "{0: 0, 1: 1, 2: 4, 3: 9, 4: 16, 5: 25, 6: 36, 7: 49, 8: 64, 9: 81}\n"
     ]
    }
   ],
   "source": [
    "squares = {num: num*num for num in range(10)}\n",
    "print(squares)"
   ]
  },
  {
   "cell_type": "code",
   "execution_count": 13,
   "metadata": {},
   "outputs": [
    {
     "name": "stdout",
     "output_type": "stream",
     "text": [
      "{0: 0, 1: 1, 2: 4, 3: 9, 4: 16, 5: 25, 6: 36, 7: 49, 8: 64, 9: 81}\n"
     ]
    }
   ],
   "source": [
    "squares = {}\n",
    "for i in range(10):\n",
    "    squares[i] = i * i\n",
    "    \n",
    "print(squares)"
   ]
  },
  {
   "cell_type": "code",
   "execution_count": 10,
   "metadata": {},
   "outputs": [
    {
     "name": "stdout",
     "output_type": "stream",
     "text": [
      "False\n",
      "False\n",
      "False\n",
      "False\n",
      "False\n",
      "False\n",
      "False\n",
      "False\n",
      "False\n",
      "False\n",
      "{}\n"
     ]
    }
   ],
   "source": [
    "squares = {}\n",
    "for i in range(10):\n",
    "    print(squares.keys() == i)\n",
    "    squares.values() == i\n",
    "print(squares)"
   ]
  }
 ],
 "metadata": {
  "kernelspec": {
   "display_name": "Python 3",
   "language": "python",
   "name": "python3"
  },
  "language_info": {
   "codemirror_mode": {
    "name": "ipython",
    "version": 3
   },
   "file_extension": ".py",
   "mimetype": "text/x-python",
   "name": "python",
   "nbconvert_exporter": "python",
   "pygments_lexer": "ipython3",
   "version": "3.12.0"
  }
 },
 "nbformat": 4,
 "nbformat_minor": 2
}
