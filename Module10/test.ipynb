{
 "cells": [
  {
   "cell_type": "code",
   "execution_count": 1,
   "metadata": {},
   "outputs": [
    {
     "name": "stdout",
     "output_type": "stream",
     "text": [
      "23:57:17\n",
      "23:57:17\n",
      "23:57:18\n",
      "23:57:18\n",
      "23:57:18\n",
      "23:57:19\n",
      "23:57:19\n",
      "23:57:20\n",
      "365 ms ± 11.5 ms per loop (mean ± std. dev. of 7 runs, 1 loop each)\n"
     ]
    }
   ],
   "source": [
    "# %%time # 用於測量大區塊程式碼執行的時間 (只執行一次)\n",
    "# %%timeit # 用於測量小區塊程式碼 (執行多次 計算平均執行時間及標準差)\n",
    "\n",
    "from datetime import datetime\n",
    "\n",
    "start_time = datetime.now().strftime('%H:%M:%S')\n",
    "print(start_time)\n",
    "\n",
    "list1 = []\n",
    "for i in range(1, 10010000):\n",
    "    list1.append(i)\n",
    "\n",
    "end_time = datetime.now()\n",
    "\n",
    "# exec_time = end_time - start_time\n",
    "\n",
    "# print(type(exec_time))\n",
    "# print(exec_time)"
   ]
  },
  {
   "cell_type": "code",
   "execution_count": 2,
   "metadata": {},
   "outputs": [
    {
     "name": "stdout",
     "output_type": "stream",
     "text": [
      "Collecting pytz\n",
      "  Obtaining dependency information for pytz from https://files.pythonhosted.org/packages/32/4d/aaf7eff5deb402fd9a24a1449a8119f00d74ae9c2efa79f8ef9994261fc2/pytz-2023.3.post1-py2.py3-none-any.whl.metadata\n",
      "  Downloading pytz-2023.3.post1-py2.py3-none-any.whl.metadata (22 kB)\n",
      "Downloading pytz-2023.3.post1-py2.py3-none-any.whl (502 kB)\n",
      "   ---------------------------------------- 0.0/502.5 kB ? eta -:--:--\n",
      "   --- ----------------------------------- 41.0/502.5 kB 991.0 kB/s eta 0:00:01\n",
      "   --------- ------------------------------ 122.9/502.5 kB 1.8 MB/s eta 0:00:01\n",
      "   ---------------------- ----------------- 286.7/502.5 kB 2.5 MB/s eta 0:00:01\n",
      "   ---------------------------------------  501.8/502.5 kB 3.5 MB/s eta 0:00:01\n",
      "   ---------------------------------------- 502.5/502.5 kB 3.2 MB/s eta 0:00:00\n",
      "Installing collected packages: pytz\n",
      "Successfully installed pytz-2023.3.post1\n"
     ]
    },
    {
     "name": "stderr",
     "output_type": "stream",
     "text": [
      "\n",
      "[notice] A new release of pip is available: 23.2.1 -> 23.3.1\n",
      "[notice] To update, run: python.exe -m pip install --upgrade pip\n"
     ]
    }
   ],
   "source": [
    "!pip install pytz"
   ]
  },
  {
   "cell_type": "code",
   "execution_count": 4,
   "metadata": {},
   "outputs": [
    {
     "name": "stdout",
     "output_type": "stream",
     "text": [
      "2023-11-10 AM 12:02:14 Fri \n",
      "['2023-11-10', 'AM', '12:02:14', 'Fri', '']\n",
      "<class 'datetime.datetime'>\n",
      "<class 'str'>\n",
      "2023-11-09 00:02:14.959114\n"
     ]
    }
   ],
   "source": [
    "import pytz\n",
    "from datetime import datetime, timedelta\n",
    "\n",
    "taipei_tz = pytz.timezone('Asia/Taipei')\n",
    "\n",
    "taiwan_time = datetime.now(taipei_tz)\n",
    "\n",
    "# 找到前一天日期\n",
    "yesterday_time = datetime.now() - timedelta(days=1) \n",
    "\n",
    "taiwan_time_s = taiwan_time.strftime('%Y-%m-%d %p %I:%M:%S %a ')\n",
    "\n",
    "print(taiwan_time_s)\n",
    "\n",
    "time_list = taiwan_time_s.split(' ')\n",
    "print(time_list)\n",
    "print(type(taiwan_time))\n",
    "print(type(taiwan_time_s))\n",
    "\n",
    "print(yesterday_time)"
   ]
  },
  {
   "cell_type": "code",
   "execution_count": 4,
   "metadata": {},
   "outputs": [
    {
     "name": "stdout",
     "output_type": "stream",
     "text": [
      "a > 5\n"
     ]
    }
   ],
   "source": [
    "a = 10\n",
    "match a:\n",
    "    case 5:\n",
    "        print('a < 5')\n",
    "    case 10:\n",
    "        print('a > 5')"
   ]
  },
  {
   "cell_type": "code",
   "execution_count": 14,
   "metadata": {},
   "outputs": [
    {
     "name": "stdout",
     "output_type": "stream",
     "text": [
      "Help on method_descriptor:\n",
      "\n",
      "split(self, /, sep=None, maxsplit=-1)\n",
      "    Return a list of the substrings in the string, using sep as the separator string.\n",
      "\n",
      "      sep\n",
      "        The separator used to split the string.\n",
      "\n",
      "        When set to None (the default value), will split on any whitespace\n",
      "        character (including \\n \\r \\t \\f and spaces) and will discard\n",
      "        empty strings from the result.\n",
      "      maxsplit\n",
      "        Maximum number of splits (starting from the left).\n",
      "        -1 (the default value) means no limit.\n",
      "\n",
      "    Note, str.split() is mainly useful for data that has been intentionally\n",
      "    delimited.  With natural text that includes punctuation, consider using\n",
      "    the regular expression module.\n",
      "\n"
     ]
    }
   ],
   "source": [
    "help(str.split)"
   ]
  },
  {
   "cell_type": "code",
   "execution_count": null,
   "metadata": {},
   "outputs": [],
   "source": []
  }
 ],
 "metadata": {
  "kernelspec": {
   "display_name": "Python 3",
   "language": "python",
   "name": "python3"
  },
  "language_info": {
   "codemirror_mode": {
    "name": "ipython",
    "version": 3
   },
   "file_extension": ".py",
   "mimetype": "text/x-python",
   "name": "python",
   "nbconvert_exporter": "python",
   "pygments_lexer": "ipython3",
   "version": "3.12.0"
  }
 },
 "nbformat": 4,
 "nbformat_minor": 2
}
