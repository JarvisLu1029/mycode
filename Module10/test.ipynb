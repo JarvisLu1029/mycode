{
 "cells": [
  {
   "cell_type": "code",
   "execution_count": 1,
   "metadata": {},
   "outputs": [
    {
     "name": "stdout",
     "output_type": "stream",
     "text": [
      "23:57:17\n",
      "23:57:17\n",
      "23:57:18\n",
      "23:57:18\n",
      "23:57:18\n",
      "23:57:19\n",
      "23:57:19\n",
      "23:57:20\n",
      "365 ms ± 11.5 ms per loop (mean ± std. dev. of 7 runs, 1 loop each)\n"
     ]
    }
   ],
   "source": [
    "# %%time # 用於測量大區塊程式碼執行的時間 (只執行一次)\n",
    "# %%timeit # 用於測量小區塊程式碼 (執行多次 計算平均執行時間及標準差)\n",
    "\n",
    "from datetime import datetime\n",
    "\n",
    "start_time = datetime.now().strftime('%H:%M:%S')\n",
    "print(start_time)\n",
    "\n",
    "list1 = []\n",
    "for i in range(1, 10010000):\n",
    "    list1.append(i)\n",
    "\n",
    "end_time = datetime.now()\n",
    "\n",
    "# exec_time = end_time - start_time\n",
    "\n",
    "# print(type(exec_time))\n",
    "# print(exec_time)"
   ]
  },
  {
   "cell_type": "code",
   "execution_count": 2,
   "metadata": {},
   "outputs": [
    {
     "name": "stdout",
     "output_type": "stream",
     "text": [
      "Collecting pytz\n",
      "  Obtaining dependency information for pytz from https://files.pythonhosted.org/packages/32/4d/aaf7eff5deb402fd9a24a1449a8119f00d74ae9c2efa79f8ef9994261fc2/pytz-2023.3.post1-py2.py3-none-any.whl.metadata\n",
      "  Downloading pytz-2023.3.post1-py2.py3-none-any.whl.metadata (22 kB)\n",
      "Downloading pytz-2023.3.post1-py2.py3-none-any.whl (502 kB)\n",
      "   ---------------------------------------- 0.0/502.5 kB ? eta -:--:--\n",
      "   --- ----------------------------------- 41.0/502.5 kB 991.0 kB/s eta 0:00:01\n",
      "   --------- ------------------------------ 122.9/502.5 kB 1.8 MB/s eta 0:00:01\n",
      "   ---------------------- ----------------- 286.7/502.5 kB 2.5 MB/s eta 0:00:01\n",
      "   ---------------------------------------  501.8/502.5 kB 3.5 MB/s eta 0:00:01\n",
      "   ---------------------------------------- 502.5/502.5 kB 3.2 MB/s eta 0:00:00\n",
      "Installing collected packages: pytz\n",
      "Successfully installed pytz-2023.3.post1\n"
     ]
    },
    {
     "name": "stderr",
     "output_type": "stream",
     "text": [
      "\n",
      "[notice] A new release of pip is available: 23.2.1 -> 23.3.1\n",
      "[notice] To update, run: python.exe -m pip install --upgrade pip\n"
     ]
    }
   ],
   "source": [
    "!pip install pytz"
   ]
  },
  {
   "cell_type": "code",
   "execution_count": 4,
   "metadata": {},
   "outputs": [
    {
     "name": "stdout",
     "output_type": "stream",
     "text": [
      "2023-11-10 AM 12:02:14 Fri \n",
      "['2023-11-10', 'AM', '12:02:14', 'Fri', '']\n",
      "<class 'datetime.datetime'>\n",
      "<class 'str'>\n",
      "2023-11-09 00:02:14.959114\n"
     ]
    }
   ],
   "source": [
    "import pytz\n",
    "from datetime import datetime, timedelta\n",
    "\n",
    "taipei_tz = pytz.timezone('Asia/Taipei')\n",
    "\n",
    "taiwan_time = datetime.now(taipei_tz)\n",
    "\n",
    "# 找到前一天日期\n",
    "yesterday_time = datetime.now() - timedelta(days=1) \n",
    "\n",
    "taiwan_time_s = taiwan_time.strftime('%Y-%m-%d %p %I:%M:%S %a ')\n",
    "\n",
    "print(taiwan_time_s)\n",
    "\n",
    "time_list = taiwan_time_s.split(' ')\n",
    "print(time_list)\n",
    "print(type(taiwan_time))\n",
    "print(type(taiwan_time_s))\n",
    "\n",
    "print(yesterday_time)"
   ]
  },
  {
   "cell_type": "code",
   "execution_count": 4,
   "metadata": {},
   "outputs": [
    {
     "name": "stdout",
     "output_type": "stream",
     "text": [
      "a > 5\n"
     ]
    }
   ],
   "source": [
    "a = 10\n",
    "match a:\n",
    "    case 5:\n",
    "        print('a < 5')\n",
    "    case 10:\n",
    "        print('a > 5')"
   ]
  },
  {
   "cell_type": "code",
   "execution_count": 14,
   "metadata": {},
   "outputs": [
    {
     "name": "stdout",
     "output_type": "stream",
     "text": [
      "Help on method_descriptor:\n",
      "\n",
      "split(self, /, sep=None, maxsplit=-1)\n",
      "    Return a list of the substrings in the string, using sep as the separator string.\n",
      "\n",
      "      sep\n",
      "        The separator used to split the string.\n",
      "\n",
      "        When set to None (the default value), will split on any whitespace\n",
      "        character (including \\n \\r \\t \\f and spaces) and will discard\n",
      "        empty strings from the result.\n",
      "      maxsplit\n",
      "        Maximum number of splits (starting from the left).\n",
      "        -1 (the default value) means no limit.\n",
      "\n",
      "    Note, str.split() is mainly useful for data that has been intentionally\n",
      "    delimited.  With natural text that includes punctuation, consider using\n",
      "    the regular expression module.\n",
      "\n"
     ]
    }
   ],
   "source": [
    "help(str.split)"
   ]
  },
  {
   "cell_type": "code",
   "execution_count": 20,
   "metadata": {},
   "outputs": [
    {
     "name": "stdout",
     "output_type": "stream",
     "text": [
      "<class 'type'>\n",
      "10\n",
      "Y\n",
      "100\n",
      "XD\n",
      "<class '__main__.Car'>\n"
     ]
    }
   ],
   "source": [
    "class Car:\n",
    "    wheels = 4\n",
    "\n",
    "    def __init__(self, a):\n",
    "        self.brand = a\n",
    "\n",
    "    def info(x, y):\n",
    "        # print(x)\n",
    "        print(x.brand)\n",
    "        print(y)\n",
    "        print('XD')\n",
    "\n",
    "x = Car\n",
    "x.wheels = 10\n",
    "print(type(x))\n",
    "\n",
    "y = Car('Y')\n",
    "print(y.wheels)\n",
    "y.info(100)\n",
    "\n",
    "print(type(y))"
   ]
  },
  {
   "cell_type": "code",
   "execution_count": 1,
   "metadata": {},
   "outputs": [
    {
     "name": "stdout",
     "output_type": "stream",
     "text": [
      "Collecting requests\n",
      "  Obtaining dependency information for requests from https://files.pythonhosted.org/packages/70/8e/0e2d847013cb52cd35b38c009bb167a1a26b2ce6cd6965bf26b47bc0bf44/requests-2.31.0-py3-none-any.whl.metadata\n",
      "  Downloading requests-2.31.0-py3-none-any.whl.metadata (4.6 kB)\n",
      "Collecting charset-normalizer<4,>=2 (from requests)\n",
      "  Obtaining dependency information for charset-normalizer<4,>=2 from https://files.pythonhosted.org/packages/b6/7c/8debebb4f90174074b827c63242c23851bdf00a532489fba57fef3416e40/charset_normalizer-3.3.2-cp312-cp312-win_amd64.whl.metadata\n",
      "  Downloading charset_normalizer-3.3.2-cp312-cp312-win_amd64.whl.metadata (34 kB)\n",
      "Collecting idna<4,>=2.5 (from requests)\n",
      "  Using cached idna-3.4-py3-none-any.whl (61 kB)\n",
      "Collecting urllib3<3,>=1.21.1 (from requests)\n",
      "  Obtaining dependency information for urllib3<3,>=1.21.1 from https://files.pythonhosted.org/packages/d2/b2/b157855192a68541a91ba7b2bbcb91f1b4faa51f8bae38d8005c034be524/urllib3-2.0.7-py3-none-any.whl.metadata\n",
      "  Downloading urllib3-2.0.7-py3-none-any.whl.metadata (6.6 kB)\n",
      "Collecting certifi>=2017.4.17 (from requests)\n",
      "  Obtaining dependency information for certifi>=2017.4.17 from https://files.pythonhosted.org/packages/4c/dd/2234eab22353ffc7d94e8d13177aaa050113286e93e7b40eae01fbf7c3d9/certifi-2023.7.22-py3-none-any.whl.metadata\n",
      "  Downloading certifi-2023.7.22-py3-none-any.whl.metadata (2.2 kB)\n",
      "Downloading requests-2.31.0-py3-none-any.whl (62 kB)\n",
      "   ---------------------------------------- 0.0/62.6 kB ? eta -:--:--\n",
      "   ---------------------------------------- 62.6/62.6 kB 3.3 MB/s eta 0:00:00\n",
      "Downloading certifi-2023.7.22-py3-none-any.whl (158 kB)\n",
      "   ---------------------------------------- 0.0/158.3 kB ? eta -:--:--\n",
      "   ---------------------------- ----------- 112.6/158.3 kB 6.4 MB/s eta 0:00:01\n",
      "   ---------------------------------------- 158.3/158.3 kB 3.2 MB/s eta 0:00:00\n",
      "Downloading charset_normalizer-3.3.2-cp312-cp312-win_amd64.whl (100 kB)\n",
      "   ---------------------------------------- 0.0/100.4 kB ? eta -:--:--\n",
      "   ---------------------------------------- 100.4/100.4 kB 6.0 MB/s eta 0:00:00\n",
      "Downloading urllib3-2.0.7-py3-none-any.whl (124 kB)\n",
      "   ---------------------------------------- 0.0/124.2 kB ? eta -:--:--\n",
      "   ---------------------------------------- 124.2/124.2 kB ? eta 0:00:00\n",
      "Installing collected packages: urllib3, idna, charset-normalizer, certifi, requests\n",
      "Successfully installed certifi-2023.7.22 charset-normalizer-3.3.2 idna-3.4 requests-2.31.0 urllib3-2.0.7\n"
     ]
    },
    {
     "name": "stderr",
     "output_type": "stream",
     "text": [
      "\n",
      "[notice] A new release of pip is available: 23.2.1 -> 23.3.1\n",
      "[notice] To update, run: python.exe -m pip install --upgrade pip\n"
     ]
    }
   ],
   "source": [
    "!pip install requests"
   ]
  },
  {
   "cell_type": "code",
   "execution_count": 15,
   "metadata": {},
   "outputs": [
    {
     "name": "stdout",
     "output_type": "stream",
     "text": [
      "{'data': [{'designation': '419880 (2011 AH37)',\n",
      "           'discovery_date': '2011-01-07',\n",
      "           'discovery_timestamp': 1294358400,\n",
      "           'h_mag': '19.7',\n",
      "           'i_deg': '9.65',\n",
      "           'moid_au': '0.035',\n",
      "           'orbit_class': 'Apollo',\n",
      "           'period_yr': '4.06',\n",
      "           'pha': 'Y',\n",
      "           'q_au_1': '0.84',\n",
      "           'q_au_2': '4.26'},\n",
      "          {'designation': '419624 (2010 SO16)',\n",
      "           'discovery_date': '2010-09-17',\n",
      "           'discovery_timestamp': 1284681600,\n",
      "           'h_mag': '20.5',\n",
      "           'i_deg': '14.52',\n",
      "           'moid_au': '0.028',\n",
      "           'orbit_class': 'Apollo',\n",
      "           'period_yr': '1',\n",
      "           'pha': 'Y',\n",
      "           'q_au_1': '0.93',\n",
      "           'q_au_2': '1.08'},\n",
      "          {'designation': '414772 (2010 OC103)',\n",
      "           'discovery_date': '2010-07-28',\n",
      "           'discovery_timestamp': 1280275200,\n",
      "           'h_mag': '19',\n",
      "           'i_deg': '23.11',\n",
      "           'moid_au': '0.333',\n",
      "           'orbit_class': 'Apollo',\n",
      "           'period_yr': '1.31',\n",
      "           'pha': 'N',\n",
      "           'q_au_1': '0.39',\n",
      "           'q_au_2': '2'},\n",
      "          {'designation': '414746 (2010 EH20)',\n",
      "           'discovery_date': '2010-03-06',\n",
      "           'discovery_timestamp': 1267833600,\n",
      "           'h_mag': '18',\n",
      "           'i_deg': '23.89',\n",
      "           'moid_au': '0.268',\n",
      "           'orbit_class': 'Amor',\n",
      "           'period_yr': '4.24',\n",
      "           'pha': 'N',\n",
      "           'q_au_1': '1.25',\n",
      "           'q_au_2': '3.99'},\n",
      "          {'designation': '407324 (2010 OB101)',\n",
      "           'discovery_date': '2010-07-18',\n",
      "           'discovery_timestamp': 1279411200,\n",
      "           'h_mag': '20.7',\n",
      "           'i_deg': '9.12',\n",
      "           'moid_au': '0.111',\n",
      "           'orbit_class': 'Apollo',\n",
      "           'period_yr': '2.06',\n",
      "           'pha': 'N',\n",
      "           'q_au_1': '0.77',\n",
      "           'q_au_2': '2.46'},\n",
      "          {'designation': '398188 (2010 LE15)',\n",
      "           'discovery_date': '2010-06-03',\n",
      "           'discovery_timestamp': 1275523200,\n",
      "           'h_mag': '19.5',\n",
      "           'i_deg': '13.25',\n",
      "           'moid_au': '0.024',\n",
      "           'orbit_class': 'Aten',\n",
      "           'period_yr': '0.8',\n",
      "           'pha': 'Y',\n",
      "           'q_au_1': '0.63',\n",
      "           'q_au_2': '1.1'},\n",
      "          {'designation': '395207 (2010 HQ80)',\n",
      "           'discovery_date': '2010-04-25',\n",
      "           'discovery_timestamp': 1272153600,\n",
      "           'h_mag': '19.6',\n",
      "           'i_deg': '27.85',\n",
      "           'moid_au': '0.007',\n",
      "           'orbit_class': 'Apollo',\n",
      "           'period_yr': '1.96',\n",
      "           'pha': 'Y',\n",
      "           'q_au_1': '0.8',\n",
      "           'q_au_2': '2.34'},\n",
      "          {'designation': '386847 (2010 LR33)',\n",
      "           'discovery_date': '2010-06-06',\n",
      "           'discovery_timestamp': 1275782400,\n",
      "           'h_mag': '18',\n",
      "           'i_deg': '5.84',\n",
      "           'moid_au': '0.029',\n",
      "           'orbit_class': 'Apollo',\n",
      "           'period_yr': '2.2',\n",
      "           'pha': 'Y',\n",
      "           'q_au_1': '0.91',\n",
      "           'q_au_2': '2.48'},\n",
      "          {'designation': '381989 (2010 HR80)',\n",
      "           'discovery_date': '2010-04-28',\n",
      "           'discovery_timestamp': 1272412800,\n",
      "           'h_mag': '19.9',\n",
      "           'i_deg': '26.71',\n",
      "           'moid_au': '0.104',\n",
      "           'orbit_class': 'Apollo',\n",
      "           'period_yr': '1.56',\n",
      "           'pha': 'N',\n",
      "           'q_au_1': '0.68',\n",
      "           'q_au_2': '2.02'},\n",
      "          {'designation': '369454 (2010 NZ1)',\n",
      "           'discovery_date': '2010-07-09',\n",
      "           'discovery_timestamp': 1278633600,\n",
      "           'h_mag': '19.4',\n",
      "           'i_deg': '32.78',\n",
      "           'moid_au': '0.275',\n",
      "           'orbit_class': 'Apollo',\n",
      "           'period_yr': '1.61',\n",
      "           'pha': 'N',\n",
      "           'q_au_1': '0.49',\n",
      "           'q_au_2': '2.26'}],\n",
      " 'page': None,\n",
      " 'per_page': 10,\n",
      " 'total': 202,\n",
      " 'total_pages': 21}\n"
     ]
    }
   ],
   "source": [
    "import requests\n",
    "from pprint import pprint\n",
    "\n",
    "x = requests.get('https://jsonmock.hackerrank.com/api/asteroids/search?parameter={keyword}&page={page_no}')\n",
    "data = x.json()\n",
    "\n",
    "# pprint(data)\n",
    "# print(len(data['data']))\n",
    "pprint(data)"
   ]
  },
  {
   "cell_type": "code",
   "execution_count": null,
   "metadata": {},
   "outputs": [],
   "source": []
  }
 ],
 "metadata": {
  "kernelspec": {
   "display_name": "Python 3",
   "language": "python",
   "name": "python3"
  },
  "language_info": {
   "codemirror_mode": {
    "name": "ipython",
    "version": 3
   },
   "file_extension": ".py",
   "mimetype": "text/x-python",
   "name": "python",
   "nbconvert_exporter": "python",
   "pygments_lexer": "ipython3",
   "version": "3.12.0"
  }
 },
 "nbformat": 4,
 "nbformat_minor": 2
}
