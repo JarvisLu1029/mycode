{
 "cells": [
  {
   "cell_type": "code",
   "execution_count": 10,
   "metadata": {},
   "outputs": [
    {
     "name": "stdout",
     "output_type": "stream",
     "text": [
      "('P001', 'DBM')\n"
     ]
    }
   ],
   "source": [
    "import sqlite3\n",
    "\n",
    "connection = sqlite3.connect('my_database.db')\n",
    "\n",
    "cursor = connection.cursor()\n",
    "cursor.execute('select * from projects')\n",
    "\n",
    "print(next(cursor))\n",
    "# for i in cursor:\n",
    "    # print(i)"
   ]
  },
  {
   "cell_type": "code",
   "execution_count": 11,
   "metadata": {},
   "outputs": [
    {
     "name": "stdout",
     "output_type": "stream",
     "text": [
      "('P002', 'MISM')\n"
     ]
    }
   ],
   "source": [
    "print(next(cursor))"
   ]
  },
  {
   "cell_type": "code",
   "execution_count": 51,
   "metadata": {},
   "outputs": [],
   "source": [
    "import sqlite3\n",
    "class sqlite_query():\n",
    "    def __init__(self, database):\n",
    "        self.connection = sqlite3.connect(database)\n",
    "        self.cursor = self.connection.cursor()\n",
    "    \n",
    "    def search_query(self, sql):\n",
    "        self.cursor.execute(sql)\n",
    "        \n",
    "        result = self.cursor.fetchall()\n",
    " \n",
    "        return result\n",
    "\n",
    "    def commit_query(self, sql):\n",
    "        self.cursor.execute(sql)\n",
    "        self.connection.commit()\n",
    "        \n",
    "    def insert_project(self, project_id, name):\n",
    "        sql = f'''\n",
    "            INSERT INTO projects (project_id, name) VALUES (?, ?)\n",
    "        '''\n",
    "        self.cursor.execute(sql, (project_id, name))\n",
    "        self.connection.commit()\n",
    "    \n",
    "    def insert_staff(self, staff_id, name, phone_number):\n",
    "        sql = f'''\n",
    "            INSERT INTO staffs (staff_id, name, phone_num) VALUES (?, ?, ?)\n",
    "        '''\n",
    "        self.cursor.execute(sql, (staff_id, name, phone_number))\n",
    "        self.connection.commit()\n",
    "\n",
    "    def insert_performance(self, staff_id, project_id, score):\n",
    "        sql = f'''\n",
    "            INSERT INTO performance (staff_id, project_id, score) VALUES (?, ?, ?)\n",
    "        '''\n",
    "        self.cursor.execute(sql, (staff_id, project_id, score))\n",
    "        self.connection.commit()"
   ]
  },
  {
   "cell_type": "code",
   "execution_count": 52,
   "metadata": {},
   "outputs": [],
   "source": [
    "my_database = sqlite_query('my_database.db')"
   ]
  },
  {
   "cell_type": "code",
   "execution_count": 35,
   "metadata": {},
   "outputs": [
    {
     "name": "stdout",
     "output_type": "stream",
     "text": [
      "[('P001', 'DBM'), ('P002', 'MISM'), ('P003', 'SAP')]\n"
     ]
    }
   ],
   "source": [
    "x = my_database.search_query('SELECT * FROM projects')\n",
    "print(x)"
   ]
  },
  {
   "cell_type": "code",
   "execution_count": 23,
   "metadata": {},
   "outputs": [],
   "source": [
    "import sqlite3\n",
    "\n",
    "connection = sqlite3.connect('my_database.db')\n",
    "\n",
    "cursor = connection.cursor()\n",
    "\n",
    "sql = f'''\n",
    "CREATE TABLE IF NOT EXISTS projects (\n",
    "    project_id TEXT PRIMARY KEY,\n",
    "    name TEXT NOT NULL\n",
    ")\n",
    "'''\n",
    "cursor.execute(sql)\n",
    "\n",
    "connection.commit()\n",
    "\n",
    "cursor.close()\n",
    "connection.close()\n"
   ]
  },
  {
   "cell_type": "code",
   "execution_count": 36,
   "metadata": {},
   "outputs": [],
   "source": [
    "import sqlite3\n",
    "\n",
    "connection = sqlite3.connect('my_database.db')\n",
    "\n",
    "cursor = connection.cursor()\n",
    "\n",
    "sql = f'''\n",
    "CREATE TABLE IF NOT EXISTS staffs (\n",
    "    staff_id TEXT PRIMARY KEY,\n",
    "    name TEXT NOT NULL,\n",
    "    phone_num INT \n",
    ")\n",
    "'''\n",
    "cursor.execute(sql)\n",
    "\n",
    "connection.commit()\n",
    "\n",
    "cursor.close()\n",
    "connection.close()\n"
   ]
  },
  {
   "cell_type": "code",
   "execution_count": 46,
   "metadata": {},
   "outputs": [],
   "source": [
    "import sqlite3\n",
    "\n",
    "connection = sqlite3.connect('my_database.db')\n",
    "\n",
    "cursor = connection.cursor()\n",
    "\n",
    "sql = f'''\n",
    "CREATE TABLE IF NOT EXISTS performance (\n",
    "    staff_id TEXT,\n",
    "    project_id TEXT,\n",
    "    score INT \n",
    ")\n",
    "'''\n",
    "cursor.execute(sql)\n",
    "\n",
    "connection.commit()\n",
    "\n",
    "cursor.close()\n",
    "connection.close()\n"
   ]
  },
  {
   "cell_type": "code",
   "execution_count": 31,
   "metadata": {},
   "outputs": [],
   "source": [
    "my_database.insert_project('P001', 'DBM')\n",
    "my_database.insert_project('P002', 'MISM')\n",
    "my_database.insert_project('P003', 'SAP')"
   ]
  },
  {
   "cell_type": "code",
   "execution_count": 45,
   "metadata": {},
   "outputs": [],
   "source": [
    "my_database.insert_staff('E001', '張八', 111111111)\n",
    "my_database.insert_staff('E002', '李七', 222222222)\n",
    "my_database.insert_staff('E003', '王六', 333333333)"
   ]
  },
  {
   "cell_type": "code",
   "execution_count": 56,
   "metadata": {},
   "outputs": [],
   "source": [
    "my_database.insert_staff('E004', '李五', 444444444)\n",
    "my_database.insert_staff('E005', '蕭四', 555555555)\n",
    "my_database.insert_staff('E006', '劉三', 666666666)"
   ]
  },
  {
   "cell_type": "code",
   "execution_count": 53,
   "metadata": {},
   "outputs": [],
   "source": [
    "my_database.insert_performance('E001', 'P001', 70)\n",
    "my_database.insert_performance('E001', 'P002', 80)"
   ]
  },
  {
   "cell_type": "code",
   "execution_count": 57,
   "metadata": {},
   "outputs": [],
   "source": [
    "my_database.insert_performance('E001', 'P003', 50)\n",
    "my_database.insert_performance('E002', 'P001', 50)\n",
    "my_database.insert_performance('E003', 'P001', 80)\n",
    "my_database.insert_performance('E003', 'P001', 90)\n",
    "my_database.insert_performance('E003', 'P002', 60)\n",
    "my_database.insert_performance('E003', 'P003', 40)\n",
    "my_database.insert_performance('E004', 'P001', 80)\n",
    "my_database.insert_performance('E004', 'P002', 95)\n",
    "my_database.insert_performance('E005', 'P001', 30)\n",
    "my_database.insert_performance('E006', 'P001', 75)"
   ]
  },
  {
   "cell_type": "code",
   "execution_count": 55,
   "metadata": {},
   "outputs": [
    {
     "name": "stdout",
     "output_type": "stream",
     "text": [
      "[('E001', 'P001', 70, '張八'), ('E001', 'P002', 80, '張八')]\n"
     ]
    }
   ],
   "source": [
    "sql = f'''\n",
    "SELECT PE.*, S.name FROM performance AS PE\n",
    "JOIN staffs AS S ON S.staff_id = PE.staff_id\n",
    "'''\n",
    "x = my_database.search_query(sql)\n",
    "print(x)"
   ]
  }
 ],
 "metadata": {
  "kernelspec": {
   "display_name": "Python 3",
   "language": "python",
   "name": "python3"
  },
  "language_info": {
   "codemirror_mode": {
    "name": "ipython",
    "version": 3
   },
   "file_extension": ".py",
   "mimetype": "text/x-python",
   "name": "python",
   "nbconvert_exporter": "python",
   "pygments_lexer": "ipython3",
   "version": "3.10.12"
  }
 },
 "nbformat": 4,
 "nbformat_minor": 2
}
