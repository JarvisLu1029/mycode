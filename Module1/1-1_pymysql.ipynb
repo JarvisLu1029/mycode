{
 "cells": [
  {
   "cell_type": "markdown",
   "metadata": {},
   "source": [
    "##### MySQL 連線 - pymysql"
   ]
  },
  {
   "cell_type": "markdown",
   "metadata": {},
   "source": [
    "| 取得筆數 | cursor method |\n",
    "|:---:|:---:|\n",
    "| 單筆 | .fetchone( ) |\n",
    "| 全部 | .fetchall( ) |\n",
    "| 指定數量 | .fetchmany(size=10) |"
   ]
  },
  {
   "cell_type": "code",
   "execution_count": 2,
   "metadata": {},
   "outputs": [
    {
     "name": "stdout",
     "output_type": "stream",
     "text": [
      "<class 'pymysql.connections.Connection'>\n"
     ]
    }
   ],
   "source": [
    "import pymysql\n",
    "\n",
    "# 建立資料庫連線\n",
    "connection = pymysql.connect(\n",
    "    host='localhost',\n",
    "    user='root',\n",
    "    password='4321toor',\n",
    "    port=3307,\n",
    "    # cursorclass=pymysql.cursors.DictCursor\n",
    "    )\n",
    "\n",
    "print(type(connection))"
   ]
  },
  {
   "cell_type": "code",
   "execution_count": 7,
   "metadata": {},
   "outputs": [
    {
     "name": "stdout",
     "output_type": "stream",
     "text": [
      "<pymysql.cursors.Cursor object at 0x7f3c775a4eb0>\n",
      "('information_schema',)\n",
      "('mysql',)\n",
      "('performance_schema',)\n",
      "('sys',)\n",
      "('testdb',)\n"
     ]
    }
   ],
   "source": [
    "# cursor.fetchone()\n",
    "with connection.cursor() as cursor:\n",
    "    sql = f'''\n",
    "        SHOW DATABASES;\n",
    "        '''\n",
    "    cursor.execute(sql)\n",
    "\n",
    "    print(cursor)\n",
    "    if cursor:\n",
    "        for i in cursor:\n",
    "            print(i)\n",
    "\n",
    "# print(result)\n"
   ]
  },
  {
   "cell_type": "code",
   "execution_count": 12,
   "metadata": {},
   "outputs": [
    {
     "name": "stdout",
     "output_type": "stream",
     "text": [
      "(('information_schema',), ('mysql',), ('performance_schema',), ('sys',), ('testdb',))\n"
     ]
    }
   ],
   "source": [
    "# cursor.fetchall()\n",
    "with connection.cursor() as cursor:\n",
    "    sql = f'''\n",
    "        SHOW DATABASES;\n",
    "        '''\n",
    "    cursor.execute(sql)\n",
    "    result = cursor.fetchall()\n",
    "\n",
    "print(result)"
   ]
  },
  {
   "cell_type": "code",
   "execution_count": 13,
   "metadata": {},
   "outputs": [
    {
     "name": "stdout",
     "output_type": "stream",
     "text": [
      "(('information_schema',), ('mysql',), ('performance_schema',))\n"
     ]
    }
   ],
   "source": [
    "# cursor.fetchmany(size=<int>)\n",
    "with connection.cursor() as cursor:\n",
    "    sql = f'''\n",
    "        SHOW DATABASES;\n",
    "        '''\n",
    "    cursor.execute(sql)\n",
    "    result = cursor.fetchmany(size=3)\n",
    "\n",
    "print(result)"
   ]
  },
  {
   "cell_type": "markdown",
   "metadata": {},
   "source": [
    "##### 修改 SQL回傳結果的資料類型 : cursorclass"
   ]
  },
  {
   "cell_type": "code",
   "execution_count": 14,
   "metadata": {},
   "outputs": [
    {
     "name": "stdout",
     "output_type": "stream",
     "text": [
      "[{'Database': 'information_schema'}, {'Database': 'mysql'}, {'Database': 'performance_schema'}, {'Database': 'sys'}, {'Database': 'testdb'}]\n"
     ]
    }
   ],
   "source": [
    "# cursorclass=pymysql.cursors.DictCursor 將回傳結果轉為 dict\n",
    "connection = pymysql.connect(\n",
    "    host='localhost',\n",
    "    user='root',\n",
    "    password='4321toor',\n",
    "    port=3307,\n",
    "    cursorclass=pymysql.cursors.DictCursor\n",
    "    )\n",
    "\n",
    "with connection.cursor() as cursor:\n",
    "    sql = f'''\n",
    "        SHOW DATABASES;\n",
    "        '''\n",
    "    cursor.execute(sql)\n",
    "    result = cursor.fetchall()\n",
    "\n",
    "print(result)"
   ]
  },
  {
   "cell_type": "code",
   "execution_count": null,
   "metadata": {},
   "outputs": [],
   "source": []
  }
 ],
 "metadata": {
  "kernelspec": {
   "display_name": "Python 3",
   "language": "python",
   "name": "python3"
  },
  "language_info": {
   "codemirror_mode": {
    "name": "ipython",
    "version": 3
   },
   "file_extension": ".py",
   "mimetype": "text/x-python",
   "name": "python",
   "nbconvert_exporter": "python",
   "pygments_lexer": "ipython3",
   "version": "3.10.12"
  }
 },
 "nbformat": 4,
 "nbformat_minor": 2
}
