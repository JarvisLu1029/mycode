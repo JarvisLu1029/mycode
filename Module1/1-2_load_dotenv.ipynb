{
 "cells": [
  {
   "cell_type": "code",
   "execution_count": 23,
   "metadata": {},
   "outputs": [
    {
     "name": "stdout",
     "output_type": "stream",
     "text": [
      "jarvis\n",
      "localhost\n",
      "<class 'str'>\n"
     ]
    }
   ],
   "source": [
    "from dotenv import load_dotenv\n",
    "import os\n",
    "\n",
    "syetem_username = os.getenv('USER')\n",
    "print(syetem_username)\n",
    "\n",
    "# load_dotenv()\n",
    "\n",
    "# 指定路徑\n",
    "load_dotenv(dotenv_path='../.env')\n",
    "\n",
    "host = os.getenv('DB_HOST')\n",
    "print(host)\n",
    "print(type(host))\n"
   ]
  },
  {
   "cell_type": "code",
   "execution_count": 24,
   "metadata": {},
   "outputs": [
    {
     "name": "stdout",
     "output_type": "stream",
     "text": [
      "jarvis\n",
      "localhost\n",
      "<class 'str'>\n",
      "[{'Table': 'main_document', 'Size in MB': Decimal('0.05')}]\n"
     ]
    }
   ],
   "source": [
    "from dotenv import load_dotenv\n",
    "import os, pymysql\n",
    "\n",
    "syetem_username = os.getenv('USER')\n",
    "print(syetem_username)\n",
    "\n",
    "# load_dotenv()\n",
    "\n",
    "# 指定路徑\n",
    "load_dotenv(dotenv_path='../.env')\n",
    "\n",
    "host = os.getenv('DB_HOST')\n",
    "print(host)\n",
    "print(type(host))\n",
    "\n",
    "connection = pymysql.connect(\n",
    "    host=os.getenv('DB_HOST'),\n",
    "    user=os.getenv('DB_USERNAME'),\n",
    "    password=os.getenv('DB_PASSWORD'),\n",
    "    port=int(os.getenv('DB_PORT')),\n",
    "    cursorclass=pymysql.cursors.DictCursor\n",
    "    )\n",
    "\n",
    "# 查詢 Table 大小\n",
    "with connection.cursor() as cursor:\n",
    "    sql = f'''\n",
    "        SELECT \n",
    "        table_name AS `Table`, \n",
    "        round(((data_length + index_length) / 1024 / 1024), 2) as `Size in MB` \n",
    "        FROM information_schema.TABLES \n",
    "        WHERE table_schema = \"testdb\"\n",
    "        AND table_name = \"main_document\";\n",
    "    '''\n",
    "    cursor.execute(sql)\n",
    "    result = cursor.fetchall()\n",
    "\n",
    "print(result)\n"
   ]
  },
  {
   "cell_type": "code",
   "execution_count": 25,
   "metadata": {},
   "outputs": [
    {
     "name": "stdout",
     "output_type": "stream",
     "text": [
      "[{'Database': 'information_schema'}, {'Database': 'mysql'}]\n",
      "[{'Database': 'performance_schema'}, {'Database': 'sys'}]\n"
     ]
    }
   ],
   "source": [
    "\n",
    "with connection.cursor() as cursor:\n",
    "    sql = f'''\n",
    "        SHOW DATABASES;\n",
    "    '''\n",
    "    cursor.execute(sql)\n",
    "    result = cursor.fetchmany(size=2)\n",
    "    result2 = cursor.fetchmany(size=2)\n",
    "print(result)\n",
    "print(result2)"
   ]
  },
  {
   "cell_type": "code",
   "execution_count": 26,
   "metadata": {},
   "outputs": [],
   "source": [
    "def return_sql_data():\n",
    "    with connection.cursor() as cursor:\n",
    "        sql = f'''\n",
    "            SHOW DATABASES;\n",
    "        '''\n",
    "        cursor.execute(sql)\n",
    "\n",
    "        while True:\n",
    "            result = cursor.fetchmany(size=3)\n",
    "            if result == None:\n",
    "                break\n",
    "            else:\n",
    "                yield result\n",
    "\n",
    "x = return_sql_data()"
   ]
  },
  {
   "cell_type": "code",
   "execution_count": 28,
   "metadata": {},
   "outputs": [
    {
     "name": "stdout",
     "output_type": "stream",
     "text": [
      "[{'Database': 'sys'}, {'Database': 'testdb'}]\n"
     ]
    }
   ],
   "source": [
    "print(next(x))"
   ]
  },
  {
   "cell_type": "code",
   "execution_count": null,
   "metadata": {},
   "outputs": [],
   "source": []
  }
 ],
 "metadata": {
  "kernelspec": {
   "display_name": "Python 3",
   "language": "python",
   "name": "python3"
  },
  "language_info": {
   "codemirror_mode": {
    "name": "ipython",
    "version": 3
   },
   "file_extension": ".py",
   "mimetype": "text/x-python",
   "name": "python",
   "nbconvert_exporter": "python",
   "pygments_lexer": "ipython3",
   "version": "3.10.12"
  }
 },
 "nbformat": 4,
 "nbformat_minor": 2
}
