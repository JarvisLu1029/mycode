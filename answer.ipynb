{
 "cells": [
  {
   "cell_type": "code",
   "execution_count": 2,
   "metadata": {},
   "outputs": [
    {
     "name": "stdout",
     "output_type": "stream",
     "text": [
      "[10, 12, 14, 16, 18]\n"
     ]
    }
   ],
   "source": [
    "def even_number(x, n):\n",
    "    ans = []\n",
    "    if x%2 == 0:\n",
    "        for i in range(n):\n",
    "            ans.append(x+2*i)\n",
    "    else:\n",
    "        for i in range(n):\n",
    "            ans.append((x+1)+2*i)\n",
    "    return ans\n",
    "\n",
    "print(even_number(10, 5))"
   ]
  },
  {
   "cell_type": "code",
   "execution_count": 3,
   "metadata": {},
   "outputs": [
    {
     "name": "stderr",
     "output_type": "stream",
     "text": [
      "c:\\Program Files\\Python39\\lib\\site-packages\\requests\\__init__.py:102: RequestsDependencyWarning: urllib3 (1.26.15) or chardet (5.1.0)/charset_normalizer (2.0.12) doesn't match a supported version!\n",
      "  warnings.warn(\"urllib3 ({}) or chardet ({})/charset_normalizer ({}) doesn't match a supported \"\n"
     ]
    }
   ],
   "source": [
    "import requests\n",
    "from pprint import pprint\n",
    "\n",
    "\n",
    "def get_specified_data(year, pha):\n",
    "    all_data = []\n",
    "    for page_no in range(22):\n",
    "        url = f'https://jsonmock.hackerrank.com/api/asteroids/search?page={page_no}'\n",
    "        result = requests.get(url)\n",
    "\n",
    "        all_data += result.json()['data']\n",
    "\n",
    "    print(len(all_data))\n",
    "    answer = []\n",
    "    for i in all_data:\n",
    "        if i['discovery_date'][0:4] == year and i['pha'] == pha:\n",
    "            answer.append(i)\n",
    "\n",
    "    answer.sort(key=lambda x: x['period_yr'])\n",
    "\n",
    "    pprint(answer)\n",
    "    return answer"
   ]
  },
  {
   "cell_type": "code",
   "execution_count": 4,
   "metadata": {},
   "outputs": [
    {
     "name": "stdout",
     "output_type": "stream",
     "text": [
      "212\n",
      "5\n",
      "[{'designation': '(2014 HQ124)',\n",
      "  'discovery_date': '2014-04-23',\n",
      "  'discovery_timestamp': 1398211200,\n",
      "  'h_mag': '18.9',\n",
      "  'i_deg': '26.37',\n",
      "  'moid_au': '0.007',\n",
      "  'orbit_class': 'Aten',\n",
      "  'period_yr': '0.78',\n",
      "  'pha': 'Y',\n",
      "  'q_au_1': '0.63',\n",
      "  'q_au_2': '1.07'},\n",
      " {'designation': '(2014 EQ49)',\n",
      "  'discovery_date': '2014-03-15',\n",
      "  'discovery_timestamp': 1394841600,\n",
      "  'h_mag': '21.8',\n",
      "  'i_deg': '15.18',\n",
      "  'moid_au': '0.026',\n",
      "  'orbit_class': 'Apollo',\n",
      "  'period_yr': '1.23',\n",
      "  'pha': 'Y',\n",
      "  'q_au_1': '0.91',\n",
      "  'q_au_2': '1.39'},\n",
      " {'designation': '(2014 SR339)',\n",
      "  'discovery_date': '2014-09-30',\n",
      "  'discovery_timestamp': 1412035200,\n",
      "  'h_mag': '18.6',\n",
      "  'i_deg': '29.79',\n",
      "  'moid_au': '0.036',\n",
      "  'orbit_class': 'Apollo',\n",
      "  'period_yr': '1.48',\n",
      "  'pha': 'Y',\n",
      "  'q_au_1': '0.9',\n",
      "  'q_au_2': '1.69'},\n",
      " {'designation': '(2014 OY1)',\n",
      "  'discovery_date': '2014-07-21',\n",
      "  'discovery_timestamp': 1405900800,\n",
      "  'h_mag': '19.1',\n",
      "  'i_deg': '23.01',\n",
      "  'moid_au': '0.042',\n",
      "  'orbit_class': 'Apollo',\n",
      "  'period_yr': '4.14',\n",
      "  'pha': 'Y',\n",
      "  'q_au_1': '0.97',\n",
      "  'q_au_2': '4.19'},\n",
      " {'designation': '(2014 CY4)',\n",
      "  'discovery_date': '2014-02-04',\n",
      "  'discovery_timestamp': 1391472000,\n",
      "  'h_mag': '21.1',\n",
      "  'i_deg': '15.02',\n",
      "  'moid_au': '0.042',\n",
      "  'orbit_class': 'Apollo',\n",
      "  'period_yr': '4.32',\n",
      "  'pha': 'Y',\n",
      "  'q_au_1': '0.48',\n",
      "  'q_au_2': '4.82'}]\n"
     ]
    }
   ],
   "source": [
    "get_specified_data('2014', 'Y')"
   ]
  },
  {
   "cell_type": "code",
   "execution_count": null,
   "metadata": {},
   "outputs": [],
   "source": [
    "with open('./data.txt', 'r') as f:\n",
    "    filename_list = f.readlines()\n",
    "    \n",
    "    filename_list_without_n = [i.replace('\\n', '') for i in filename_list]\n",
    "    # print(data_list_without_n)\n",
    "\n",
    "    for filename in filename_list_without_n:\n",
    "        if filename[-2:] == 'cc':\n",
    "            with open('./cpp.txt', 'a+') as f: # append\n",
    "                f.write(filename + '\\n')\n",
    "        elif filename[-3:] == 'css':\n",
    "            with open('./cs.txt', 'a+') as f:\n",
    "                f.write(filename + '\\n')\n",
    "        else:\n",
    "            with open('./c.txt', 'a+')as f:\n",
    "                f.write(filename + '\\n')"
   ]
  },
  {
   "cell_type": "code",
   "execution_count": 41,
   "metadata": {},
   "outputs": [
    {
     "name": "stdout",
     "output_type": "stream",
     "text": [
      "['abc0272.cc', 'abc0207.cc', 'abc0201.cc', 'abc0225.cc', 'abc0169.c', 'abc0197.c', 'abc0144.c', 'abc0156.c', 'abc0240.cc', 'abc0265.cc', 'abc0227.cc', 'abc0181.cc', 'abc0197.cc', 'abc0257.cc', 'abc0226.cc', 'abc0133.css', 'abc0218.c', 'abc0125.c', 'abc0222.c', 'abc0140.cc']\n"
     ]
    }
   ],
   "source": [
    "import random\n",
    "\n",
    "# 可能的文件名前綴和副檔名\n",
    "prefixes = ['abc01', 'abc02']\n",
    "extensions = ['.css', '.cc', '.c']\n",
    "\n",
    "# 生成20筆隨機資料\n",
    "random_data = []\n",
    "for _ in range(20):\n",
    "    random_prefix = random.choice(prefixes)\n",
    "    random_extension = random.choice(extensions)\n",
    "    random_number = str(random.randint(1, 99)).zfill(2)  # 隨機兩位數的數字，不足兩位補0\n",
    "    random_filename = f\"{random_prefix}{random_number}{random_extension}\"\n",
    "    random_data.append(random_filename)\n",
    "\n",
    "# 打印生成的隨機資料\n",
    "print(random_data)\n",
    "\n",
    "with open('./data.txt', 'w') as f:\n",
    "    for i in random_data:\n",
    "        f.write(i + '\\n')"
   ]
  }
 ],
 "metadata": {
  "kernelspec": {
   "display_name": "Python 3",
   "language": "python",
   "name": "python3"
  },
  "language_info": {
   "codemirror_mode": {
    "name": "ipython",
    "version": 3
   },
   "file_extension": ".py",
   "mimetype": "text/x-python",
   "name": "python",
   "nbconvert_exporter": "python",
   "pygments_lexer": "ipython3",
   "version": "3.9.13"
  }
 },
 "nbformat": 4,
 "nbformat_minor": 2
}
