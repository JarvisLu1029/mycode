{
 "cells": [
  {
   "cell_type": "markdown",
   "metadata": {},
   "source": [
    "##### 計算函式的執行時間"
   ]
  },
  {
   "cell_type": "code",
   "execution_count": 1,
   "metadata": {},
   "outputs": [
    {
     "name": "stdout",
     "output_type": "stream",
     "text": [
      "add_num 執行時間: 0.5077619552612305 秒\n",
      "50000005000000\n"
     ]
    }
   ],
   "source": [
    "import time\n",
    "\n",
    "def timing_decorator(func):\n",
    "    def wrapper(*args, **kwargs):\n",
    "        start_time = time.time()\n",
    "        result = func(*args, **kwargs)\n",
    "        end_time = time.time()\n",
    "        print(f\"{func.__name__} 執行時間: {end_time - start_time} 秒\")\n",
    "        return result\n",
    "    return wrapper\n",
    "\n",
    "@timing_decorator\n",
    "def add_num():\n",
    "    sum = 0\n",
    "    for i in range(1, 10000001):\n",
    "        sum += i\n",
    "\n",
    "    return sum\n",
    "\n",
    "count = add_num()\n",
    "\n",
    "print(count)"
   ]
  },
  {
   "cell_type": "markdown",
   "metadata": {},
   "source": [
    "##### 用 open( ) 紀錄 log"
   ]
  },
  {
   "cell_type": "code",
   "execution_count": 17,
   "metadata": {},
   "outputs": [],
   "source": [
    "from datetime import datetime\n",
    "\n",
    "# 紀錄函式執行時間\n",
    "def log_decorator(func):\n",
    "    def wrapper(*args, **kwargs):\n",
    "        start_time = datetime.now()\n",
    "        start_time_str = start_time.strftime('%Y-%m-%d %H:%M:%S')\n",
    "        \n",
    "        result = func(*args, **kwargs)\n",
    "        end_time = datetime.now()\n",
    "\n",
    "        execution_time = (end_time - start_time).total_seconds()\n",
    "        \n",
    "        with open('log.txt', 'a+') as f:\n",
    "            f.write(f\"[{start_time_str}] - {func.__name__} - Execution time: {execution_time:.2f} seconds\\n\")\n",
    "        \n",
    "        return result\n",
    "    return wrapper\n",
    "\n",
    "@log_decorator\n",
    "def function1():\n",
    "    time.sleep(2)\n",
    "\n",
    "\n",
    "for i in range(5):\n",
    "    function1()"
   ]
  },
  {
   "cell_type": "code",
   "execution_count": 16,
   "metadata": {},
   "outputs": [
    {
     "name": "stdout",
     "output_type": "stream",
     "text": [
      "接收到管理員的權限\n"
     ]
    }
   ],
   "source": [
    "def check_permission(permission):\n",
    "    def decorator(func):\n",
    "        def wrapper(request, *args, **kwargs):\n",
    "            if request.get('role') == permission:\n",
    "                return func(request, *args, **kwargs)\n",
    "            else:\n",
    "                raise PermissionError(\"permission denied\")\n",
    "        return wrapper\n",
    "    return decorator\n",
    "\n",
    "@check_permission(\"admin\")\n",
    "def admin_operation(request):\n",
    "    # 執行需要管理員權限的操作\n",
    "    return '接收到管理員的權限'\n",
    "\n",
    "\n",
    "request = {'role': 'admin'}\n",
    "print(admin_operation(request))"
   ]
  }
 ],
 "metadata": {
  "kernelspec": {
   "display_name": "Python 3",
   "language": "python",
   "name": "python3"
  },
  "language_info": {
   "codemirror_mode": {
    "name": "ipython",
    "version": 3
   },
   "file_extension": ".py",
   "mimetype": "text/x-python",
   "name": "python",
   "nbconvert_exporter": "python",
   "pygments_lexer": "ipython3",
   "version": "3.10.12"
  }
 },
 "nbformat": 4,
 "nbformat_minor": 2
}
