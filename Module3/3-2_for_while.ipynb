{
 "cells": [
  {
   "cell_type": "markdown",
   "metadata": {},
   "source": [
    "|用法| range(m-1) | range(n, m-1) | range(n, m-1, step) |\n",
    "|:---:|:---:|:---:|:---:|\n",
    "|說明|走訪 0 到 m-1 的數字 | 走訪 n 到 m-1 的數字 |以step為間距，走訪 n 到 m-1 的數字|\n"
   ]
  },
  {
   "cell_type": "markdown",
   "metadata": {},
   "source": [
    "##### for"
   ]
  },
  {
   "cell_type": "code",
   "execution_count": 3,
   "metadata": {},
   "outputs": [
    {
     "name": "stdout",
     "output_type": "stream",
     "text": [
      "0,1,2,3,4,5,6,7,8,9,"
     ]
    }
   ],
   "source": [
    "# range(m-1)\n",
    "for i in range(10):\n",
    "    print(i, end=\",\")"
   ]
  },
  {
   "cell_type": "code",
   "execution_count": 4,
   "metadata": {},
   "outputs": [
    {
     "name": "stdout",
     "output_type": "stream",
     "text": [
      "5,6,7,"
     ]
    }
   ],
   "source": [
    "# range(n, m-1)\n",
    "for i in range(5, 8):\n",
    "    print(i, end=\",\")"
   ]
  },
  {
   "cell_type": "code",
   "execution_count": 7,
   "metadata": {},
   "outputs": [
    {
     "name": "stdout",
     "output_type": "stream",
     "text": [
      "1,4,7,10,13,16,19,"
     ]
    }
   ],
   "source": [
    "# range(n, m-1, step) 每隔一個數要加上 step的值\n",
    "for i in range(1, 20, 3):\n",
    "    print(i, end=\",\")"
   ]
  },
  {
   "cell_type": "code",
   "execution_count": 8,
   "metadata": {},
   "outputs": [
    {
     "name": "stdout",
     "output_type": "stream",
     "text": [
      "25\n"
     ]
    }
   ],
   "source": [
    "# 通常用來設定程式要執行幾次\n",
    "num = 10\n",
    "for i in range(3):\n",
    "    num = num + 5\n",
    "print(num)"
   ]
  },
  {
   "cell_type": "markdown",
   "metadata": {},
   "source": [
    "### 小試身手 for  \n",
    "請產出 a 開頭的 n 個偶數(含 a 本身)  \n",
    "Ex:  \n",
    "a = 5, n = 3  \n",
    "Output : 6 8 10\n",
    "\n",
    "a = 4, n = 5  \n",
    "Output : 4 6 8 10 12"
   ]
  },
  {
   "cell_type": "code",
   "execution_count": 11,
   "metadata": {},
   "outputs": [
    {
     "name": "stdout",
     "output_type": "stream",
     "text": [
      "4 6 8 10 12 "
     ]
    }
   ],
   "source": [
    "a = 4\n",
    "n = 5\n",
    "for i in range(n):\n",
    "    if a % 2 == 0:\n",
    "        print(a+2*i, end=\" \")\n",
    "    else:\n",
    "        print(a+2*i+1, end=\" \")"
   ]
  },
  {
   "cell_type": "markdown",
   "metadata": {},
   "source": [
    "-----\n",
    "##### while"
   ]
  },
  {
   "cell_type": "code",
   "execution_count": 12,
   "metadata": {},
   "outputs": [
    {
     "name": "stdout",
     "output_type": "stream",
     "text": [
      "12345"
     ]
    }
   ],
   "source": [
    "count = 1\n",
    "while count <= 5:\n",
    "    print(count, end=\"\")\n",
    "    count = count + 1 # 一定要設定會結束的條件"
   ]
  }
 ],
 "metadata": {
  "kernelspec": {
   "display_name": "Python 3",
   "language": "python",
   "name": "python3"
  },
  "language_info": {
   "codemirror_mode": {
    "name": "ipython",
    "version": 3
   },
   "file_extension": ".py",
   "mimetype": "text/x-python",
   "name": "python",
   "nbconvert_exporter": "python",
   "pygments_lexer": "ipython3",
   "version": "3.9.13"
  }
 },
 "nbformat": 4,
 "nbformat_minor": 2
}
