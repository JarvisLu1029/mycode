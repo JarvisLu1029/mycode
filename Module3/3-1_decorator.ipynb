{
 "cells": [
  {
   "cell_type": "markdown",
   "metadata": {},
   "source": [
    "##### 初建立 decorator"
   ]
  },
  {
   "cell_type": "code",
   "execution_count": 5,
   "metadata": {},
   "outputs": [
    {
     "name": "stdout",
     "output_type": "stream",
     "text": [
      "在函數執行之前做一些事情\n",
      "Hello, decorator!\n",
      "在函數執行之後做一些事情\n"
     ]
    }
   ],
   "source": [
    "# 定義一個裝飾器函數\n",
    "def my_decorator(func):\n",
    "    def wrapper():\n",
    "        print(\"在函數執行之前做一些事情\")\n",
    "        func()  # 呼叫原始函數\n",
    "        print(\"在函數執行之後做一些事情\")\n",
    "\n",
    "    return wrapper\n",
    "\n",
    "# 使用裝飾器\n",
    "@my_decorator\n",
    "def say_hello():\n",
    "    print(\"Hello, decorator!\")\n",
    "\n",
    "# 調用裝飾後的函數\n",
    "say_hello()"
   ]
  },
  {
   "cell_type": "markdown",
   "metadata": {},
   "source": [
    "##### 有 return 的差別"
   ]
  },
  {
   "cell_type": "code",
   "execution_count": 1,
   "metadata": {},
   "outputs": [
    {
     "name": "stdout",
     "output_type": "stream",
     "text": [
      "在函數執行之前做一些事情\n",
      "Hello, decorator!\n",
      "say_hello() 的 x = 5\n",
      "在函數執行之後做一些事情\n",
      "調用函式後的 x = 15\n",
      "使用裝飾器 執行 say_hello() 的值 num = None\n"
     ]
    }
   ],
   "source": [
    "# return 值\n",
    "\n",
    "# 定義一個裝飾器函數\n",
    "def my_decorator(func):\n",
    "    def wrapper():\n",
    "        print(\"在函數執行之前做一些事情\")\n",
    "        x = func()  # 呼叫原始函數\n",
    "        print(\"在函數執行之後做一些事情\")\n",
    "        \n",
    "        x += 10\n",
    "        print(f'調用函式後的 x = 15')\n",
    "\n",
    "        # return x\n",
    "    return wrapper\n",
    "\n",
    "# 使用裝飾器\n",
    "@my_decorator\n",
    "def say_hello():\n",
    "    print(\"Hello, decorator!\")\n",
    "    x = 5\n",
    "    print(f\"say_hello() 的 x = {x}\")\n",
    "    return x\n",
    "\n",
    "# 調用裝飾後的函數\n",
    "num = say_hello()\n",
    "\n",
    "print(f'使用裝飾器後 執行 say_hello() 的值 num = {num}')"
   ]
  },
  {
   "cell_type": "markdown",
   "metadata": {},
   "source": [
    "##### func.\\_\\_name\\_\\_"
   ]
  },
  {
   "cell_type": "code",
   "execution_count": 11,
   "metadata": {},
   "outputs": [
    {
     "name": "stdout",
     "output_type": "stream",
     "text": [
      "呼叫函式 say_hello\n",
      "Hello, John\n",
      "函式 say_hello 執行完畢\n"
     ]
    }
   ],
   "source": [
    "def log_decorator(func):\n",
    "    def wrapper(x):\n",
    "        print(f\"呼叫函式 {func.__name__}\")\n",
    "        result = func(x)\n",
    "        print(f\"函式 {func.__name__} 執行完畢\")\n",
    "        return result\n",
    "    return wrapper\n",
    "\n",
    "@log_decorator\n",
    "def say_hello(name):\n",
    "    print(f\"Hello, {name}\")\n",
    "\n",
    "say_hello('John')\n",
    "\n",
    "# @log_decorator\n",
    "# def say_hello_and_greet(name, greet):\n",
    "#     print(f\"Hello, {name}! {greet}!\")\n",
    "\n",
    "# say_hello_and_greet('Amy', 'Good morning')"
   ]
  },
  {
   "cell_type": "markdown",
   "metadata": {},
   "source": [
    "##### *args, **kwargs"
   ]
  },
  {
   "cell_type": "code",
   "execution_count": 2,
   "metadata": {},
   "outputs": [
    {
     "name": "stdout",
     "output_type": "stream",
     "text": [
      "Positional arguments (args): (1, 2, 3)\n",
      "Keyword arguments (kwargs): {'name': 'John', 'age': 25}\n",
      "John\n",
      "None\n"
     ]
    }
   ],
   "source": [
    "def example_function(*args, **kwargs):\n",
    "    print(\"Positional arguments (args):\", args)\n",
    "    print(\"Keyword arguments (kwargs):\", kwargs)\n",
    "\n",
    "    print(kwargs.get('name'))\n",
    "    print(kwargs.get('role'))\n",
    "\n",
    "example_function(1, 2, 3, name='John', age=25)"
   ]
  },
  {
   "cell_type": "code",
   "execution_count": 2,
   "metadata": {},
   "outputs": [
    {
     "name": "stdout",
     "output_type": "stream",
     "text": [
      "呼叫函式 say_hello\n",
      "Hello, John\n",
      "函式 say_hello 執行完畢\n",
      "呼叫函式 say_hello_and_greet\n",
      "Hello, Amy! Good morning!\n",
      "函式 say_hello_and_greet 執行完畢\n"
     ]
    }
   ],
   "source": [
    "def log_decorator(func):\n",
    "    def wrapper(*args, **kwargs):\n",
    "        print(f\"呼叫函式 {func.__name__}\")\n",
    "        result = func(*args, **kwargs)\n",
    "        print(f\"函式 {func.__name__} 執行完畢\")\n",
    "        return result\n",
    "    return wrapper\n",
    "\n",
    "@log_decorator\n",
    "def say_hello_and_greet(name, greet):\n",
    "    print(f\"Hello, {name}! {greet}!\")\n",
    "\n",
    "@log_decorator\n",
    "def say_hello(name):\n",
    "    print(f\"Hello, {name}\")\n",
    "\n",
    "say_hello('John')\n",
    "say_hello_and_greet('Amy', 'Good morning')"
   ]
  },
  {
   "cell_type": "markdown",
   "metadata": {},
   "source": [
    "##### 帶參數的 decorator"
   ]
  },
  {
   "cell_type": "code",
   "execution_count": 10,
   "metadata": {},
   "outputs": [
    {
     "name": "stdout",
     "output_type": "stream",
     "text": [
      "Decorator arguments: hello, world\n",
      "Function arguments: 1, 10\n"
     ]
    }
   ],
   "source": [
    "def decorator_with_args(arg1, arg2):\n",
    "    def decorator(func):\n",
    "        def wrapper(*args, **kwargs):\n",
    "            print(f\"Decorator arguments: {arg1}, {arg2}\")\n",
    "            return func(*args, **kwargs)\n",
    "        return wrapper\n",
    "    return decorator\n",
    "\n",
    "@decorator_with_args('hello', 'world')\n",
    "def my_function(x, y):\n",
    "    print(f\"Function arguments: {x}, {y}\")\n",
    "\n",
    "my_function(1, 10)"
   ]
  },
  {
   "cell_type": "code",
   "execution_count": 18,
   "metadata": {},
   "outputs": [
    {
     "name": "stdout",
     "output_type": "stream",
     "text": [
      "my_function arguments: ('Hello', 10), {'z': 10}\n",
      "Function arguments: Hello, 10\n"
     ]
    }
   ],
   "source": [
    "def decorator_with_args(arg1, arg2):\n",
    "    def decorator(func):\n",
    "        def wrapper(*args, **kwargs):\n",
    "            if type(args[0]) == str:\n",
    "                print(f\"{func.__name__} arguments: {args}, {kwargs}\")\n",
    "            else:\n",
    "                print(f\"Decorator arguments: {arg1}, {arg2}\")\n",
    "            return func(*args, **kwargs)\n",
    "        return wrapper\n",
    "    return decorator\n",
    "\n",
    "@decorator_with_args('hello', 'world')\n",
    "def my_function(x, y, z=0):\n",
    "    print(f\"Function arguments: {x}, {y}\")\n",
    "\n",
    "my_function('Hello', 10, z=10)"
   ]
  },
  {
   "cell_type": "markdown",
   "metadata": {},
   "source": [
    "##### 多個 decorator"
   ]
  },
  {
   "cell_type": "code",
   "execution_count": 1,
   "metadata": {},
   "outputs": [
    {
     "name": "stdout",
     "output_type": "stream",
     "text": [
      "Decorator arguments: hello, world\n",
      "Another decorator is applied.\n",
      "Function arguments: 10, 20\n",
      "None\n"
     ]
    }
   ],
   "source": [
    "# from functools import wraps\n",
    "\n",
    "def decorator_with_args(arg1, arg2):\n",
    "    def decorator(func):\n",
    "        # @wraps(func) # 保留被裝飾函式的原始資料\n",
    "        def wrapper(*args, **kwargs):\n",
    "            print(f\"Decorator arguments: {arg1}, {arg2}\")\n",
    "            # print(f'Now using {func.__name__}')\n",
    "            return func(*args, **kwargs)\n",
    "        return wrapper\n",
    "    return decorator\n",
    "\n",
    "def another_decorator(func):\n",
    "    # @wraps(func)\n",
    "    def wrapper(*args, **kwargs):\n",
    "        print(\"Another decorator is applied.\")\n",
    "        return func(*args, **kwargs)\n",
    "    return wrapper\n",
    "\n",
    "@decorator_with_args('hello', 'world')\n",
    "@another_decorator\n",
    "def my_function(x, y):\n",
    "    print(f\"Function arguments: {x}, {y}\")\n",
    "    # return 1\n",
    "\n",
    "x = my_function(10, 20)\n",
    "\n",
    "print(x)"
   ]
  }
 ],
 "metadata": {
  "kernelspec": {
   "display_name": "Python 3",
   "language": "python",
   "name": "python3"
  },
  "language_info": {
   "codemirror_mode": {
    "name": "ipython",
    "version": 3
   },
   "file_extension": ".py",
   "mimetype": "text/x-python",
   "name": "python",
   "nbconvert_exporter": "python",
   "pygments_lexer": "ipython3",
   "version": "3.9.13"
  }
 },
 "nbformat": 4,
 "nbformat_minor": 2
}
