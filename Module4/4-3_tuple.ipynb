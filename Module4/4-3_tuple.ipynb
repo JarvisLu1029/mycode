{
 "cells": [
  {
   "cell_type": "code",
   "execution_count": 2,
   "metadata": {},
   "outputs": [
    {
     "name": "stdout",
     "output_type": "stream",
     "text": [
      "('人', '帥', '得', '體')\n"
     ]
    }
   ],
   "source": [
    "# tuple 初始化: 第一種\n",
    "my_tuple01 = ('人', '帥', '得', '體')\n",
    "print(my_tuple01)"
   ]
  },
  {
   "cell_type": "code",
   "execution_count": 1,
   "metadata": {},
   "outputs": [
    {
     "name": "stdout",
     "output_type": "stream",
     "text": [
      "('哆', '啦', 'A', '夢')\n",
      "<class 'tuple'>\n"
     ]
    }
   ],
   "source": [
    "# tuple 初始化: 第二種\n",
    "my_tuple02 = '哆', '啦', 'A', '夢'\n",
    "print(my_tuple02)\n",
    "print(type(my_tuple02))"
   ]
  },
  {
   "cell_type": "code",
   "execution_count": 1,
   "metadata": {},
   "outputs": [
    {
     "name": "stdout",
     "output_type": "stream",
     "text": [
      "1 2\n",
      "(1, 2)\n",
      "<class 'tuple'>\n"
     ]
    }
   ],
   "source": [
    "num1, num2 = 1, 2\n",
    "print(num1, num2)\n",
    "\n",
    "tuple_test = 1, 2\n",
    "print(tuple_test)\n",
    "print(type(tuple_test))"
   ]
  },
  {
   "cell_type": "code",
   "execution_count": 3,
   "metadata": {},
   "outputs": [
    {
     "name": "stdout",
     "output_type": "stream",
     "text": [
      "帥\n",
      "夢\n"
     ]
    }
   ],
   "source": [
    "# 透過指定索引輸出值\n",
    "print(my_tuple01[1])\n",
    "print(my_tuple02[3])"
   ]
  },
  {
   "cell_type": "code",
   "execution_count": 3,
   "metadata": {},
   "outputs": [
    {
     "name": "stdout",
     "output_type": "stream",
     "text": [
      "交換前: a = 10, b = 20\n",
      "交換前: a = 10, b = 20\n",
      "交換前: a = 20, b = 10\n",
      "交換前: a = 20, b = 10\n"
     ]
    }
   ],
   "source": [
    "# 複數變數修改值\n",
    "a = 10\n",
    "b = 20\n",
    "print('交換前: a = {}, b = {}'.format(a, b))\n",
    "print(f'交換前: a = {a}, b = {b}')\n",
    "a, b = b, a\n",
    "print('交換前: a = {}, b = {}'.format(a, b))\n",
    "print(f'交換前: a = {a}, b = {b}')"
   ]
  },
  {
   "cell_type": "code",
   "execution_count": 1,
   "metadata": {},
   "outputs": [
    {
     "ename": "TypeError",
     "evalue": "'tuple' object does not support item assignment",
     "output_type": "error",
     "traceback": [
      "\u001b[1;31m---------------------------------------------------------------------------\u001b[0m",
      "\u001b[1;31mTypeError\u001b[0m                                 Traceback (most recent call last)",
      "Input \u001b[1;32mIn [1]\u001b[0m, in \u001b[0;36m<cell line: 4>\u001b[1;34m()\u001b[0m\n\u001b[0;32m      2\u001b[0m my_tuple03 \u001b[38;5;241m=\u001b[39m (\u001b[38;5;124m'\u001b[39m\u001b[38;5;124m人\u001b[39m\u001b[38;5;124m'\u001b[39m, \u001b[38;5;124m'\u001b[39m\u001b[38;5;124m帥\u001b[39m\u001b[38;5;124m'\u001b[39m, \u001b[38;5;124m'\u001b[39m\u001b[38;5;124m任性\u001b[39m\u001b[38;5;124m'\u001b[39m)\n\u001b[0;32m      3\u001b[0m \u001b[38;5;66;03m# print(id(my_tuple03))\u001b[39;00m\n\u001b[1;32m----> 4\u001b[0m my_tuple03[\u001b[38;5;241m2\u001b[39m] \u001b[38;5;241m=\u001b[39m \u001b[38;5;124m'\u001b[39m\u001b[38;5;124m真好\u001b[39m\u001b[38;5;124m'\u001b[39m\n\u001b[0;32m      5\u001b[0m \u001b[38;5;28mprint\u001b[39m(my_tuple03)\n",
      "\u001b[1;31mTypeError\u001b[0m: 'tuple' object does not support item assignment"
     ]
    }
   ],
   "source": [
    "# tuple 不可以修改指定索引的值\n",
    "my_tuple03 = ('人', '帥', '任性')\n",
    "# print(id(my_tuple03))\n",
    "my_tuple03[2] = '真好'\n",
    "print(my_tuple03)"
   ]
  },
  {
   "cell_type": "code",
   "execution_count": 13,
   "metadata": {},
   "outputs": [
    {
     "name": "stdout",
     "output_type": "stream",
     "text": [
      "('人', '帥', '真好')\n"
     ]
    }
   ],
   "source": [
    "# (list)可以修改指定索引的值\n",
    "my_tuple03 = list(my_tuple03)\n",
    "my_tuple03[2] = '真好'\n",
    "print(tuple(my_tuple03))\n",
    "# print(id(my_tuple03))"
   ]
  },
  {
   "cell_type": "code",
   "execution_count": 15,
   "metadata": {},
   "outputs": [
    {
     "name": "stdout",
     "output_type": "stream",
     "text": [
      "人帥得體"
     ]
    }
   ],
   "source": [
    "# 用 for 迴圈逐一輸出資料\n",
    "for value in my_tuple01:\n",
    "    print(value, end='')"
   ]
  },
  {
   "cell_type": "code",
   "execution_count": 16,
   "metadata": {},
   "outputs": [
    {
     "name": "stdout",
     "output_type": "stream",
     "text": [
      "4\n"
     ]
    }
   ],
   "source": [
    "# 用 len 計算 tuple 資料個數\n",
    "print(len(my_tuple02))\n"
   ]
  }
 ],
 "metadata": {
  "kernelspec": {
   "display_name": "Python 3",
   "language": "python",
   "name": "python3"
  },
  "language_info": {
   "codemirror_mode": {
    "name": "ipython",
    "version": 3
   },
   "file_extension": ".py",
   "mimetype": "text/x-python",
   "name": "python",
   "nbconvert_exporter": "python",
   "pygments_lexer": "ipython3",
   "version": "3.9.13"
  }
 },
 "nbformat": 4,
 "nbformat_minor": 2
}
