{
 "cells": [
  {
   "cell_type": "code",
   "execution_count": 2,
   "metadata": {},
   "outputs": [
    {
     "name": "stdout",
     "output_type": "stream",
     "text": [
      "('人', '帥', '得', '體')\n"
     ]
    }
   ],
   "source": [
    "# tuple 初始化: 第一種\n",
    "my_tuple01 = ('人', '帥', '得', '體')\n",
    "print(my_tuple01)"
   ]
  },
  {
   "cell_type": "code",
   "execution_count": 1,
   "metadata": {},
   "outputs": [
    {
     "name": "stdout",
     "output_type": "stream",
     "text": [
      "('哆', '啦', 'A', '夢')\n"
     ]
    }
   ],
   "source": [
    "# tuple 初始化: 第二種\n",
    "my_tuple02 = '哆', '啦', 'A', '夢'\n",
    "print(my_tuple02)"
   ]
  },
  {
   "cell_type": "code",
   "execution_count": 3,
   "metadata": {},
   "outputs": [
    {
     "name": "stdout",
     "output_type": "stream",
     "text": [
      "帥\n",
      "夢\n"
     ]
    }
   ],
   "source": [
    "# 透過指定索引輸出值\n",
    "print(my_tuple01[1])\n",
    "print(my_tuple02[3])"
   ]
  },
  {
   "cell_type": "code",
   "execution_count": 4,
   "metadata": {},
   "outputs": [
    {
     "name": "stdout",
     "output_type": "stream",
     "text": [
      "交換前: a = 10, b = 20\n",
      "交換前: a = 20, b = 10\n"
     ]
    }
   ],
   "source": [
    "# 複數變數修改值\n",
    "a = 10\n",
    "b = 20\n",
    "print('交換前: a = {}, b = {}'.format(a, b))\n",
    "a, b = b, a\n",
    "print('交換前: a = {}, b = {}'.format(a, b))"
   ]
  },
  {
   "cell_type": "code",
   "execution_count": 12,
   "metadata": {},
   "outputs": [
    {
     "name": "stdout",
     "output_type": "stream",
     "text": [
      "2618958248256\n"
     ]
    },
    {
     "ename": "TypeError",
     "evalue": "'tuple' object does not support item assignment",
     "output_type": "error",
     "traceback": [
      "\u001b[1;31m---------------------------------------------------------------------------\u001b[0m",
      "\u001b[1;31mTypeError\u001b[0m                                 Traceback (most recent call last)",
      "\u001b[1;32me:\\Program\\資策會課程講義\\個人講義\\Python_code\\mycode\\Module4\\4-3_tuple.ipynb 儲存格 5\u001b[0m line \u001b[0;36m<cell line: 4>\u001b[1;34m()\u001b[0m\n\u001b[0;32m      <a href='vscode-notebook-cell:/e%3A/Program/%E8%B3%87%E7%AD%96%E6%9C%83%E8%AA%B2%E7%A8%8B%E8%AC%9B%E7%BE%A9/%E5%80%8B%E4%BA%BA%E8%AC%9B%E7%BE%A9/Python_code/mycode/Module4/4-3_tuple.ipynb#W4sZmlsZQ%3D%3D?line=1'>2</a>\u001b[0m my_tuple03 \u001b[39m=\u001b[39m (\u001b[39m'\u001b[39m\u001b[39m人\u001b[39m\u001b[39m'\u001b[39m, \u001b[39m'\u001b[39m\u001b[39m帥\u001b[39m\u001b[39m'\u001b[39m, \u001b[39m'\u001b[39m\u001b[39m任性\u001b[39m\u001b[39m'\u001b[39m)\n\u001b[0;32m      <a href='vscode-notebook-cell:/e%3A/Program/%E8%B3%87%E7%AD%96%E6%9C%83%E8%AA%B2%E7%A8%8B%E8%AC%9B%E7%BE%A9/%E5%80%8B%E4%BA%BA%E8%AC%9B%E7%BE%A9/Python_code/mycode/Module4/4-3_tuple.ipynb#W4sZmlsZQ%3D%3D?line=2'>3</a>\u001b[0m \u001b[39mprint\u001b[39m(\u001b[39mid\u001b[39m(my_tuple03))\n\u001b[1;32m----> <a href='vscode-notebook-cell:/e%3A/Program/%E8%B3%87%E7%AD%96%E6%9C%83%E8%AA%B2%E7%A8%8B%E8%AC%9B%E7%BE%A9/%E5%80%8B%E4%BA%BA%E8%AC%9B%E7%BE%A9/Python_code/mycode/Module4/4-3_tuple.ipynb#W4sZmlsZQ%3D%3D?line=3'>4</a>\u001b[0m my_tuple03[\u001b[39m2\u001b[39m] \u001b[39m=\u001b[39m \u001b[39m'\u001b[39m\u001b[39m真好\u001b[39m\u001b[39m'\u001b[39m\n",
      "\u001b[1;31mTypeError\u001b[0m: 'tuple' object does not support item assignment"
     ]
    }
   ],
   "source": [
    "# tuple 不可以修改指定索引的值\n",
    "my_tuple03 = ('人', '帥', '任性')\n",
    "# print(id(my_tuple03))\n",
    "my_tuple03[2] = '真好'\n",
    "print(my_tuple03)"
   ]
  },
  {
   "cell_type": "code",
   "execution_count": 13,
   "metadata": {},
   "outputs": [
    {
     "name": "stdout",
     "output_type": "stream",
     "text": [
      "('人', '帥', '真好')\n"
     ]
    }
   ],
   "source": [
    "# (list)可以修改指定索引的值\n",
    "my_tuple03 = list(my_tuple03)\n",
    "my_tuple03[2] = '真好'\n",
    "print(tuple(my_tuple03))\n",
    "# print(id(my_tuple03))"
   ]
  },
  {
   "cell_type": "code",
   "execution_count": 15,
   "metadata": {},
   "outputs": [
    {
     "name": "stdout",
     "output_type": "stream",
     "text": [
      "人帥得體"
     ]
    }
   ],
   "source": [
    "# 用 for 迴圈逐一輸出資料\n",
    "for value in my_tuple01:\n",
    "    print(value, end='')"
   ]
  },
  {
   "cell_type": "code",
   "execution_count": 16,
   "metadata": {},
   "outputs": [
    {
     "name": "stdout",
     "output_type": "stream",
     "text": [
      "4\n"
     ]
    }
   ],
   "source": [
    "# 用 len 計算 tuple 資料個數\n",
    "print(len(my_tuple02))\n"
   ]
  }
 ],
 "metadata": {
  "kernelspec": {
   "display_name": "Python 3",
   "language": "python",
   "name": "python3"
  },
  "language_info": {
   "codemirror_mode": {
    "name": "ipython",
    "version": 3
   },
   "file_extension": ".py",
   "mimetype": "text/x-python",
   "name": "python",
   "nbconvert_exporter": "python",
   "pygments_lexer": "ipython3",
   "version": "3.9.13"
  }
 },
 "nbformat": 4,
 "nbformat_minor": 2
}
