{
 "cells": [
  {
   "cell_type": "code",
   "execution_count": 1,
   "metadata": {},
   "outputs": [
    {
     "name": "stdout",
     "output_type": "stream",
     "text": [
      "pee...\n"
     ]
    }
   ],
   "source": [
    "class Shiba:\n",
    "    def __init__(self, height, weight):\n",
    "        self.height = height\n",
    "        self.weight = weight\n",
    "\n",
    "    @staticmethod\n",
    "    def pee(length):\n",
    "        print(\"pee\" + \".\" * length)\n",
    "\n",
    "Shiba(1, 3).pee(3)"
   ]
  },
  {
   "cell_type": "code",
   "execution_count": 3,
   "metadata": {},
   "outputs": [
    {
     "name": "stdout",
     "output_type": "stream",
     "text": [
      "pee..........\n",
      "pee..........\n"
     ]
    }
   ],
   "source": [
    "class Shiba:\n",
    "    pee_length = 10\n",
    "\n",
    "    def __init__(self, height, weight):\n",
    "        self.height = height\n",
    "        self.weight = weight\n",
    "\n",
    "    @classmethod\n",
    "    def pee(cls):\n",
    "        print(\"pee\" + \".\" * cls.pee_length)\n",
    "\n",
    "\n",
    "\n",
    "Shiba.pee()\n",
    "#result: pee..........\n",
    "\n",
    "\n",
    "black_shiba = Shiba(30, 40)\n",
    "black_shiba.pee()\n",
    "#result: pee.........."
   ]
  },
  {
   "cell_type": "code",
   "execution_count": 6,
   "metadata": {},
   "outputs": [
    {
     "name": "stdout",
     "output_type": "stream",
     "text": [
      "pee..........\n"
     ]
    }
   ],
   "source": [
    "class Shiba:\n",
    "    pee_length = 10\n",
    "\n",
    "    def __init__(self, height, weight):\n",
    "        self.height = height\n",
    "        self.weight = weight\n",
    "\n",
    "    @classmethod\n",
    "    def pee(cls):\n",
    "        print(\"pee\" + \".\" * cls.pee_length)\n",
    "\n",
    "Shiba.pee()"
   ]
  },
  {
   "cell_type": "code",
   "execution_count": 8,
   "metadata": {},
   "outputs": [
    {
     "name": "stdout",
     "output_type": "stream",
     "text": [
      "I'm eating shit\n",
      "I'm peeing........\n"
     ]
    }
   ],
   "source": [
    "import abc\n",
    "\n",
    "\n",
    "class Dog(metaclass=abc.ABCMeta):\n",
    "    @abc.abstractmethod\n",
    "    def eat_shit(self):\n",
    "        return NotImplemented\n",
    "\n",
    "    @abc.abstractmethod\n",
    "    def pee(self):\n",
    "        return NotImplemented\n",
    "\n",
    "\n",
    "class Shiba(Dog):\n",
    "    def eat_shit(self):\n",
    "        print(\"I'm eating shit\".format())\n",
    "\n",
    "    def pee(self):\n",
    "        print(\"I'm peeing........\")\n",
    "\n",
    "\n",
    "Shiba().eat_shit()\n",
    "# Result > I'm eating shit\n",
    "\n",
    "Shiba().pee()\n",
    "# Result > I'm peeing........"
   ]
  },
  {
   "cell_type": "code",
   "execution_count": 9,
   "metadata": {},
   "outputs": [
    {
     "name": "stdout",
     "output_type": "stream",
     "text": [
      "Shiba is eating shit\n",
      "Shiba is barking!!!!\n",
      "Shiba is belonging to Animal.\n",
      "Golden retriever is eating shit\n",
      "Golden retriever is barking!!!!\n",
      "Golden retriever is belonging to Animal.\n"
     ]
    }
   ],
   "source": [
    "import abc\n",
    "\n",
    "\n",
    "class Dog(metaclass=abc.ABCMeta):\n",
    "    base = \"Animal\"\n",
    "\n",
    "    @abc.abstractmethod\n",
    "    def eat_shit(self):\n",
    "        return NotImplemented\n",
    "\n",
    "    @staticmethod\n",
    "    @abc.abstractmethod\n",
    "    def bark():\n",
    "        return NotImplemented\n",
    "\n",
    "    @classmethod\n",
    "    @abc.abstractmethod\n",
    "    def belong_to_what(cls):\n",
    "        return NotImplemented\n",
    "\n",
    "\n",
    "class Shiba(Dog):\n",
    "    def eat_shit(self):\n",
    "        print(\"Shiba is eating shit\".format())\n",
    "\n",
    "    @staticmethod\n",
    "    def bark():\n",
    "        print(\"Shiba is barking!!!!\")\n",
    "\n",
    "    @classmethod\n",
    "    def belong_to_what(cls):\n",
    "        print(\"Shiba is belonging to {}.\".format(cls.base))\n",
    "\n",
    "\n",
    "class GoldenRetriever(Dog):\n",
    "    def eat_shit(self):\n",
    "        print(\"Golden retriever is eating shit\".format())\n",
    "\n",
    "    @staticmethod\n",
    "    def bark():\n",
    "        print(\"Golden retriever is barking!!!!\")\n",
    "\n",
    "    @classmethod\n",
    "    def belong_to_what(cls):\n",
    "        print(\"Golden retriever is belonging to {}.\".format(cls.base))\n",
    "\n",
    "\n",
    "Shiba().eat_shit()\n",
    "# Result > Shiba is eating shit\n",
    "Shiba().bark()\n",
    "# Result > Shiba is barking!!!!\n",
    "Shiba().belong_to_what()\n",
    "# Result > Shiba is belonging to Animal.\n",
    "\n",
    "GoldenRetriever().eat_shit()\n",
    "# Result > Golden retriever is eating shit\n",
    "GoldenRetriever().bark()\n",
    "# Result > Golden retriever is barking!!!!\n",
    "GoldenRetriever.belong_to_what()\n",
    "# Result > Golden retriever is belonging to Animal."
   ]
  }
 ],
 "metadata": {
  "kernelspec": {
   "display_name": "Python 3",
   "language": "python",
   "name": "python3"
  },
  "language_info": {
   "codemirror_mode": {
    "name": "ipython",
    "version": 3
   },
   "file_extension": ".py",
   "mimetype": "text/x-python",
   "name": "python",
   "nbconvert_exporter": "python",
   "pygments_lexer": "ipython3",
   "version": "3.9.13"
  }
 },
 "nbformat": 4,
 "nbformat_minor": 2
}
