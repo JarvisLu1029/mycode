{
 "cells": [
  {
   "cell_type": "markdown",
   "metadata": {},
   "source": [
    "### dict method"
   ]
  },
  {
   "cell_type": "code",
   "execution_count": 49,
   "metadata": {},
   "outputs": [
    {
     "name": "stdout",
     "output_type": "stream",
     "text": [
      "{'apple': 100, 'orange': 20, 'tomato': 50}\n"
     ]
    }
   ],
   "source": [
    "# 初始化 dict\n",
    "dict01 = {\"apple\": 100, \"orange\": 20, \"tomato\": 50}\n",
    "print(dict01)"
   ]
  },
  {
   "cell_type": "code",
   "execution_count": 50,
   "metadata": {},
   "outputs": [
    {
     "name": "stdout",
     "output_type": "stream",
     "text": [
      "{'apple': 100, 'orange': 20, 'tomato': 50}\n"
     ]
    }
   ],
   "source": [
    "# 建議的寫法\n",
    "dict01 = {\n",
    "    \"apple\": 100,\n",
    "    \"orange\": 20,\n",
    "    \"tomato\": 50\n",
    "}\n",
    "print(dict01)"
   ]
  },
  {
   "cell_type": "code",
   "execution_count": 51,
   "metadata": {},
   "outputs": [
    {
     "name": "stdout",
     "output_type": "stream",
     "text": [
      "100\n"
     ]
    }
   ],
   "source": [
    "# 印出 蘋果的價格\n",
    "print(dict01['apple'])\n"
   ]
  },
  {
   "cell_type": "code",
   "execution_count": 52,
   "metadata": {},
   "outputs": [
    {
     "name": "stdout",
     "output_type": "stream",
     "text": [
      "30\n"
     ]
    }
   ],
   "source": [
    "# 修改 橘子的價格\n",
    "dict01['orange'] = 30\n",
    "print(dict01['orange'])"
   ]
  },
  {
   "cell_type": "code",
   "execution_count": 53,
   "metadata": {},
   "outputs": [
    {
     "name": "stdout",
     "output_type": "stream",
     "text": [
      "{'apple': 100, 'orange': 30}\n"
     ]
    }
   ],
   "source": [
    "# 刪除 番茄\n",
    "del dict01['tomato']\n",
    "\n",
    "print(dict01)"
   ]
  },
  {
   "cell_type": "code",
   "execution_count": 54,
   "metadata": {},
   "outputs": [
    {
     "name": "stdout",
     "output_type": "stream",
     "text": [
      "{'apple': 100, 'orange': 30, 'kiwi': 40}\n"
     ]
    }
   ],
   "source": [
    "# 新增 奇異果\n",
    "dict01['kiwi'] = 40\n",
    "print(dict01)"
   ]
  },
  {
   "cell_type": "code",
   "execution_count": 4,
   "metadata": {},
   "outputs": [
    {
     "name": "stdout",
     "output_type": "stream",
     "text": [
      "{'name': 'Jarvis', 'age': 18, 'info': {'nickname': 'boatman', 'role': 'ironman', 'phone_num': ['0912345678', '0922345678']}}\n"
     ]
    }
   ],
   "source": [
    "person_info_dict = {'name': 'Jarvis'}\n",
    "person_info_dict['age'] = 18\n",
    "person_info_dict['info'] = {'nickname': 'boatman', 'role': 'ironman', 'phone_num': ['0912345678', '0922345678']}\n",
    "print(person_info_dict)"
   ]
  },
  {
   "cell_type": "code",
   "execution_count": 68,
   "metadata": {},
   "outputs": [],
   "source": [
    "# 建立一個 value 含有 dict 的 dict\n",
    "dict02 = {\n",
    "    'name': 'Jarvis',\n",
    "    'age': 18,\n",
    "    'info': {\n",
    "        'nickname': 'boatman',\n",
    "        'favorite_role': 'ironman',\n",
    "        'phone_number': ['0912345678', '0922345678', '0932345678']\n",
    "    }\n",
    "}\n",
    "\n"
   ]
  },
  {
   "cell_type": "code",
   "execution_count": 56,
   "metadata": {},
   "outputs": [
    {
     "name": "stdout",
     "output_type": "stream",
     "text": [
      "info\n",
      "boatman\n"
     ]
    }
   ],
   "source": [
    "# 取得 nickname\n",
    "print('info')\n",
    "print(dict02['info']['nickname'])"
   ]
  },
  {
   "cell_type": "code",
   "execution_count": 57,
   "metadata": {},
   "outputs": [
    {
     "name": "stdout",
     "output_type": "stream",
     "text": [
      "0912345678\n",
      "0922345678\n",
      "0932345678\n"
     ]
    }
   ],
   "source": [
    "# 取得所有 phone_number\n",
    "for number in dict02['info']['phone_number']:\n",
    "    print(number)"
   ]
  },
  {
   "cell_type": "code",
   "execution_count": 10,
   "metadata": {},
   "outputs": [],
   "source": [
    "'''\n",
    "改寫 dict01 每個水果需要 price, quantity/amount, color\n",
    "apple 可能會有 綠色或紅色\n",
    "'''\n",
    "dict03 = {    \n",
    "    'apple': {\n",
    "        'price': 100,\n",
    "        'quantity': 50,\n",
    "        'color': ['greem', 'red']\n",
    "    },\n",
    "    'orange': {\n",
    "        'price': 50,\n",
    "        'quantity': 30,\n",
    "        'color': 'orange'\n",
    "    }\n",
    "}\n",
    "\n",
    "dict03_2 = {\n",
    "    'tomato': {\n",
    "        'price': 150,\n",
    "        'quantity': 70,\n",
    "        'color': 'red'\n",
    "    },\n",
    "    'grape': {\n",
    "        'price': 200,\n",
    "        'quantity': 30,\n",
    "        'color': 'purple'\n",
    "    }\n",
    "}\n",
    "\n",
    "# dict03_2 = {\n",
    "#     'tomato': {\n",
    "#         'price': 150,\n",
    "#         'quantity': 70,\n",
    "#         'color': ['red']\n",
    "#     },\n",
    "#     'grape': {\n",
    "#         'price': 200,\n",
    "#         'quantity': 30,\n",
    "#         'color': ['purple']\n",
    "#     }\n",
    "# }\n",
    "dict03.update(dict03_2)"
   ]
  },
  {
   "cell_type": "code",
   "execution_count": 11,
   "metadata": {},
   "outputs": [
    {
     "name": "stdout",
     "output_type": "stream",
     "text": [
      "{'apple': {'price': 100, 'quantity': 50, 'color': ['greem', 'red']}, 'orange': {'price': 50, 'quantity': 30, 'color': 'orange'}, 'tomato': {'price': 150, 'quantity': 70, 'color': 'red'}, 'grape': {'price': 200, 'quantity': 30, 'color': 'purple'}}\n"
     ]
    }
   ],
   "source": [
    "print(dict03)"
   ]
  },
  {
   "cell_type": "code",
   "execution_count": 12,
   "metadata": {},
   "outputs": [
    {
     "name": "stdout",
     "output_type": "stream",
     "text": [
      "{'apple': {'price': 100, 'quantity': 50, 'color': ['greem', 'red', 'yellow']}, 'orange': {'price': 50, 'quantity': 30, 'color': 'orange'}, 'tomato': {'price': 150, 'quantity': 70, 'color': 'red'}, 'grape': {'price': 200, 'quantity': 30, 'color': 'purple'}}\n"
     ]
    },
    {
     "ename": "AttributeError",
     "evalue": "'str' object has no attribute 'append'",
     "output_type": "error",
     "traceback": [
      "\u001b[1;31m---------------------------------------------------------------------------\u001b[0m",
      "\u001b[1;31mAttributeError\u001b[0m                            Traceback (most recent call last)",
      "Input \u001b[1;32mIn [12]\u001b[0m, in \u001b[0;36m<cell line: 5>\u001b[1;34m()\u001b[0m\n\u001b[0;32m      3\u001b[0m \u001b[38;5;28mprint\u001b[39m(dict03)\n\u001b[0;32m      4\u001b[0m \u001b[38;5;66;03m# tomato 還有綠色\u001b[39;00m\n\u001b[1;32m----> 5\u001b[0m \u001b[43mdict03\u001b[49m\u001b[43m[\u001b[49m\u001b[38;5;124;43m'\u001b[39;49m\u001b[38;5;124;43mtomato\u001b[39;49m\u001b[38;5;124;43m'\u001b[39;49m\u001b[43m]\u001b[49m\u001b[43m[\u001b[49m\u001b[38;5;124;43m'\u001b[39;49m\u001b[38;5;124;43mcolor\u001b[39;49m\u001b[38;5;124;43m'\u001b[39;49m\u001b[43m]\u001b[49m\u001b[38;5;241;43m.\u001b[39;49m\u001b[43mappend\u001b[49m(\u001b[38;5;124m'\u001b[39m\u001b[38;5;124mgreen\u001b[39m\u001b[38;5;124m'\u001b[39m)\n\u001b[0;32m      6\u001b[0m \u001b[38;5;28mprint\u001b[39m(dict03)\n",
      "\u001b[1;31mAttributeError\u001b[0m: 'str' object has no attribute 'append'"
     ]
    }
   ],
   "source": [
    "# apple 有新的品種 顏色要有黃色\n",
    "dict03['apple']['color'].append('yellow')\n",
    "print(dict03)\n",
    "# tomato 還有綠色\n",
    "dict03['tomato']['color'].append('green')\n",
    "print(dict03)"
   ]
  },
  {
   "cell_type": "code",
   "execution_count": 60,
   "metadata": {},
   "outputs": [
    {
     "name": "stdout",
     "output_type": "stream",
     "text": [
      "{'apple': {'color': ['green', 'red', 'yellow'], 'price': 100, 'quantity': 50},\n",
      " 'orange': {'color': ['orange'], 'price': 50, 'quantity': 30},\n",
      " 'tomato': {'color': ['red', 'green'], 'price': 150, 'quantity': 70}}\n"
     ]
    }
   ],
   "source": [
    "# 另外的 print方式 (pretty-print)\n",
    "from pprint import pprint\n",
    "pprint(dict03)"
   ]
  },
  {
   "cell_type": "code",
   "execution_count": 61,
   "metadata": {},
   "outputs": [
    {
     "name": "stdout",
     "output_type": "stream",
     "text": [
      "apple\n",
      "orange\n",
      "tomato\n"
     ]
    }
   ],
   "source": [
    "# 使用 for 迴圈讀取 dict 資料1 \n",
    "for i in dict03: # 只會遍歷 key 值\n",
    "    print(i)"
   ]
  },
  {
   "cell_type": "code",
   "execution_count": 62,
   "metadata": {},
   "outputs": [
    {
     "name": "stdout",
     "output_type": "stream",
     "text": [
      "{'price': 100, 'quantity': 50, 'color': ['green', 'red', 'yellow']}\n",
      "{'price': 50, 'quantity': 30, 'color': ['orange']}\n",
      "{'price': 150, 'quantity': 70, 'color': ['red', 'green']}\n"
     ]
    }
   ],
   "source": [
    "# 使用 for 迴圈讀取 dict 資料2\n",
    "for i in dict03.values(): # 只會遍歷所有 value\n",
    "    print(i)\n"
   ]
  },
  {
   "cell_type": "code",
   "execution_count": 6,
   "metadata": {},
   "outputs": [
    {
     "ename": "NameError",
     "evalue": "name 'dict03' is not defined",
     "output_type": "error",
     "traceback": [
      "\u001b[1;31m---------------------------------------------------------------------------\u001b[0m",
      "\u001b[1;31mNameError\u001b[0m                                 Traceback (most recent call last)",
      "Input \u001b[1;32mIn [6]\u001b[0m, in \u001b[0;36m<cell line: 2>\u001b[1;34m()\u001b[0m\n\u001b[0;32m      1\u001b[0m \u001b[38;5;66;03m# 使用 for 迴圈讀取 dict 資料3\u001b[39;00m\n\u001b[1;32m----> 2\u001b[0m \u001b[38;5;28;01mfor\u001b[39;00m key, value \u001b[38;5;129;01min\u001b[39;00m \u001b[43mdict03\u001b[49m\u001b[38;5;241m.\u001b[39mitems():\n\u001b[0;32m      3\u001b[0m     \u001b[38;5;28mprint\u001b[39m(key)\n\u001b[0;32m      4\u001b[0m     \u001b[38;5;28mprint\u001b[39m(value)\n",
      "\u001b[1;31mNameError\u001b[0m: name 'dict03' is not defined"
     ]
    }
   ],
   "source": [
    "# 使用 for 迴圈讀取 dict 資料3\n",
    "for key, value in dict03.items():\n",
    "    print(key)\n",
    "    print(value)\n",
    "    for i in value['color']:\n",
    "        print(f'{key} has color {i}.')"
   ]
  },
  {
   "cell_type": "code",
   "execution_count": 5,
   "metadata": {},
   "outputs": [
    {
     "ename": "NameError",
     "evalue": "name 'dict03' is not defined",
     "output_type": "error",
     "traceback": [
      "\u001b[1;31m---------------------------------------------------------------------------\u001b[0m",
      "\u001b[1;31mNameError\u001b[0m                                 Traceback (most recent call last)",
      "Input \u001b[1;32mIn [5]\u001b[0m, in \u001b[0;36m<cell line: 1>\u001b[1;34m()\u001b[0m\n\u001b[1;32m----> 1\u001b[0m apple_data \u001b[38;5;241m=\u001b[39m \u001b[43mdict03\u001b[49m[\u001b[38;5;124m'\u001b[39m\u001b[38;5;124mapple\u001b[39m\u001b[38;5;124m'\u001b[39m]\n\u001b[0;32m      2\u001b[0m \u001b[38;5;28mprint\u001b[39m(apple_data)\n\u001b[0;32m      4\u001b[0m \u001b[38;5;66;03m# kiwi_data = dict03['kiwi'] # 沒有這個 key 值會報錯\u001b[39;00m\n",
      "\u001b[1;31mNameError\u001b[0m: name 'dict03' is not defined"
     ]
    }
   ],
   "source": [
    "apple_data = dict03['apple']\n",
    "print(apple_data)\n",
    "\n",
    "# kiwi_data = dict03['kiwi'] # 沒有這個 key 值會報錯\n",
    "kiwi_data = dict03.get('kiwi') # 回傳 None\n",
    "print(kiwi_data)\n"
   ]
  },
  {
   "cell_type": "markdown",
   "metadata": {},
   "source": [
    "##### `defaultdict(<type>)`"
   ]
  },
  {
   "cell_type": "code",
   "execution_count": 55,
   "metadata": {},
   "outputs": [
    {
     "name": "stdout",
     "output_type": "stream",
     "text": [
      "0\n"
     ]
    }
   ],
   "source": [
    "# 當訪問的鍵不存在時，可以自動創建鍵和預設值，而不是拋出KeyError。\n",
    "from collections import defaultdict\n",
    "\n",
    "my_defaultdict = defaultdict(int)  # 以int型態的預設值0來初始化\n",
    "\n",
    "print(my_defaultdict['test_key'])\n"
   ]
  },
  {
   "cell_type": "code",
   "execution_count": 47,
   "metadata": {},
   "outputs": [],
   "source": [
    "fruit_color_list = [\n",
    "    {'apple': 'red'}, \n",
    "    {'grape': 'purple'}, \n",
    "    {'kiwi': 'yellow'}, \n",
    "    {'apple': 'green'}, \n",
    "    {'kiwi': 'green'}, \n",
    "    {'grape': 'green'}]\n"
   ]
  },
  {
   "cell_type": "code",
   "execution_count": 51,
   "metadata": {},
   "outputs": [
    {
     "name": "stdout",
     "output_type": "stream",
     "text": [
      "{'apple': ['red', 'green'], 'grape': ['purple', 'green'], 'kiwi': ['yellow', 'green']}\n"
     ]
    }
   ],
   "source": [
    "color_dict = {}\n",
    "for fruit_dict in fruit_color_list:\n",
    "    for fruit, color in fruit_dict.items():\n",
    "        if color_dict.get(fruit) is None:\n",
    "            color_dict[fruit] = [color]\n",
    "        else:\n",
    "            color_dict[fruit].append(color)\n",
    "\n",
    "print(color_dict)"
   ]
  },
  {
   "cell_type": "code",
   "execution_count": 52,
   "metadata": {},
   "outputs": [
    {
     "name": "stdout",
     "output_type": "stream",
     "text": [
      "defaultdict(<class 'list'>, {'apple': ['red', 'green'], 'grape': ['purple', 'green'], 'kiwi': ['yellow', 'green']})\n"
     ]
    }
   ],
   "source": [
    "from collections import defaultdict\n",
    "\n",
    "color_dict = defaultdict(list)\n",
    "\n",
    "for fruit_dict in fruit_color_list:\n",
    "    for fruit, color in fruit_dict.items():\n",
    "        color_dict[fruit].append(color)\n",
    "\n",
    "print(color_dict)"
   ]
  },
  {
   "cell_type": "code",
   "execution_count": 48,
   "metadata": {},
   "outputs": [
    {
     "name": "stdout",
     "output_type": "stream",
     "text": [
      "{'apple': {'price': 50, 'color': ['red', 'green']}, 'grape': {'price': 200, 'color': ['purple', 'green']}, 'kiwi': {'price': 30, 'color': ['yellow', 'green']}}\n"
     ]
    }
   ],
   "source": [
    "fruit_color_list = [\n",
    "    {'apple': 'red'}, \n",
    "    {'grape': 'purple'}, \n",
    "    {'kiwi': 'yellow'}, \n",
    "    {'apple': 'green'}, \n",
    "    {'kiwi': 'green'}, \n",
    "    {'grape': 'green'}]\n",
    "\n",
    "fruit_price_dict = {\n",
    "    'apple': 50,\n",
    "    'grape': 200,\n",
    "    'kiwi': 30\n",
    "}\n",
    "\n",
    "main_dict = {}\n",
    "\n",
    "for key, value in fruit_price_dict.items():\n",
    "    main_dict[key] = {'price': value}\n",
    "\n",
    "# 加入顏色信息\n",
    "for fruit_dict in fruit_color_list:\n",
    "    for fruit, color in fruit_dict.items():\n",
    "        if main_dict[fruit].get('color') == None:\n",
    "            main_dict[fruit]['color'] = [color]\n",
    "        else:\n",
    "            main_dict[fruit]['color'].append(color) \n",
    "\n",
    "        # if fruit not in main_dict:\n",
    "        #     main_dict[fruit] = {'price': 0, 'color': [color]}\n",
    "        # elif color not in main_dict[fruit]['color']:\n",
    "        #     main_dict[fruit]['color'].append(color)\n",
    "\n",
    "# 加入價格信息\n",
    "# for fruit, price in fruit_price_dict.items():\n",
    "#     if fruit in main_dict:\n",
    "#         main_dict[fruit]['price'] = price\n",
    "\n",
    "# 結果\n",
    "print(main_dict)"
   ]
  },
  {
   "cell_type": "code",
   "execution_count": null,
   "metadata": {},
   "outputs": [],
   "source": [
    "main_dict = {}\n",
    "\n",
    "for key, value in fruit_price_dict.items():\n",
    "    main_dict[key] = {'price': value}\n",
    "\n",
    "# 加入顏色信息\n",
    "for fruit_dict in fruit_color_list:\n",
    "    for fruit, color in fruit_dict.items():\n",
    "        if main_dict[fruit].get('color') == None:\n",
    "            main_dict[fruit]['color'] = [color]\n",
    "        else:\n",
    "            main_dict[fruit]['color'].append(color) "
   ]
  },
  {
   "cell_type": "code",
   "execution_count": 66,
   "metadata": {},
   "outputs": [
    {
     "name": "stdout",
     "output_type": "stream",
     "text": [
      "{'color': []}\n"
     ]
    }
   ],
   "source": [
    "my_defaultdict2 = defaultdict(lambda:{'color': []})  # 以int型態的預設值0來初始化\n",
    "print(my_defaultdict2[1])"
   ]
  },
  {
   "cell_type": "code",
   "execution_count": 67,
   "metadata": {},
   "outputs": [],
   "source": [
    "dict03 = {\n",
    "    'apple': {\n",
    "        'price': 100,\n",
    "        'quantity': 50,\n",
    "        'color': ['greem', 'red']\n",
    "    },\n",
    "    'orange': {\n",
    "        'price': 50,\n",
    "        'quantity': 30,\n",
    "        'color': 'orange'\n",
    "    },\n",
    "    'tomato': {\n",
    "        'price': 150,\n",
    "        'quantity': 70,\n",
    "        'color': 'red'\n",
    "    }\n",
    "}"
   ]
  }
 ],
 "metadata": {
  "kernelspec": {
   "display_name": "Python 3",
   "language": "python",
   "name": "python3"
  },
  "language_info": {
   "codemirror_mode": {
    "name": "ipython",
    "version": 3
   },
   "file_extension": ".py",
   "mimetype": "text/x-python",
   "name": "python",
   "nbconvert_exporter": "python",
   "pygments_lexer": "ipython3",
   "version": "3.9.13"
  }
 },
 "nbformat": 4,
 "nbformat_minor": 2
}
