{
 "cells": [
  {
   "cell_type": "markdown",
   "metadata": {},
   "source": [
    "### dict method"
   ]
  },
  {
   "cell_type": "code",
   "execution_count": 1,
   "metadata": {},
   "outputs": [
    {
     "name": "stdout",
     "output_type": "stream",
     "text": [
      "{'apple': 100, 'orange': 20, 'tomato': 50}\n"
     ]
    }
   ],
   "source": [
    "# 初始化 dict\n",
    "dict01 = {\"apple\": 100, \"orange\": 20, \"tomato\": 50}\n",
    "print(dict01)"
   ]
  },
  {
   "cell_type": "code",
   "execution_count": 1,
   "metadata": {},
   "outputs": [
    {
     "name": "stdout",
     "output_type": "stream",
     "text": [
      "{'apple': 100, 'orange': 20, 'tomato': 50}\n"
     ]
    }
   ],
   "source": [
    "# 建議的寫法\n",
    "dict01 = {\n",
    "    \"apple\": 100,\n",
    "    \"orange\": 20,\n",
    "    \"tomato\": 50\n",
    "}\n",
    "print(dict01)"
   ]
  },
  {
   "cell_type": "code",
   "execution_count": 2,
   "metadata": {},
   "outputs": [
    {
     "name": "stdout",
     "output_type": "stream",
     "text": [
      "100\n"
     ]
    }
   ],
   "source": [
    "# 印出 蘋果的價格\n",
    "print(dict01['apple'])\n"
   ]
  },
  {
   "cell_type": "code",
   "execution_count": 3,
   "metadata": {},
   "outputs": [
    {
     "name": "stdout",
     "output_type": "stream",
     "text": [
      "30\n"
     ]
    }
   ],
   "source": [
    "# 修改 橘子的價格\n",
    "dict01['orange'] = 30\n",
    "print(dict01['orange'])"
   ]
  },
  {
   "cell_type": "code",
   "execution_count": 4,
   "metadata": {},
   "outputs": [
    {
     "name": "stdout",
     "output_type": "stream",
     "text": [
      "{'apple': 100, 'orange': 30, 'kiwi': 40}\n"
     ]
    }
   ],
   "source": [
    "# 刪除 番茄\n",
    "del dict01['tomato']\n",
    "\n",
    "print(dict01)"
   ]
  },
  {
   "cell_type": "code",
   "execution_count": 6,
   "metadata": {},
   "outputs": [
    {
     "name": "stdout",
     "output_type": "stream",
     "text": [
      "{'apple': 100, 'orange': 30, 'kiwi': 40}\n"
     ]
    }
   ],
   "source": [
    "# 新增 奇異果\n",
    "dict01['kiwi'] = 40\n",
    "print(dict01)"
   ]
  },
  {
   "cell_type": "code",
   "execution_count": 10,
   "metadata": {},
   "outputs": [],
   "source": [
    "# 建立一個 value 含有 dict 的 dict\n",
    "dict02 = {\n",
    "    'name': 'Jarvis',\n",
    "    'age': 18,\n",
    "    'info': {\n",
    "        'nickname': 'boatman',\n",
    "        'favorite_role': 'ironman',\n",
    "        'phone_number': ['0912345678', '0922345678', '0932345678']\n",
    "    }\n",
    "}"
   ]
  },
  {
   "cell_type": "code",
   "execution_count": 8,
   "metadata": {},
   "outputs": [
    {
     "name": "stdout",
     "output_type": "stream",
     "text": [
      "info\n",
      "boatman\n"
     ]
    }
   ],
   "source": [
    "# 取得 nickname\n",
    "print('info')\n",
    "print(dict02['info']['nickname'])"
   ]
  },
  {
   "cell_type": "code",
   "execution_count": 11,
   "metadata": {},
   "outputs": [
    {
     "name": "stdout",
     "output_type": "stream",
     "text": [
      "0912345678\n",
      "0922345678\n",
      "0932345678\n"
     ]
    }
   ],
   "source": [
    "# 取得所有 phone_number\n",
    "for number in dict02['info']['phone_number']:\n",
    "    print(number)"
   ]
  },
  {
   "cell_type": "code",
   "execution_count": 2,
   "metadata": {},
   "outputs": [],
   "source": [
    "'''\n",
    "改寫 dict01 每個水果需要 price, quantity, color\n",
    "apple 可能會有 綠色或紅色\n",
    "'''\n",
    "\n",
    "dict03 = {\n",
    "    'apple': {\n",
    "        'price': 100,\n",
    "        'quantity': 50,\n",
    "        'color': ['greem', 'red']\n",
    "    },\n",
    "    'orange': {\n",
    "        'price': 50,\n",
    "        'quantity': 30,\n",
    "        'color': 'orange'\n",
    "    },\n",
    "    'tomato': {\n",
    "        'price': 150,\n",
    "        'quantity': 70,\n",
    "        'color': 'red'\n",
    "    }\n",
    "}"
   ]
  },
  {
   "cell_type": "code",
   "execution_count": 3,
   "metadata": {},
   "outputs": [
    {
     "name": "stdout",
     "output_type": "stream",
     "text": [
      "{'apple': {'price': 100, 'quantity': 50, 'color': ['greem', 'red', 'yellow']}, 'orange': {'price': 50, 'quantity': 30, 'color': 'orange'}, 'tomato': {'price': 150, 'quantity': 70, 'color': 'red'}}\n"
     ]
    }
   ],
   "source": [
    "# apple 有新的品種 顏色要有黃色\n",
    "dict03['apple']['color'].append('yellow')\n",
    "print(dict03)"
   ]
  },
  {
   "cell_type": "code",
   "execution_count": 4,
   "metadata": {},
   "outputs": [
    {
     "name": "stdout",
     "output_type": "stream",
     "text": [
      "{'apple': {'color': ['greem', 'red', 'yellow'], 'price': 100, 'quantity': 50},\n",
      " 'orange': {'color': 'orange', 'price': 50, 'quantity': 30},\n",
      " 'tomato': {'color': 'red', 'price': 150, 'quantity': 70}}\n"
     ]
    }
   ],
   "source": [
    "# 另外的 print方式 (pretty-print)\n",
    "from pprint import pprint\n",
    "pprint(dict03)"
   ]
  },
  {
   "cell_type": "code",
   "execution_count": 5,
   "metadata": {},
   "outputs": [
    {
     "name": "stdout",
     "output_type": "stream",
     "text": [
      "apple\n",
      "orange\n",
      "tomato\n"
     ]
    }
   ],
   "source": [
    "# 使用 for 迴圈讀取 dict 資料1 \n",
    "for i in dict03: # 只會遍歷 key 值\n",
    "    print(i)"
   ]
  },
  {
   "cell_type": "code",
   "execution_count": 7,
   "metadata": {},
   "outputs": [
    {
     "name": "stdout",
     "output_type": "stream",
     "text": [
      "{'price': 100, 'quantity': 50, 'color': ['greem', 'red', 'yellow']}\n",
      "{'price': 50, 'quantity': 30, 'color': 'orange'}\n",
      "{'price': 150, 'quantity': 70, 'color': 'red'}\n"
     ]
    }
   ],
   "source": [
    "# 使用 for 迴圈讀取 dict 資料2\n",
    "for i in dict03.values(): # 只會遍歷所有 value\n",
    "    print(i)\n"
   ]
  },
  {
   "cell_type": "code",
   "execution_count": 15,
   "metadata": {},
   "outputs": [
    {
     "name": "stdout",
     "output_type": "stream",
     "text": [
      "apple\n",
      "{'price': 100, 'quantity': 50, 'color': ['greem', 'red', 'yellow']}\n",
      "orange\n",
      "{'price': 50, 'quantity': 30, 'color': 'orange'}\n",
      "tomato\n",
      "{'price': 150, 'quantity': 70, 'color': 'red'}\n"
     ]
    }
   ],
   "source": [
    "# 使用 for 迴圈讀取 dict 資料3\n",
    "for key, value in dict03.items():\n",
    "    print(key)\n",
    "    print(value)"
   ]
  },
  {
   "cell_type": "code",
   "execution_count": 13,
   "metadata": {},
   "outputs": [
    {
     "name": "stdout",
     "output_type": "stream",
     "text": [
      "{'price': 100, 'quantity': 50, 'color': ['greem', 'red', 'yellow']}\n",
      "None\n"
     ]
    }
   ],
   "source": [
    "apple_data = dict03['apple']\n",
    "print(apple_data)\n",
    "\n",
    "\n",
    "# kiwi_data = dict03['kiwi'] # 沒有這個 key 值會報錯\n",
    "kiwi_data = dict03.get('kiwi') # 回傳 None\n",
    "print(kiwi_data)"
   ]
  },
  {
   "cell_type": "code",
   "execution_count": null,
   "metadata": {},
   "outputs": [],
   "source": []
  }
 ],
 "metadata": {
  "kernelspec": {
   "display_name": "Python 3",
   "language": "python",
   "name": "python3"
  },
  "language_info": {
   "codemirror_mode": {
    "name": "ipython",
    "version": 3
   },
   "file_extension": ".py",
   "mimetype": "text/x-python",
   "name": "python",
   "nbconvert_exporter": "python",
   "pygments_lexer": "ipython3",
   "version": "3.12.0"
  }
 },
 "nbformat": 4,
 "nbformat_minor": 2
}
