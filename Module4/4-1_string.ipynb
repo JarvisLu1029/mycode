{
 "cells": [
  {
   "cell_type": "markdown",
   "metadata": {},
   "source": [
    "|string方法| str.replace('old', 'new') | str.strip( ) | str.lower( ) | str.upper( ) |\n",
    "|:---:|:---:|:---:|:---:|:---:|\n",
    "|功能| 替換字串 | 移除開頭和結尾 | 轉小寫 | 轉大寫 |"
   ]
  },
  {
   "cell_type": "code",
   "execution_count": 1,
   "metadata": {},
   "outputs": [
    {
     "name": "stdout",
     "output_type": "stream",
     "text": [
      "1, 2, 3, 4\n"
     ]
    }
   ],
   "source": [
    "# 字串變數初始化\n",
    "string01 = \"1, 2, 3, 4\"\n",
    "print(string01)"
   ]
  },
  {
   "cell_type": "code",
   "execution_count": 2,
   "metadata": {},
   "outputs": [
    {
     "name": "stdout",
     "output_type": "stream",
     "text": [
      "Allen\n"
     ]
    }
   ],
   "source": [
    "# 替換字串\n",
    "'''\n",
    "string.replace(str1, str2)\n",
    "將 string 中的 str1 替換成 str2\n",
    "'''\n",
    "string02 = \"Alex\"\n",
    "string02 = string02.replace('ex', 'len')\n",
    "print(string02)"
   ]
  },
  {
   "cell_type": "code",
   "execution_count": 14,
   "metadata": {},
   "outputs": [
    {
     "name": "stdout",
     "output_type": "stream",
     "text": [
      "   __ccc__   \n",
      "__ccc__\n"
     ]
    }
   ],
   "source": [
    "# 去除兩側空格\n",
    "'''\n",
    "string.strip() 只能移除開頭和結尾\n",
    "去除字串 string 左、右兩邊的空格\n",
    "'''\n",
    "string03 = \"   __ccc__   \"\n",
    "print(string03)\n",
    "print(string03.strip())"
   ]
  },
  {
   "cell_type": "code",
   "execution_count": 15,
   "metadata": {},
   "outputs": [
    {
     "name": "stdout",
     "output_type": "stream",
     "text": [
      "car\n",
      "GOOD\n"
     ]
    }
   ],
   "source": [
    "# 字串小寫變大寫\n",
    "'''\n",
    "string.lower()\n",
    "將字串 string 裡的字母全部改成小寫\n",
    "'''\n",
    "print(\"CAR\".lower())\n",
    "\n",
    "'''\n",
    "string.upper()\n",
    "將字串 string 裡的字母全部改成大寫\n",
    "'''\n",
    "print(\"good\".upper())\n"
   ]
  },
  {
   "cell_type": "code",
   "execution_count": 16,
   "metadata": {},
   "outputs": [
    {
     "name": "stdout",
     "output_type": "stream",
     "text": [
      "['hello', 'world!']\n"
     ]
    }
   ],
   "source": [
    "string04 = \"hello world!\"\n",
    "string04_list = string04.split(' ')\n",
    "print(string04_list)"
   ]
  },
  {
   "cell_type": "code",
   "execution_count": 17,
   "metadata": {},
   "outputs": [
    {
     "name": "stdout",
     "output_type": "stream",
     "text": [
      "Hello World! \n"
     ]
    }
   ],
   "source": [
    "string05 = ''\n",
    "for i in string04_list:\n",
    "    string05 += i[0].upper() + i[1:] + ' '\n",
    "print(string05)"
   ]
  }
 ],
 "metadata": {
  "kernelspec": {
   "display_name": "Python 3",
   "language": "python",
   "name": "python3"
  },
  "language_info": {
   "codemirror_mode": {
    "name": "ipython",
    "version": 3
   },
   "file_extension": ".py",
   "mimetype": "text/x-python",
   "name": "python",
   "nbconvert_exporter": "python",
   "pygments_lexer": "ipython3",
   "version": "3.9.13"
  }
 },
 "nbformat": 4,
 "nbformat_minor": 2
}
