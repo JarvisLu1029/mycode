{
 "cells": [
  {
   "cell_type": "markdown",
   "metadata": {},
   "source": [
    "|語法|說明|\n",
    "|:---:|:---:|\n",
    "|%s |插入 字串 的值到字串中|\n",
    "|%f |插入 浮點數 的值到字串中|\n",
    "|%d |插入 整數 的值到字串中|\n",
    "|%% |輸出百分比  (類似跳脫字元)|"
   ]
  },
  {
   "cell_type": "code",
   "execution_count": 2,
   "metadata": {},
   "outputs": [
    {
     "name": "stdout",
     "output_type": "stream",
     "text": [
      "Hello, World!\n",
      "Hello, World! Hello, World\n"
     ]
    }
   ],
   "source": [
    "# 多組文字\n",
    "msg = '%s, %s!' % ('Hello', 'World')\n",
    "print(msg)\n",
    "\n",
    "string01 = 'Hello, World'\n",
    "msg2 = '%s! %s' % (string01, string01)\n",
    "print(msg2)"
   ]
  },
  {
   "cell_type": "code",
   "execution_count": 3,
   "metadata": {},
   "outputs": [
    {
     "name": "stdout",
     "output_type": "stream",
     "text": [
      "I am 5 years old.\n"
     ]
    }
   ],
   "source": [
    "# 整數\n",
    "msg = 'I am %d years old.' % 5\n",
    "print(msg)"
   ]
  },
  {
   "cell_type": "code",
   "execution_count": 4,
   "metadata": {},
   "outputs": [
    {
     "name": "stdout",
     "output_type": "stream",
     "text": [
      "Alex is 18 years old.\n"
     ]
    }
   ],
   "source": [
    "# 文字與整數\n",
    "msg = '%s is %d years old.' % ('Alex', 18)\n",
    "print(msg)"
   ]
  },
  {
   "cell_type": "code",
   "execution_count": 8,
   "metadata": {},
   "outputs": [
    {
     "name": "stdout",
     "output_type": "stream",
     "text": [
      "[     Hello]\n"
     ]
    }
   ],
   "source": [
    "# 指定寬度 (維持 10 個字元長度，預設向右看齊)\n",
    "msg = '[%10s]' % 'Hello'\n",
    "print(msg)"
   ]
  },
  {
   "cell_type": "code",
   "execution_count": 10,
   "metadata": {},
   "outputs": [
    {
     "name": "stdout",
     "output_type": "stream",
     "text": [
      "[Hello     ]\n"
     ]
    }
   ],
   "source": [
    "# 靠左對齊 (維持 10 個字元長度，向左對齊)\n",
    "msg = '[%-10s]' % 'Hello'\n",
    "print(msg)"
   ]
  },
  {
   "cell_type": "code",
   "execution_count": 13,
   "metadata": {},
   "outputs": [
    {
     "name": "stdout",
     "output_type": "stream",
     "text": [
      "[  12.346]\n"
     ]
    }
   ],
   "source": [
    "# 指定浮點數位數\n",
    "msg = '[%8.3f]' % 12.3456\n",
    "# msg = '[%.3f]' % 12.3456\n",
    "print(msg)"
   ]
  },
  {
   "cell_type": "code",
   "execution_count": 18,
   "metadata": {},
   "outputs": [
    {
     "name": "stdout",
     "output_type": "stream",
     "text": [
      "[Hel]\n"
     ]
    }
   ],
   "source": [
    "# 指定文字長度上限 (只有文字，才在格式化字串中加入「.」來限定字串長度)\n",
    "msg = '[%.3s]' % 'Hello'\n",
    "print(msg)"
   ]
  },
  {
   "cell_type": "code",
   "execution_count": 19,
   "metadata": {},
   "outputs": [
    {
     "name": "stdout",
     "output_type": "stream",
     "text": [
      "[003.14]\n"
     ]
    }
   ],
   "source": [
    "# 空白補 0\n",
    "msg = '[%06.2f]' % 3.1415926\n",
    "print(msg)"
   ]
  },
  {
   "cell_type": "code",
   "execution_count": 1,
   "metadata": {},
   "outputs": [
    {
     "name": "stdout",
     "output_type": "stream",
     "text": [
      "3.14%\n"
     ]
    }
   ],
   "source": [
    "# 輸出 %\n",
    "percent_msg = '%.2f%%' % 3.1415\n",
    "print(percent_msg)"
   ]
  }
 ],
 "metadata": {
  "kernelspec": {
   "display_name": "Python 3",
   "language": "python",
   "name": "python3"
  },
  "language_info": {
   "codemirror_mode": {
    "name": "ipython",
    "version": 3
   },
   "file_extension": ".py",
   "mimetype": "text/x-python",
   "name": "python",
   "nbconvert_exporter": "python",
   "pygments_lexer": "ipython3",
   "version": "3.9.13"
  }
 },
 "nbformat": 4,
 "nbformat_minor": 2
}
