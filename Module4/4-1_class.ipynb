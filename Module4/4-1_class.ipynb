{
 "cells": [
  {
   "cell_type": "markdown",
   "metadata": {},
   "source": [
    "| 裝飾器 | 用法 | 特點 |\n",
    "|:---:|:---:|:---:|\n",
    "| `@classmethod` | 將方法標記為類方法，可以通過類本身或其實例調用。 | 第一個參數是類本身（通常命名為 cls）。 |\n",
    "| `@staticmethod` | 將方法標記為靜態方法，它的行為像普通函數，但屬於類的命名空間。 | 不接收類或實例的參考作為第一個參數。 |\n",
    "| `@property` | 允許將類的方法當作屬性訪問 | |"
   ]
  },
  {
   "cell_type": "code",
   "execution_count": 33,
   "metadata": {},
   "outputs": [],
   "source": [
    "class Car:\n",
    "    wheel = 4 # 類別屬性\n",
    "    year = 2023\n",
    "\n",
    "    def __init__(self, brand, model, price):\n",
    "        self.brand = brand # 實例屬性\n",
    "        self.model = model\n",
    "        self.price = price\n",
    "\n",
    "        print('You create a Car Object')\n",
    "\n",
    "    def info(self, door=4):\n",
    "        \n",
    "        return f'In {Car.year}, {self.brand} has a car named {self.model} with {door} doors'\n",
    "    \n",
    "    def get_discounted_price(self, discount):\n",
    "        discounted_price = self.price * discount\n",
    "        \n",
    "        return int(discounted_price)\n",
    "    \n",
    "    @classmethod # 如果創建實例是需要經過計算 可以用這個方式\n",
    "    def from_year(cls, brand, model, price, year):\n",
    "        cls.year = year # 修改類的屬性\n",
    "        return cls(brand, model, price) # 創建實例\n",
    "    \n",
    "    @classmethod \n",
    "    def calculate_tax(cls, brand, model, price):\n",
    "        price = price + price*(10/100)\n",
    "        return cls(brand, model, price) # 創建實例\n",
    "\n",
    "    @staticmethod\n",
    "    def convert_currency(amount, exchange_rate):\n",
    "        return f'{amount / exchange_rate:.2f}'\n",
    "\n",
    "    @property\n",
    "    def price_info(self):\n",
    "        return f'The price of {self.model} is {self.price}.'\n"
   ]
  },
  {
   "cell_type": "code",
   "execution_count": 34,
   "metadata": {},
   "outputs": [
    {
     "name": "stdout",
     "output_type": "stream",
     "text": [
      "You create a Car Object\n",
      "4\n",
      "In 2023, Toyota has a car named ALTIS with 4 doors\n",
      "783000\n"
     ]
    }
   ],
   "source": [
    "car1 = Car('Toyota', 'ALTIS', 870000)\n",
    "print(car1.wheel)\n",
    "print(car1.info())\n",
    "print(car1.get_discounted_price(0.9))\n"
   ]
  },
  {
   "cell_type": "code",
   "execution_count": 18,
   "metadata": {},
   "outputs": [
    {
     "name": "stdout",
     "output_type": "stream",
     "text": [
      "28064.52\n"
     ]
    }
   ],
   "source": [
    "# @staticmethod\n",
    "print(Car.convert_currency(car1.price, 31))"
   ]
  },
  {
   "cell_type": "code",
   "execution_count": 31,
   "metadata": {},
   "outputs": [
    {
     "name": "stdout",
     "output_type": "stream",
     "text": [
      "You create a Car Object\n",
      "You create a Car Object\n",
      "In 2020, Toyota has a car named Camry with 4 doors\n",
      "3300000.0\n"
     ]
    }
   ],
   "source": [
    "# @classmethod \n",
    "toyota_camry = Car.from_year('Toyota', 'Camry', 30000, 2020)\n",
    "print(toyota_camry.info())  "
   ]
  },
  {
   "cell_type": "code",
   "execution_count": null,
   "metadata": {},
   "outputs": [],
   "source": [
    "# @classmethod \n",
    "benz_from_germany = Car.calculate_tax('Benz', 'E-Class', 3000000)\n",
    "print(benz_from_germany.price)"
   ]
  },
  {
   "cell_type": "code",
   "execution_count": 35,
   "metadata": {},
   "outputs": [
    {
     "name": "stdout",
     "output_type": "stream",
     "text": [
      "The price of ALTIS is 870000.\n"
     ]
    }
   ],
   "source": [
    "print(car1.price_info)"
   ]
  },
  {
   "cell_type": "code",
   "execution_count": 28,
   "metadata": {},
   "outputs": [
    {
     "name": "stdout",
     "output_type": "stream",
     "text": [
      "You create a Car Object\n",
      "In 2020, Toyota has a car named YARiS with 5 doors\n",
      "826500\n",
      "2020\n"
     ]
    }
   ],
   "source": [
    "car2 = Car('Toyota', 'YARiS', 750000)\n",
    "print(car2.info(5))\n",
    "print(car1.get_discounted_price(0.95))\n",
    "print(car2.year)"
   ]
  }
 ],
 "metadata": {
  "kernelspec": {
   "display_name": "Python 3",
   "language": "python",
   "name": "python3"
  },
  "language_info": {
   "codemirror_mode": {
    "name": "ipython",
    "version": 3
   },
   "file_extension": ".py",
   "mimetype": "text/x-python",
   "name": "python",
   "nbconvert_exporter": "python",
   "pygments_lexer": "ipython3",
   "version": "3.9.13"
  }
 },
 "nbformat": 4,
 "nbformat_minor": 2
}
