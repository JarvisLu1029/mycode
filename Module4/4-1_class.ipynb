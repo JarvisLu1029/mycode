{
 "cells": [
  {
   "cell_type": "code",
   "execution_count": 1,
   "metadata": {},
   "outputs": [],
   "source": [
    "class Car:\n",
    "    wheel = 4 # 類別屬性\n",
    "    year = 2023\n",
    "\n",
    "    def __init__(self, brand, model, price):\n",
    "        self.brand = brand # 實例屬性\n",
    "        self.model = model\n",
    "        self.price = price\n",
    "\n",
    "        print('You create a Car Object')\n",
    "\n",
    "    def info(self, door=4):\n",
    "        \n",
    "        return f'In {Car.year}, {self.brand} has a car named {self.model} with {door} doors'\n",
    "    \n",
    "    def get_discounted_price(self, discount):\n",
    "        discounted_price = self.price * discount\n",
    "        \n",
    "        return int(discounted_price)"
   ]
  },
  {
   "cell_type": "code",
   "execution_count": 2,
   "metadata": {},
   "outputs": [
    {
     "name": "stdout",
     "output_type": "stream",
     "text": [
      "You create a Car Object\n",
      "4\n",
      "In 2023, Toyota has a car named ALTIS with 4 doors\n",
      "783000\n"
     ]
    }
   ],
   "source": [
    "car1 = Car('Toyota', 'ALTIS', 870000)\n",
    "print(car1.wheel)\n",
    "print(car1.info())\n",
    "print(car1.get_discounted_price(0.9))\n"
   ]
  },
  {
   "cell_type": "code",
   "execution_count": 3,
   "metadata": {},
   "outputs": [
    {
     "name": "stdout",
     "output_type": "stream",
     "text": [
      "You create a Car Object\n",
      "In 2023, Toyota has a car named YARiS with 5 doors\n",
      "826500\n"
     ]
    }
   ],
   "source": [
    "car2 = Car('Toyota', 'YARiS', 750000)\n",
    "print(car2.info(5))\n",
    "print(car1.get_discounted_price(0.95))"
   ]
  }
 ],
 "metadata": {
  "kernelspec": {
   "display_name": "Python 3",
   "language": "python",
   "name": "python3"
  },
  "language_info": {
   "codemirror_mode": {
    "name": "ipython",
    "version": 3
   },
   "file_extension": ".py",
   "mimetype": "text/x-python",
   "name": "python",
   "nbconvert_exporter": "python",
   "pygments_lexer": "ipython3",
   "version": "3.9.13"
  }
 },
 "nbformat": 4,
 "nbformat_minor": 2
}
