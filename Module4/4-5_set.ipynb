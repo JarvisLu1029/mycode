{
 "cells": [
  {
   "cell_type": "markdown",
   "metadata": {},
   "source": [
    "### set method"
   ]
  },
  {
   "cell_type": "code",
   "execution_count": 1,
   "metadata": {},
   "outputs": [
    {
     "name": "stdout",
     "output_type": "stream",
     "text": [
      "{'Data', 'Big', 'is'}\n"
     ]
    }
   ],
   "source": [
    "# Set 初始化\n",
    "my_set01 = {'Big', 'Data', 'is'}\n",
    "print(my_set01) # 是無序的"
   ]
  },
  {
   "cell_type": "code",
   "execution_count": 2,
   "metadata": {},
   "outputs": [
    {
     "name": "stdout",
     "output_type": "stream",
     "text": [
      "Data\n",
      "Big\n",
      "is\n"
     ]
    }
   ],
   "source": [
    "# 一筆筆讀資料 : for 迴圈\n",
    "for data in my_set01:\n",
    "    print(data)\n"
   ]
  },
  {
   "cell_type": "code",
   "execution_count": 3,
   "metadata": {},
   "outputs": [
    {
     "name": "stdout",
     "output_type": "stream",
     "text": [
      "3\n"
     ]
    }
   ],
   "source": [
    "# 總共有幾筆資料: len()\n",
    "print(len(my_set01))\n"
   ]
  },
  {
   "cell_type": "code",
   "execution_count": 4,
   "metadata": {},
   "outputs": [
    {
     "name": "stdout",
     "output_type": "stream",
     "text": [
      "{'Data', 'Best', 'Big', 'the', 'is'}\n"
     ]
    }
   ],
   "source": [
    "# 添加一筆資料: add()\n",
    "my_set01.add('the') \n",
    "my_set01.add('Best')\n",
    "print(my_set01)"
   ]
  },
  {
   "cell_type": "code",
   "execution_count": 5,
   "metadata": {},
   "outputs": [
    {
     "name": "stdout",
     "output_type": "stream",
     "text": [
      "{'Data', 'Best', 'Big', 'the', 'is'}\n"
     ]
    }
   ],
   "source": [
    "# 此時新增重複的資料，不會增加\n",
    "my_set01.add('Big')\n",
    "print(my_set01)"
   ]
  },
  {
   "cell_type": "code",
   "execution_count": 6,
   "metadata": {},
   "outputs": [
    {
     "name": "stdout",
     "output_type": "stream",
     "text": [
      "{'Data', 'Best', 'SQL', 'Big', 'HTML', 'the', 'is', 'Java'}\n"
     ]
    }
   ],
   "source": [
    "# 添加多筆資料: update()\n",
    "my_set01.update(['Java', 'HTML', 'SQL'])\n",
    "print(my_set01)"
   ]
  },
  {
   "cell_type": "code",
   "execution_count": 7,
   "metadata": {},
   "outputs": [
    {
     "name": "stdout",
     "output_type": "stream",
     "text": [
      "{'Data', 'Best', 'SQL', 'Big', 'HTML', 'the', 'is', 'Java'}\n"
     ]
    }
   ],
   "source": [
    "my_set01.update({'Java', 'HTML', 'SQL'})\n",
    "print(my_set01)"
   ]
  },
  {
   "cell_type": "code",
   "execution_count": 11,
   "metadata": {},
   "outputs": [
    {
     "name": "stdout",
     "output_type": "stream",
     "text": [
      "{'Data', 'Best', 'SQL', 'Big', 'HTML', 'the', 'is', 'Java', 'Java2'}\n"
     ]
    }
   ],
   "source": [
    "my_set01.update(('Java2', 'HTML2', 'SQL2'))\n",
    "print(my_set01)"
   ]
  },
  {
   "cell_type": "code",
   "execution_count": 13,
   "metadata": {},
   "outputs": [
    {
     "name": "stdout",
     "output_type": "stream",
     "text": [
      "{'Data', 'Best', 'SQL', 'Big', 'HTML', 'the', 'is', 'Java2'}\n"
     ]
    }
   ],
   "source": [
    "# 刪除元素: discard() or remove()\n",
    "my_set01.discard('Java') # 沒有該值不會報錯\n",
    "print(my_set01)"
   ]
  },
  {
   "cell_type": "code",
   "execution_count": 9,
   "metadata": {},
   "outputs": [
    {
     "ename": "KeyError",
     "evalue": "'Java'",
     "output_type": "error",
     "traceback": [
      "\u001b[0;31m---------------------------------------------------------------------------\u001b[0m",
      "\u001b[0;31mKeyError\u001b[0m                                  Traceback (most recent call last)",
      "Cell \u001b[0;32mIn[9], line 2\u001b[0m\n\u001b[1;32m      1\u001b[0m \u001b[39m# 沒有該值會報錯\u001b[39;00m\n\u001b[0;32m----> 2\u001b[0m my_set01\u001b[39m.\u001b[39;49mremove(\u001b[39m'\u001b[39;49m\u001b[39mJava\u001b[39;49m\u001b[39m'\u001b[39;49m) \n\u001b[1;32m      3\u001b[0m \u001b[39mprint\u001b[39m(my_set01)\n",
      "\u001b[0;31mKeyError\u001b[0m: 'Java'"
     ]
    }
   ],
   "source": [
    "# 沒有該值會報錯\n",
    "my_set01.remove('Java') \n",
    "print(my_set01)"
   ]
  },
  {
   "cell_type": "code",
   "execution_count": 14,
   "metadata": {},
   "outputs": [
    {
     "name": "stdout",
     "output_type": "stream",
     "text": [
      "{'Data', 'Best', 'Big', 'the', 'is', 'Java2'}\n"
     ]
    }
   ],
   "source": [
    "# 一次刪除多個值\n",
    "my_set02 = my_set01 - {'HTML', 'SQL'}\n",
    "\n",
    "print(my_set02)"
   ]
  },
  {
   "cell_type": "code",
   "execution_count": null,
   "metadata": {},
   "outputs": [],
   "source": []
  }
 ],
 "metadata": {
  "kernelspec": {
   "display_name": "Python 3",
   "language": "python",
   "name": "python3"
  },
  "language_info": {
   "codemirror_mode": {
    "name": "ipython",
    "version": 3
   },
   "file_extension": ".py",
   "mimetype": "text/x-python",
   "name": "python",
   "nbconvert_exporter": "python",
   "pygments_lexer": "ipython3",
   "version": "3.11.2"
  }
 },
 "nbformat": 4,
 "nbformat_minor": 2
}
