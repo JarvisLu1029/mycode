{
 "cells": [
  {
   "cell_type": "markdown",
   "metadata": {},
   "source": [
    "### set method"
   ]
  },
  {
   "cell_type": "code",
   "execution_count": 2,
   "metadata": {},
   "outputs": [
    {
     "name": "stdout",
     "output_type": "stream",
     "text": [
      "{'Data', 'Big', 'is'}\n"
     ]
    }
   ],
   "source": [
    "# Set 初始化\n",
    "my_set01 = {'Big', 'Data', 'is'}\n",
    "print(my_set01) # 是無序的"
   ]
  },
  {
   "cell_type": "code",
   "execution_count": 3,
   "metadata": {},
   "outputs": [
    {
     "name": "stdout",
     "output_type": "stream",
     "text": [
      "Data\n",
      "Big\n",
      "is\n"
     ]
    }
   ],
   "source": [
    "# 一筆筆讀資料 : for 迴圈\n",
    "for data in my_set01:\n",
    "    print(data)\n"
   ]
  },
  {
   "cell_type": "code",
   "execution_count": 4,
   "metadata": {},
   "outputs": [
    {
     "name": "stdout",
     "output_type": "stream",
     "text": [
      "3\n"
     ]
    }
   ],
   "source": [
    "# 總共有幾筆資料: len()\n",
    "print(len(my_set01))\n"
   ]
  },
  {
   "cell_type": "code",
   "execution_count": 5,
   "metadata": {},
   "outputs": [
    {
     "name": "stdout",
     "output_type": "stream",
     "text": [
      "{'Best', 'Big', 'is', 'Data', 'the'}\n"
     ]
    }
   ],
   "source": [
    "# set 可變 但 無序(無法用 index 找到元素)\n",
    "# 添加一筆資料: add()\n",
    "my_set01.add('the') \n",
    "my_set01.add('Best')\n",
    "print(my_set01)"
   ]
  },
  {
   "cell_type": "code",
   "execution_count": 6,
   "metadata": {},
   "outputs": [
    {
     "name": "stdout",
     "output_type": "stream",
     "text": [
      "{'Best', 'Big', 'is', 'Data', 'the'}\n"
     ]
    }
   ],
   "source": [
    "# 此時新增重複的資料，不會增加\n",
    "my_set01.add('Big')\n",
    "print(my_set01)"
   ]
  },
  {
   "cell_type": "code",
   "execution_count": 7,
   "metadata": {},
   "outputs": [
    {
     "name": "stdout",
     "output_type": "stream",
     "text": [
      "{'Best', 'Big', 'SQL', 'Java', 'is', 'HTML', 'Data', 'the'}\n"
     ]
    }
   ],
   "source": [
    "# 添加多筆資料: update()\n",
    "my_set01.update(['Java', 'HTML', 'SQL'])\n",
    "print(my_set01)"
   ]
  },
  {
   "cell_type": "code",
   "execution_count": 8,
   "metadata": {},
   "outputs": [
    {
     "name": "stdout",
     "output_type": "stream",
     "text": [
      "{'Best', 'Big', 'SQL', 'Java', 'is', 'HTML', 'Data', 'the'}\n"
     ]
    }
   ],
   "source": [
    "my_set01.update({'Java', 'HTML', 'SQL'})\n",
    "print(my_set01)"
   ]
  },
  {
   "cell_type": "code",
   "execution_count": 9,
   "metadata": {},
   "outputs": [
    {
     "name": "stdout",
     "output_type": "stream",
     "text": [
      "{'Java2', 'Best', 'Big', 'SQL', 'Java', 'SQL2', 'is', 'HTML', 'HTML2', 'Data', 'the'}\n"
     ]
    }
   ],
   "source": [
    "my_set01.update(('Java2', 'HTML2', 'SQL2'))\n",
    "print(my_set01)"
   ]
  },
  {
   "cell_type": "code",
   "execution_count": 10,
   "metadata": {},
   "outputs": [
    {
     "name": "stdout",
     "output_type": "stream",
     "text": [
      "{'Java2', 'Best', 'Big', 'SQL', 'SQL2', 'is', 'HTML', 'HTML2', 'Data', 'the'}\n"
     ]
    }
   ],
   "source": [
    "# 刪除元素: discard() or remove()\n",
    "my_set01.discard('Java') # 沒有該值不會報錯\n",
    "print(my_set01)"
   ]
  },
  {
   "cell_type": "code",
   "execution_count": 11,
   "metadata": {},
   "outputs": [
    {
     "ename": "KeyError",
     "evalue": "'Java'",
     "output_type": "error",
     "traceback": [
      "\u001b[1;31m---------------------------------------------------------------------------\u001b[0m",
      "\u001b[1;31mKeyError\u001b[0m                                  Traceback (most recent call last)",
      "\u001b[1;32me:\\Program\\資策會課程講義\\個人講義\\Python_code\\mycode\\Module4\\4-5_set.ipynb 儲存格 11\u001b[0m line \u001b[0;36m2\n\u001b[0;32m      <a href='vscode-notebook-cell:/e%3A/Program/%E8%B3%87%E7%AD%96%E6%9C%83%E8%AA%B2%E7%A8%8B%E8%AC%9B%E7%BE%A9/%E5%80%8B%E4%BA%BA%E8%AC%9B%E7%BE%A9/Python_code/mycode/Module4/4-5_set.ipynb#X13sZmlsZQ%3D%3D?line=0'>1</a>\u001b[0m \u001b[39m# 沒有該值會報錯\u001b[39;00m\n\u001b[1;32m----> <a href='vscode-notebook-cell:/e%3A/Program/%E8%B3%87%E7%AD%96%E6%9C%83%E8%AA%B2%E7%A8%8B%E8%AC%9B%E7%BE%A9/%E5%80%8B%E4%BA%BA%E8%AC%9B%E7%BE%A9/Python_code/mycode/Module4/4-5_set.ipynb#X13sZmlsZQ%3D%3D?line=1'>2</a>\u001b[0m my_set01\u001b[39m.\u001b[39;49mremove(\u001b[39m'\u001b[39;49m\u001b[39mJava\u001b[39;49m\u001b[39m'\u001b[39;49m) \n\u001b[0;32m      <a href='vscode-notebook-cell:/e%3A/Program/%E8%B3%87%E7%AD%96%E6%9C%83%E8%AA%B2%E7%A8%8B%E8%AC%9B%E7%BE%A9/%E5%80%8B%E4%BA%BA%E8%AC%9B%E7%BE%A9/Python_code/mycode/Module4/4-5_set.ipynb#X13sZmlsZQ%3D%3D?line=2'>3</a>\u001b[0m \u001b[39mprint\u001b[39m(my_set01)\n",
      "\u001b[1;31mKeyError\u001b[0m: 'Java'"
     ]
    }
   ],
   "source": [
    "# 沒有該值會報錯\n",
    "my_set01.remove('Java') \n",
    "print(my_set01)"
   ]
  },
  {
   "cell_type": "code",
   "execution_count": 13,
   "metadata": {},
   "outputs": [
    {
     "name": "stdout",
     "output_type": "stream",
     "text": [
      "{'Java2', 'Best', 'Big', 'SQL2', 'is', 'HTML2', 'Data', 'the'}\n"
     ]
    }
   ],
   "source": [
    "# 一次刪除多個值\n",
    "my_set02 = my_set01 - {'HTML', 'SQL'}\n",
    "\n",
    "print(my_set02)"
   ]
  }
 ],
 "metadata": {
  "kernelspec": {
   "display_name": "Python 3",
   "language": "python",
   "name": "python3"
  },
  "language_info": {
   "codemirror_mode": {
    "name": "ipython",
    "version": 3
   },
   "file_extension": ".py",
   "mimetype": "text/x-python",
   "name": "python",
   "nbconvert_exporter": "python",
   "pygments_lexer": "ipython3",
   "version": "3.12.0"
  }
 },
 "nbformat": 4,
 "nbformat_minor": 2
}
