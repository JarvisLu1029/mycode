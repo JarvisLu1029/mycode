{
 "cells": [
  {
   "cell_type": "markdown",
   "metadata": {},
   "source": [
    "| 任務類型 | 優化手段 | 舉例 |\n",
    "|:---:|:---:|:---:|\n",
    "| IO Bound | Multithreading | 爬蟲程式、大量文件讀寫、串接第三方API |\n",
    "| CPU Bound | Multiprocessing | 大量資料處理、數學運算 |"
   ]
  },
  {
   "cell_type": "code",
   "execution_count": 1,
   "metadata": {},
   "outputs": [
    {
     "name": "stdout",
     "output_type": "stream",
     "text": [
      "1, 6, 11, 127, 2, , 313, 8, , 914, 4, , 155, 10, , 所有數字打印完成。\n"
     ]
    }
   ],
   "source": [
    "import threading\n",
    "import time\n",
    "\n",
    "# 定義一個函式用於打印數字\n",
    "def print_numbers(start, end):\n",
    "    for number in range(start, end + 1):\n",
    "        print(number, end=', ')\n",
    "        time.sleep(1)\n",
    "\n",
    "# 創建執行緒\n",
    "thread1 = threading.Thread(target=print_numbers, args=(1, 5))\n",
    "thread2 = threading.Thread(target=print_numbers, args=(6, 10))\n",
    "thread3 = threading.Thread(target=print_numbers, args=(11, 15))\n",
    "\n",
    "# 啟動執行緒\n",
    "thread1.start()\n",
    "thread2.start()\n",
    "thread3.start()\n",
    "\n",
    "# 等待所有執行緒完成\n",
    "thread1.join()\n",
    "thread2.join()\n",
    "thread3.join()\n",
    "\n",
    "print(\"所有數字打印完成。\")\n"
   ]
  },
  {
   "attachments": {
    "image.png": {
     "image/png": "[encoded data removed]"
    }
   },
   "cell_type": "markdown",
   "metadata": {},
   "source": [
    "![image.png](attachment:image.png)"
   ]
  },
  {
   "cell_type": "code",
   "execution_count": 2,
   "metadata": {},
   "outputs": [
    {
     "name": "stdout",
     "output_type": "stream",
     "text": [
      "1, 6, 7, 2, 3, 8, 4, 9, 10, 5, 所有數字打印完成。\n"
     ]
    }
   ],
   "source": [
    "import threading\n",
    "import time\n",
    "\n",
    "# 創建一個執行緒鎖\n",
    "lock = threading.Lock()\n",
    "\n",
    "# 定義一個函式用於打印數字\n",
    "def print_numbers(start, end):\n",
    "    for number in range(start, end + 1):\n",
    "        lock.acquire()\n",
    "        print(number, end=', ')\n",
    "        lock.release()\n",
    "        time.sleep(0.5)\n",
    "\n",
    "        \n",
    "# 創建兩個執行緒\n",
    "thread1 = threading.Thread(target=print_numbers, args=(1, 5))\n",
    "thread2 = threading.Thread(target=print_numbers, args=(6, 10))\n",
    "\n",
    "# 啟動執行緒\n",
    "thread1.start()\n",
    "thread2.start()\n",
    "\n",
    "# 等待所有執行緒完成\n",
    "thread1.join()\n",
    "thread2.join()\n",
    "\n",
    "print(\"所有數字打印完成。\")\n"
   ]
  },
  {
   "cell_type": "code",
   "execution_count": 3,
   "metadata": {},
   "outputs": [
    {
     "name": "stdout",
     "output_type": "stream",
     "text": [
      "1, 6, 11, 12, 2, 7, 13, 8, 3, 14, 9, 4, 10, 5, 15, "
     ]
    }
   ],
   "source": [
    "\n",
    "tasks = [(1, 5), (6, 10), (11, 15)]\n",
    "thread_list = []\n",
    "\n",
    "for task in tasks:\n",
    "    thread = threading.Thread(target=print_numbers, args=task)\n",
    "    thread.start()\n",
    "    thread_list.append(thread)\n",
    "\n",
    "for t in thread_list:\n",
    "    t.join()"
   ]
  }
 ],
 "metadata": {
  "kernelspec": {
   "display_name": "Python 3",
   "language": "python",
   "name": "python3"
  },
  "language_info": {
   "codemirror_mode": {
    "name": "ipython",
    "version": 3
   },
   "file_extension": ".py",
   "mimetype": "text/x-python",
   "name": "python",
   "nbconvert_exporter": "python",
   "pygments_lexer": "ipython3",
   "version": "3.9.13"
  }
 },
 "nbformat": 4,
 "nbformat_minor": 2
}
