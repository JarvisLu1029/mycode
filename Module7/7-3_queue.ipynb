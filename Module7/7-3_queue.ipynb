{
 "cells": [
  {
   "cell_type": "code",
   "execution_count": 1,
   "metadata": {},
   "outputs": [
    {
     "name": "stdout",
     "output_type": "stream",
     "text": [
      "Producer : 1\n",
      "消費者取出數字: 1\n",
      "Producer : 2消費者取出數字: 2\n",
      "\n",
      "Producer : 3消費者取出數字: 3\n",
      "\n",
      "Producer : 4消費者取出數字: 4\n",
      "\n",
      "Producer : 5消費者取出數字: 5\n",
      "\n",
      "生產和消費過程完成。\n"
     ]
    }
   ],
   "source": [
    "import queue, threading\n",
    "import time\n",
    "\n",
    "# 定義生產者函數，將數字放入隊列\n",
    "def producer(q, numbers):\n",
    "    for number in numbers:\n",
    "        q.put(number)\n",
    "        print(f\"Producer : {number}\")\n",
    "        time.sleep(1)\n",
    "    q.put(None)  # 放入 None 來表示生產完畢\n",
    "\n",
    "# 定義消費者函數，從隊列中取出並處理數字\n",
    "def consumer(q):\n",
    "    while True:\n",
    "        number = q.get()\n",
    "        if number is None:\n",
    "            break\n",
    "        print(f\"消費者取出數字: {number}\")\n",
    "\n",
    "# 創建隊列\n",
    "q = queue.Queue()\n",
    "\n",
    "# 創建並啟動生產者和消費者執行緒\n",
    "producer_thread = threading.Thread(target=producer, args=(q, range(1, 6)))\n",
    "consumer_thread = threading.Thread(target=consumer, args=(q,))\n",
    "\n",
    "producer_thread.start()\n",
    "consumer_thread.start()\n",
    "\n",
    "# 等待執行緒完成\n",
    "producer_thread.join()\n",
    "q.put(None)\n",
    "\n",
    "consumer_thread.join()\n",
    "\n",
    "print(\"生產和消費過程完成。\")\n"
   ]
  },
  {
   "cell_type": "code",
   "execution_count": 4,
   "metadata": {},
   "outputs": [
    {
     "name": "stdout",
     "output_type": "stream",
     "text": [
      "<class 'queue.Queue'>\n"
     ]
    }
   ],
   "source": [
    "print(type(q))"
   ]
  },
  {
   "cell_type": "code",
   "execution_count": null,
   "metadata": {},
   "outputs": [],
   "source": []
  }
 ],
 "metadata": {
  "kernelspec": {
   "display_name": "Python 3",
   "language": "python",
   "name": "python3"
  },
  "language_info": {
   "codemirror_mode": {
    "name": "ipython",
    "version": 3
   },
   "file_extension": ".py",
   "mimetype": "text/x-python",
   "name": "python",
   "nbconvert_exporter": "python",
   "pygments_lexer": "ipython3",
   "version": "3.9.13"
  }
 },
 "nbformat": 4,
 "nbformat_minor": 2
}
