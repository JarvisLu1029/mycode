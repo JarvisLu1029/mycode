{
 "cells": [
  {
   "cell_type": "code",
   "execution_count": null,
   "metadata": {},
   "outputs": [],
   "source": [
    "# 自訂例外處理\n",
    "x = -1\n",
    "if x < 0:\n",
    "    raise Exception('數字小於 0')\n"
   ]
  },
  {
   "cell_type": "code",
   "execution_count": null,
   "metadata": {},
   "outputs": [],
   "source": [
    "# 自訂型別錯誤(TypeError)的例外處理\n",
    "x = 'hello'\n",
    "if type(x) is not int:\n",
    "    raise TypeError('Only accept type(int)')"
   ]
  },
  {
   "cell_type": "markdown",
   "metadata": {},
   "source": [
    "##### 設計 raise 陳述"
   ]
  },
  {
   "cell_type": "code",
   "execution_count": null,
   "metadata": {},
   "outputs": [],
   "source": [
    "def get_user_data(permission, user_class):\n",
    "    if permission == \"SchoolAdmin\":\n",
    "        if user_class == 'BigData':\n",
    "            return 'John'\n",
    "        else:\n",
    "            raise Exception('班級錯誤')\n",
    "    else:\n",
    "        raise NameError('權限不足')\n",
    "\n",
    "try:\n",
    "    user_name = get_user_data('SchoolAdmin', 'Java')\n",
    "    print(user_name)\n",
    "except NameError as err:\n",
    "    print(err)\n",
    "except Exception as id:\n",
    "    print(id)"
   ]
  }
 ],
 "metadata": {
  "kernelspec": {
   "display_name": "Python 3",
   "language": "python",
   "name": "python3"
  },
  "language_info": {
   "codemirror_mode": {
    "name": "ipython",
    "version": 3
   },
   "file_extension": ".py",
   "mimetype": "text/x-python",
   "name": "python",
   "nbconvert_exporter": "python",
   "pygments_lexer": "ipython3",
   "version": "3.9.13"
  }
 },
 "nbformat": 4,
 "nbformat_minor": 2
}
