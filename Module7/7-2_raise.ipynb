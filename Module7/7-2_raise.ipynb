{
 "cells": [
  {
   "cell_type": "code",
   "execution_count": 1,
   "metadata": {},
   "outputs": [
    {
     "ename": "Exception",
     "evalue": "數字小於 0",
     "output_type": "error",
     "traceback": [
      "\u001b[1;31m---------------------------------------------------------------------------\u001b[0m",
      "\u001b[1;31mException\u001b[0m                                 Traceback (most recent call last)",
      "\u001b[1;32me:\\Program\\資策會課程講義\\個人講義\\Python_code\\mycode\\Module7\\7-2_raise.ipynb 儲存格 1\u001b[0m line \u001b[0;36m4\n\u001b[0;32m      <a href='vscode-notebook-cell:/e%3A/Program/%E8%B3%87%E7%AD%96%E6%9C%83%E8%AA%B2%E7%A8%8B%E8%AC%9B%E7%BE%A9/%E5%80%8B%E4%BA%BA%E8%AC%9B%E7%BE%A9/Python_code/mycode/Module7/7-2_raise.ipynb#W0sZmlsZQ%3D%3D?line=1'>2</a>\u001b[0m x \u001b[39m=\u001b[39m \u001b[39m-\u001b[39m\u001b[39m1\u001b[39m\n\u001b[0;32m      <a href='vscode-notebook-cell:/e%3A/Program/%E8%B3%87%E7%AD%96%E6%9C%83%E8%AA%B2%E7%A8%8B%E8%AC%9B%E7%BE%A9/%E5%80%8B%E4%BA%BA%E8%AC%9B%E7%BE%A9/Python_code/mycode/Module7/7-2_raise.ipynb#W0sZmlsZQ%3D%3D?line=2'>3</a>\u001b[0m \u001b[39mif\u001b[39;00m x \u001b[39m<\u001b[39m \u001b[39m0\u001b[39m:\n\u001b[1;32m----> <a href='vscode-notebook-cell:/e%3A/Program/%E8%B3%87%E7%AD%96%E6%9C%83%E8%AA%B2%E7%A8%8B%E8%AC%9B%E7%BE%A9/%E5%80%8B%E4%BA%BA%E8%AC%9B%E7%BE%A9/Python_code/mycode/Module7/7-2_raise.ipynb#W0sZmlsZQ%3D%3D?line=3'>4</a>\u001b[0m     \u001b[39mraise\u001b[39;00m \u001b[39mException\u001b[39;00m(\u001b[39m'\u001b[39m\u001b[39m數字小於 0\u001b[39m\u001b[39m'\u001b[39m)\n",
      "\u001b[1;31mException\u001b[0m: 數字小於 0"
     ]
    }
   ],
   "source": [
    "# 自訂例外處理\n",
    "x = -1\n",
    "if x < 0:\n",
    "    raise Exception('數字小於 0')\n"
   ]
  },
  {
   "cell_type": "code",
   "execution_count": 2,
   "metadata": {},
   "outputs": [
    {
     "ename": "TypeError",
     "evalue": "Only accept type(int)",
     "output_type": "error",
     "traceback": [
      "\u001b[1;31m---------------------------------------------------------------------------\u001b[0m",
      "\u001b[1;31mTypeError\u001b[0m                                 Traceback (most recent call last)",
      "\u001b[1;32me:\\Program\\資策會課程講義\\個人講義\\Python_code\\mycode\\Module7\\7-2_raise.ipynb 儲存格 2\u001b[0m line \u001b[0;36m4\n\u001b[0;32m      <a href='vscode-notebook-cell:/e%3A/Program/%E8%B3%87%E7%AD%96%E6%9C%83%E8%AA%B2%E7%A8%8B%E8%AC%9B%E7%BE%A9/%E5%80%8B%E4%BA%BA%E8%AC%9B%E7%BE%A9/Python_code/mycode/Module7/7-2_raise.ipynb#W1sZmlsZQ%3D%3D?line=1'>2</a>\u001b[0m x \u001b[39m=\u001b[39m \u001b[39m'\u001b[39m\u001b[39mhello\u001b[39m\u001b[39m'\u001b[39m\n\u001b[0;32m      <a href='vscode-notebook-cell:/e%3A/Program/%E8%B3%87%E7%AD%96%E6%9C%83%E8%AA%B2%E7%A8%8B%E8%AC%9B%E7%BE%A9/%E5%80%8B%E4%BA%BA%E8%AC%9B%E7%BE%A9/Python_code/mycode/Module7/7-2_raise.ipynb#W1sZmlsZQ%3D%3D?line=2'>3</a>\u001b[0m \u001b[39mif\u001b[39;00m \u001b[39mtype\u001b[39m(x) \u001b[39mis\u001b[39;00m \u001b[39mnot\u001b[39;00m \u001b[39mint\u001b[39m:\n\u001b[1;32m----> <a href='vscode-notebook-cell:/e%3A/Program/%E8%B3%87%E7%AD%96%E6%9C%83%E8%AA%B2%E7%A8%8B%E8%AC%9B%E7%BE%A9/%E5%80%8B%E4%BA%BA%E8%AC%9B%E7%BE%A9/Python_code/mycode/Module7/7-2_raise.ipynb#W1sZmlsZQ%3D%3D?line=3'>4</a>\u001b[0m     \u001b[39mraise\u001b[39;00m \u001b[39mTypeError\u001b[39;00m(\u001b[39m'\u001b[39m\u001b[39mOnly accept type(int)\u001b[39m\u001b[39m'\u001b[39m)\n",
      "\u001b[1;31mTypeError\u001b[0m: Only accept type(int)"
     ]
    }
   ],
   "source": [
    "# 自訂型別錯誤(TypeError)的例外處理\n",
    "x = 'hello'\n",
    "if type(x) is not int:\n",
    "    raise TypeError('Only accept type(int)')"
   ]
  },
  {
   "cell_type": "markdown",
   "metadata": {},
   "source": [
    "##### 設計 raise 陳述"
   ]
  },
  {
   "cell_type": "code",
   "execution_count": 3,
   "metadata": {},
   "outputs": [
    {
     "name": "stdout",
     "output_type": "stream",
     "text": [
      "班級錯誤\n"
     ]
    }
   ],
   "source": [
    "def get_user_data(permission, user_class):\n",
    "    if permission == \"SchoolAdmin\":\n",
    "        if user_class == 'BigData':\n",
    "            return 'John'\n",
    "        else:\n",
    "            raise Exception('班級錯誤')\n",
    "    else:\n",
    "        raise NameError('權限不足')\n",
    "\n",
    "try:\n",
    "    user_name = get_user_data('SchoolAdmin', 'Java')\n",
    "    print(user_name)\n",
    "except NameError as err:\n",
    "    print(err)\n",
    "except Exception as id:\n",
    "    print(id)"
   ]
  }
 ],
 "metadata": {
  "kernelspec": {
   "display_name": "Python 3",
   "language": "python",
   "name": "python3"
  },
  "language_info": {
   "codemirror_mode": {
    "name": "ipython",
    "version": 3
   },
   "file_extension": ".py",
   "mimetype": "text/x-python",
   "name": "python",
   "nbconvert_exporter": "python",
   "pygments_lexer": "ipython3",
   "version": "3.12.0"
  }
 },
 "nbformat": 4,
 "nbformat_minor": 2
}
