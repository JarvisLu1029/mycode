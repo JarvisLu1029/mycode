{
 "cells": [
  {
   "cell_type": "markdown",
   "metadata": {},
   "source": [
    "##### try...except..."
   ]
  },
  {
   "cell_type": "code",
   "execution_count": 2,
   "metadata": {},
   "outputs": [
    {
     "name": "stdout",
     "output_type": "stream",
     "text": [
      "x 尚未宣告\n"
     ]
    }
   ],
   "source": [
    "# 可以連續定義數個例外處理機制\n",
    "# 最符合的例外事件類別會先拋出\n",
    "\n",
    "try:\n",
    "    # x = [1, 2, 3]\n",
    "    print(x[5])\n",
    "\n",
    "except NameError:\n",
    "    print('x 尚未宣告')\n",
    "except IndexError:\n",
    "    print('index error')\n",
    "except Exception:\n",
    "    print(\"Something wrong\")\n"
   ]
  },
  {
   "cell_type": "code",
   "execution_count": 3,
   "metadata": {},
   "outputs": [
    {
     "name": "stdout",
     "output_type": "stream",
     "text": [
      "Exception:\n",
      "name 'x' is not defined\n"
     ]
    }
   ],
   "source": [
    "# 多層例外處理: \n",
    "\n",
    "try:\n",
    "    print(x)\n",
    "    try:\n",
    "        print(y)\n",
    "    except NameError as err:\n",
    "        print(\"NameError:\")\n",
    "        print(str(err))\n",
    "    # print(x)\n",
    "except Exception as err:\n",
    "    print(\"Exception:\")\n",
    "    print(str(err))\n"
   ]
  },
  {
   "cell_type": "markdown",
   "metadata": {},
   "source": [
    "##### try...except...else...finally..."
   ]
  },
  {
   "cell_type": "code",
   "execution_count": null,
   "metadata": {},
   "outputs": [],
   "source": [
    "# 如果沒有錯誤，就會執行 else 程式區塊\n",
    "# finally 程式區塊是無論有無錯誤，都會執行\n",
    "\n",
    "try:\n",
    "    # z = 5\n",
    "    print(z)\n",
    "except NameError:\n",
    "    print(\"變數尚未宣告\")\n",
    "else:\n",
    "    print('沒有例外發生')\n",
    "finally:\n",
    "    print('程式結束')\n",
    "\n"
   ]
  }
 ],
 "metadata": {
  "kernelspec": {
   "display_name": "Python 3",
   "language": "python",
   "name": "python3"
  },
  "language_info": {
   "codemirror_mode": {
    "name": "ipython",
    "version": 3
   },
   "file_extension": ".py",
   "mimetype": "text/x-python",
   "name": "python",
   "nbconvert_exporter": "python",
   "pygments_lexer": "ipython3",
   "version": "3.12.0"
  }
 },
 "nbformat": 4,
 "nbformat_minor": 2
}
