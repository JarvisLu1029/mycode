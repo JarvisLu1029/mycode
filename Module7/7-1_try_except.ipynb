{
 "cells": [
  {
   "cell_type": "markdown",
   "metadata": {},
   "source": [
    "##### try...except..."
   ]
  },
  {
   "cell_type": "code",
   "execution_count": 1,
   "metadata": {},
   "outputs": [
    {
     "name": "stdout",
     "output_type": "stream",
     "text": [
      "index error\n"
     ]
    }
   ],
   "source": [
    "# 可以連續定義數個例外處理機制\n",
    "# 最符合的例外事件類別會先拋出\n",
    "\n",
    "try:\n",
    "    list01 = [1, 2, 3]\n",
    "    print(list01[5])\n",
    "\n",
    "except NameError:\n",
    "    print('list01 尚未宣告')\n",
    "except IndexError:\n",
    "    print('index error')\n",
    "    # list01 += [4, 5, 6]\n",
    "    # print(list01)\n",
    "except Exception:\n",
    "    print(\"Something wrong\")\n"
   ]
  },
  {
   "cell_type": "code",
   "execution_count": 4,
   "metadata": {},
   "outputs": [
    {
     "name": "stdout",
     "output_type": "stream",
     "text": [
      "10\n",
      "NameError: name 'y' is not defined\n",
      "10\n"
     ]
    }
   ],
   "source": [
    "# 多層例外處理: \n",
    "\n",
    "try:\n",
    "    num = 10\n",
    "    print(num)\n",
    "    # try:\n",
    "    print(y)\n",
    "    # except NameError as err:\n",
    "    #     print(f\"NameError: {err}\")\n",
    "\n",
    "    print(num)\n",
    "except Exception as err:\n",
    "    print(f\"Exception: {err}\")\n"
   ]
  },
  {
   "cell_type": "markdown",
   "metadata": {},
   "source": [
    "##### try...except...else...finally..."
   ]
  },
  {
   "cell_type": "code",
   "execution_count": null,
   "metadata": {},
   "outputs": [],
   "source": [
    "# 如果沒有錯誤，就會執行 else 程式區塊\n",
    "# finally 程式區塊是無論有無錯誤，都會執行\n",
    "\n",
    "try:\n",
    "    # z = 5\n",
    "    print(z) # 這邊報錯 程式就跳至 except 執行\n",
    "    x = 5\n",
    "    print(x)\n",
    "except NameError:\n",
    "    print(\"變數尚未宣告\")\n",
    "else:\n",
    "    x += 5\n",
    "    print('沒有例外發生才會執行')\n",
    "finally:\n",
    "    print(x)\n",
    "    print('程式結束')\n",
    "\n"
   ]
  }
 ],
 "metadata": {
  "kernelspec": {
   "display_name": "Python 3",
   "language": "python",
   "name": "python3"
  },
  "language_info": {
   "codemirror_mode": {
    "name": "ipython",
    "version": 3
   },
   "file_extension": ".py",
   "mimetype": "text/x-python",
   "name": "python",
   "nbconvert_exporter": "python",
   "pygments_lexer": "ipython3",
   "version": "3.12.0"
  }
 },
 "nbformat": 4,
 "nbformat_minor": 2
}
