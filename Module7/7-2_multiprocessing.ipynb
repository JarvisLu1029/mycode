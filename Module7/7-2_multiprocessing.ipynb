{
 "cells": [
  {
   "cell_type": "markdown",
   "metadata": {},
   "source": [
    "##### 實作數學運算"
   ]
  },
  {
   "cell_type": "code",
   "execution_count": 10,
   "metadata": {},
   "outputs": [
    {
     "name": "stdout",
     "output_type": "stream",
     "text": [
      "5000000050000000\n",
      "spend: 2.110278606414795\n"
     ]
    }
   ],
   "source": [
    "import time\n",
    "\n",
    "def task():\n",
    "    sum = 0\n",
    "    for i in range(1, 100000001):\n",
    "        sum += i\n",
    "\n",
    "    return sum\n",
    "\n",
    "\n",
    "start = time.time()\n",
    "\n",
    "sum = task()\n",
    "\n",
    "print(sum)\n",
    "print(\"spend:\", time.time() - start)"
   ]
  }
 ],
 "metadata": {
  "kernelspec": {
   "display_name": "Python 3",
   "language": "python",
   "name": "python3"
  },
  "language_info": {
   "codemirror_mode": {
    "name": "ipython",
    "version": 3
   },
   "file_extension": ".py",
   "mimetype": "text/x-python",
   "name": "python",
   "nbconvert_exporter": "python",
   "pygments_lexer": "ipython3",
   "version": "3.9.13"
  }
 },
 "nbformat": 4,
 "nbformat_minor": 2
}
