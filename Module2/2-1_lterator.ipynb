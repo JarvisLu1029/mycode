{
 "cells": [
  {
   "cell_type": "markdown",
   "metadata": {},
   "source": [
    "##### Iter( ) : 將可迭代容器轉換為迭代器"
   ]
  },
  {
   "cell_type": "code",
   "execution_count": 1,
   "metadata": {},
   "outputs": [],
   "source": [
    "# 將 list 轉為 Iterator\n",
    "my_list = [1, 2, 3, 4, 5]\n",
    "my_iterator = iter(my_list)"
   ]
  },
  {
   "cell_type": "markdown",
   "metadata": {},
   "source": [
    "##### 使用 next( )"
   ]
  },
  {
   "cell_type": "code",
   "execution_count": 2,
   "metadata": {},
   "outputs": [
    {
     "name": "stdout",
     "output_type": "stream",
     "text": [
      "1\n"
     ]
    }
   ],
   "source": [
    "# 使用 next() 函式\n",
    "item = next(my_iterator)\n",
    "print(item)"
   ]
  },
  {
   "cell_type": "markdown",
   "metadata": {},
   "source": [
    "##### 使用 for 迴圈遍歷 iterator"
   ]
  },
  {
   "cell_type": "code",
   "execution_count": 3,
   "metadata": {},
   "outputs": [
    {
     "name": "stdout",
     "output_type": "stream",
     "text": [
      "2\n",
      "3\n",
      "4\n",
      "5\n"
     ]
    }
   ],
   "source": [
    "# 只能使用一次\n",
    "# iterator 缺點:不支援索引查詢值、需要多次訪問同一個 list 也不適用\n",
    "for i in my_iterator:\n",
    "    print(i)"
   ]
  },
  {
   "cell_type": "markdown",
   "metadata": {},
   "source": [
    "##### sys.getsizeof( ) : 查看變數使用的記憶體空間"
   ]
  },
  {
   "cell_type": "code",
   "execution_count": 4,
   "metadata": {},
   "outputs": [
    {
     "name": "stdout",
     "output_type": "stream",
     "text": [
      "89095160\n",
      "84.96776580810547\n",
      "48\n"
     ]
    }
   ],
   "source": [
    "import sys\n",
    "\n",
    "# 建立一個 1~10000000 的 list\n",
    "my_list = [i for i in range(1, 10000001)]\n",
    "my_iterator = iter(my_list)\n",
    "\n",
    "# 查看使用的記憶體空間 sys.getsizeof(x) (bytes -> KB -> MB)\n",
    "print(sys.getsizeof(my_list))\n",
    "print(sys.getsizeof(my_list)/1024/1024)\n",
    "print(sys.getsizeof(my_iterator))"
   ]
  },
  {
   "cell_type": "markdown",
   "metadata": {},
   "source": [
    "##### 自定義 Iterator 結束時的錯誤訊息"
   ]
  },
  {
   "cell_type": "code",
   "execution_count": 5,
   "metadata": {},
   "outputs": [
    {
     "name": "stdout",
     "output_type": "stream",
     "text": [
      "1\n",
      "2\n",
      "3\n",
      "4\n",
      "5\n",
      "Iterator 結束了\n"
     ]
    }
   ],
   "source": [
    "my_list = [1, 2, 3, 4, 5]\n",
    "my_iterator = iter(my_list)\n",
    "\n",
    "try:\n",
    "    while True:\n",
    "        item = next(my_iterator)\n",
    "        print(item)\n",
    "except StopIteration:\n",
    "    print('Iterator 結束了')\n"
   ]
  },
  {
   "cell_type": "code",
   "execution_count": 6,
   "metadata": {},
   "outputs": [
    {
     "name": "stdout",
     "output_type": "stream",
     "text": [
      "<list_iterator object at 0x000001F0AA4E1B80>\n",
      "5\n"
     ]
    }
   ],
   "source": [
    "print(my_iterator)\n",
    "print(item)"
   ]
  },
  {
   "cell_type": "markdown",
   "metadata": {},
   "source": [
    "##### 補充"
   ]
  },
  {
   "cell_type": "code",
   "execution_count": 7,
   "metadata": {},
   "outputs": [
    {
     "name": "stdout",
     "output_type": "stream",
     "text": [
      "1\n",
      "3\n",
      "5\n",
      "7\n",
      "9\n"
     ]
    }
   ],
   "source": [
    "class MyIterator():\n",
    "    def __init__(self):\n",
    "        self.value = 1 \n",
    "\n",
    "    def __iter__(self):\n",
    "        return self\n",
    "\n",
    "    def __next__(self):\n",
    "        current_value = self.value\n",
    "        self.value += 2\n",
    "        return current_value\n",
    "\n",
    "a = MyIterator()\n",
    "for i in range(5):\n",
    "    print(next(a))\n"
   ]
  }
 ],
 "metadata": {
  "kernelspec": {
   "display_name": "Python 3",
   "language": "python",
   "name": "python3"
  },
  "language_info": {
   "codemirror_mode": {
    "name": "ipython",
    "version": 3
   },
   "file_extension": ".py",
   "mimetype": "text/x-python",
   "name": "python",
   "nbconvert_exporter": "python",
   "pygments_lexer": "ipython3",
   "version": "3.9.13"
  }
 },
 "nbformat": 4,
 "nbformat_minor": 2
}
