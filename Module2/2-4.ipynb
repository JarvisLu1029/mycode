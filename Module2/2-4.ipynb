{
 "cells": [
  {
   "cell_type": "markdown",
   "metadata": {},
   "source": [
    "|求偶數|求奇數| |\n",
    "|:---:|:---:|:---:|\n",
    "| %2 == 0 | %2 != 0 | |"
   ]
  },
  {
   "cell_type": "markdown",
   "metadata": {},
   "source": [
    "算術運算子"
   ]
  },
  {
   "cell_type": "code",
   "execution_count": 5,
   "metadata": {},
   "outputs": [
    {
     "name": "stdout",
     "output_type": "stream",
     "text": [
      "13\n",
      "1.5\n",
      "8\n"
     ]
    }
   ],
   "source": [
    "print(9+4)\n",
    "print(3/2)\n",
    "print(2**3)"
   ]
  },
  {
   "cell_type": "code",
   "execution_count": 8,
   "metadata": {},
   "outputs": [
    {
     "name": "stdout",
     "output_type": "stream",
     "text": [
      "0\n",
      "4\n"
     ]
    }
   ],
   "source": [
    "print(8%2)\n",
    "print(13//3)"
   ]
  },
  {
   "cell_type": "markdown",
   "metadata": {},
   "source": [
    "賦值運算子"
   ]
  },
  {
   "cell_type": "code",
   "execution_count": 2,
   "metadata": {},
   "outputs": [
    {
     "name": "stdout",
     "output_type": "stream",
     "text": [
      "13\n",
      "6\n"
     ]
    }
   ],
   "source": [
    "a, b = 9, 4\n",
    "c, d = 4, 2\n",
    "a = a + b\n",
    "print(a)\n",
    "c += d\n",
    "print(c)"
   ]
  },
  {
   "cell_type": "markdown",
   "metadata": {},
   "source": [
    "比較運算子 (用 if 判斷)"
   ]
  },
  {
   "cell_type": "code",
   "execution_count": 3,
   "metadata": {},
   "outputs": [
    {
     "name": "stdout",
     "output_type": "stream",
     "text": [
      "e = 4\n",
      "e > 2\n",
      "e 不等於 5\n"
     ]
    }
   ],
   "source": [
    "e = 4\n",
    "if e == 4:\n",
    "    print('e = 4')\n",
    "if e > 2:\n",
    "    print('e > 2')\n",
    "if e != 5:\n",
    "    print('e 不等於 5')"
   ]
  },
  {
   "cell_type": "markdown",
   "metadata": {},
   "source": [
    "邏輯運算子 and / or / not"
   ]
  },
  {
   "cell_type": "code",
   "execution_count": 4,
   "metadata": {},
   "outputs": [
    {
     "name": "stdout",
     "output_type": "stream",
     "text": [
      "ok\n",
      "name = Bill\n",
      "True\n",
      "f is not 9\n"
     ]
    }
   ],
   "source": [
    "f = 8\n",
    "name = 'Bill'\n",
    "if f == 8 and name == 'Bill':\n",
    "    print('ok')\n",
    "if f == 6 or name == 'Bill':\n",
    "    print('name = Bill')\n",
    "\n",
    "print(f == 8)\n",
    "if not f == 9:\n",
    "    print('f is not 9')"
   ]
  },
  {
   "cell_type": "markdown",
   "metadata": {},
   "source": [
    "成員運算子 in / not in"
   ]
  },
  {
   "cell_type": "code",
   "execution_count": null,
   "metadata": {},
   "outputs": [],
   "source": [
    "my_list = [5, 5, 6, 6 ,3 ,3 ,1 ,2]\n",
    "if 6 in my_list:\n",
    "    print('6 is in list')\n",
    "if 4 not in my_list:\n",
    "    print('4 is not in list')"
   ]
  },
  {
   "cell_type": "markdown",
   "metadata": {},
   "source": [
    "身分運算子 is / is not"
   ]
  },
  {
   "cell_type": "code",
   "execution_count": 12,
   "metadata": {},
   "outputs": [
    {
     "name": "stdout",
     "output_type": "stream",
     "text": [
      "x and y are the same\n",
      "3201058101424 3201058101424\n"
     ]
    }
   ],
   "source": [
    "# is\n",
    "x = 123\n",
    "y = x\n",
    "if x is y:\n",
    "    print('x and y are the same')\n",
    "print(id(x), id(y))"
   ]
  },
  {
   "cell_type": "code",
   "execution_count": 18,
   "metadata": {},
   "outputs": [
    {
     "name": "stdout",
     "output_type": "stream",
     "text": [
      "x and y are not same\n",
      "3201058101424 3201140079312\n"
     ]
    }
   ],
   "source": [
    "# is not\n",
    "x = 123\n",
    "y = 456\n",
    "if x is not y:\n",
    "    print('x and y are not same')\n",
    "print(id(x), id(y))"
   ]
  },
  {
   "cell_type": "code",
   "execution_count": 22,
   "metadata": {},
   "outputs": [
    {
     "name": "stdout",
     "output_type": "stream",
     "text": [
      "True\n",
      "False\n",
      "3201139595520\n",
      "3201140396928\n"
     ]
    }
   ],
   "source": [
    "# 觀念補充\n",
    "'''\n",
    "資源隔離： 不同的物件使用不同的內存空間，這樣它們的修改互不影響，確保資源的隔離性。\n",
    "安全性： 如果不同的變數或物件共享同一個內存地址，一個物件的修改可能會意外地影響到其他物件，這樣的情況容易導致錯誤。\n",
    "效能優化： Python的解釋器可以針對不同大小的物件選擇最合適的內存區域，從而提高效能。\n",
    "'''\n",
    "x = [1, 2, 3]\n",
    "y = [1, 2, 3]\n",
    "\n",
    "print(x == y)\n",
    "print(x is y)\n",
    "\n",
    "print(id(x))\n",
    "print(id(y))\n",
    "\n"
   ]
  },
  {
   "cell_type": "code",
   "execution_count": 23,
   "metadata": {},
   "outputs": [
    {
     "name": "stdout",
     "output_type": "stream",
     "text": [
      "True\n",
      "True\n",
      "3201134527408\n",
      "3201134527408\n"
     ]
    }
   ],
   "source": [
    "# 觀念補充2\n",
    "x = '123'\n",
    "y = '123'\n",
    "\n",
    "print(x == y)\n",
    "print(x is y)\n",
    "\n",
    "print(id(x))\n",
    "print(id(y))"
   ]
  },
  {
   "cell_type": "code",
   "execution_count": 24,
   "metadata": {},
   "outputs": [
    {
     "name": "stdout",
     "output_type": "stream",
     "text": [
      "True\n",
      "False\n",
      "3201140372928\n",
      "3201140357440\n"
     ]
    }
   ],
   "source": [
    "# 觀念補充3 tuple 不可變 但裡面的值還是可以變(例如放 list)\n",
    "x = (1, 2, 3)\n",
    "y = (1, 2, 3)\n",
    "\n",
    "print(x == y)\n",
    "print(x is y)\n",
    "\n",
    "print(id(x))\n",
    "print(id(y))\n"
   ]
  },
  {
   "cell_type": "code",
   "execution_count": 2,
   "metadata": {},
   "outputs": [
    {
     "name": "stdout",
     "output_type": "stream",
     "text": [
      "True\n",
      "False\n",
      "2463267397824\n",
      "2463267396864\n",
      "False\n",
      "False\n",
      "2463267397824\n",
      "2463267396864\n"
     ]
    }
   ],
   "source": [
    "x = (1, [1, 2], 3)\n",
    "y = (1, [1, 2], 3)\n",
    "\n",
    "print(x == y)\n",
    "print(x is y)\n",
    "\n",
    "print(id(x))\n",
    "print(id(y))\n",
    "\n",
    "x[1][0] = 5\n",
    "print(x == y)\n",
    "print(x is y)\n",
    "\n",
    "print(id(x))\n",
    "print(id(y))"
   ]
  },
  {
   "cell_type": "markdown",
   "metadata": {},
   "source": [
    "位元運算子"
   ]
  },
  {
   "cell_type": "code",
   "execution_count": 8,
   "metadata": {},
   "outputs": [
    {
     "name": "stdout",
     "output_type": "stream",
     "text": [
      "1\n",
      "3\n",
      "2\n"
     ]
    }
   ],
   "source": [
    "x = 1 # 0001\n",
    "y = 3 # 0011\n",
    "# x = 4 # 0100\n",
    "# y = 5 # 0101\n",
    "print(x & y) # 0001\n",
    "print(x | y) # 0011\n",
    "print(x ^ y) # 0010"
   ]
  },
  {
   "cell_type": "code",
   "execution_count": 9,
   "metadata": {},
   "outputs": [
    {
     "name": "stdout",
     "output_type": "stream",
     "text": [
      "-4\n"
     ]
    }
   ],
   "source": [
    "x = +3\n",
    "\n",
    "print(~x)"
   ]
  },
  {
   "cell_type": "code",
   "execution_count": 10,
   "metadata": {},
   "outputs": [
    {
     "name": "stdout",
     "output_type": "stream",
     "text": [
      "8\n"
     ]
    }
   ],
   "source": [
    "x = 4\n",
    "print(x << 1) # 輸出 8"
   ]
  }
 ],
 "metadata": {
  "kernelspec": {
   "display_name": "Python 3",
   "language": "python",
   "name": "python3"
  },
  "language_info": {
   "codemirror_mode": {
    "name": "ipython",
    "version": 3
   },
   "file_extension": ".py",
   "mimetype": "text/x-python",
   "name": "python",
   "nbconvert_exporter": "python",
   "pygments_lexer": "ipython3",
   "version": "3.12.0"
  }
 },
 "nbformat": 4,
 "nbformat_minor": 2
}
