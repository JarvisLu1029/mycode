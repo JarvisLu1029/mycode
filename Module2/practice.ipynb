{
 "cells": [
  {
   "cell_type": "markdown",
   "metadata": {},
   "source": [
    "百貨公司周年慶 消費金額超過 2000 要折 200  \n",
    "\n",
    "請撰寫一支程式  \n",
    "計算客戶消費的結帳金額"
   ]
  },
  {
   "cell_type": "code",
   "execution_count": 3,
   "metadata": {},
   "outputs": [
    {
     "name": "stdout",
     "output_type": "stream",
     "text": [
      "1800\n"
     ]
    }
   ],
   "source": [
    "total = 2000\n",
    "discount = 200\n",
    "if total >= 2000:\n",
    "    total = total - discount\n",
    "print(total)"
   ]
  },
  {
   "cell_type": "markdown",
   "metadata": {},
   "source": [
    "滿 2000 折 200, 滿 4000 折 400......"
   ]
  },
  {
   "cell_type": "code",
   "execution_count": 4,
   "metadata": {},
   "outputs": [
    {
     "name": "stdout",
     "output_type": "stream",
     "text": [
      "4100\n"
     ]
    }
   ],
   "source": [
    "total = 4000\n",
    "# total = 4500\n",
    "discount = 200\n",
    "if total >= 2000:\n",
    "    # total = total*0.9 錯誤的寫法\n",
    "    n = total // 2000 # 相除取整數\n",
    "    total = total - discount*n\n",
    "print(total)"
   ]
  }
 ],
 "metadata": {
  "kernelspec": {
   "display_name": "Python 3",
   "language": "python",
   "name": "python3"
  },
  "language_info": {
   "codemirror_mode": {
    "name": "ipython",
    "version": 3
   },
   "file_extension": ".py",
   "mimetype": "text/x-python",
   "name": "python",
   "nbconvert_exporter": "python",
   "pygments_lexer": "ipython3",
   "version": "3.9.13"
  }
 },
 "nbformat": 4,
 "nbformat_minor": 2
}
