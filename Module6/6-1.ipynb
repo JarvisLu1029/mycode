{
 "cells": [
  {
   "cell_type": "code",
   "execution_count": 7,
   "metadata": {},
   "outputs": [],
   "source": [
    "class MyClassA:\n",
    "    my_variable = \"This is my variable\" # 類別屬性 (Class Attribute)\n",
    "\n",
    "    # @staticmethod\n",
    "    def my_function(): # 靜態方法 (Method) \n",
    "        return \"This is my function\" "
   ]
  },
  {
   "cell_type": "code",
   "execution_count": 7,
   "metadata": {},
   "outputs": [
    {
     "name": "stdout",
     "output_type": "stream",
     "text": [
      "This is my variable\n",
      "This is my function\n"
     ]
    }
   ],
   "source": [
    "class1 = MyClassA # 不用建立物件即可使用靜態方法與屬性\n",
    "print(class1.my_variable)\n",
    "print(class1.my_function())"
   ]
  },
  {
   "cell_type": "code",
   "execution_count": 8,
   "metadata": {},
   "outputs": [
    {
     "ename": "TypeError",
     "evalue": "MyClassA.my_function() takes 0 positional arguments but 1 was given",
     "output_type": "error",
     "traceback": [
      "\u001b[1;31m---------------------------------------------------------------------------\u001b[0m",
      "\u001b[1;31mTypeError\u001b[0m                                 Traceback (most recent call last)",
      "\u001b[1;32me:\\Program\\資策會課程講義\\個人講義\\Python_code\\mycode\\Module6\\6-1.ipynb 儲存格 3\u001b[0m line \u001b[0;36m2\n\u001b[0;32m      <a href='vscode-notebook-cell:/e%3A/Program/%E8%B3%87%E7%AD%96%E6%9C%83%E8%AA%B2%E7%A8%8B%E8%AC%9B%E7%BE%A9/%E5%80%8B%E4%BA%BA%E8%AC%9B%E7%BE%A9/Python_code/mycode/Module6/6-1.ipynb#W5sZmlsZQ%3D%3D?line=0'>1</a>\u001b[0m class2 \u001b[39m=\u001b[39m MyClassA()\n\u001b[1;32m----> <a href='vscode-notebook-cell:/e%3A/Program/%E8%B3%87%E7%AD%96%E6%9C%83%E8%AA%B2%E7%A8%8B%E8%AC%9B%E7%BE%A9/%E5%80%8B%E4%BA%BA%E8%AC%9B%E7%BE%A9/Python_code/mycode/Module6/6-1.ipynb#W5sZmlsZQ%3D%3D?line=1'>2</a>\u001b[0m \u001b[39mprint\u001b[39m(class2\u001b[39m.\u001b[39;49mmy_function())\n",
      "\u001b[1;31mTypeError\u001b[0m: MyClassA.my_function() takes 0 positional arguments but 1 was given"
     ]
    }
   ],
   "source": [
    "# 有 @staticmethod 的差別\n",
    "class2 = MyClassA()\n",
    "print(class2.my_function())"
   ]
  },
  {
   "cell_type": "code",
   "execution_count": 5,
   "metadata": {},
   "outputs": [],
   "source": [
    "class MyClassB:\n",
    "    my_variable = \"This is my variable\" # 類別屬性 (Class Attribute)\n",
    "    list_1_to_50 = [x for x in range(1, 51)]\n",
    "\n",
    "    def __init__(self): # 建構函式\n",
    "        print('__init__ execute')\n",
    "\n",
    "    def my_function1(self): # 靜態方法 (Method)\n",
    "        return \"This is my_function1\" \n",
    "    \n",
    "    def my_function2(self): # 方法 (Method)\n",
    "        return \"This is my_function2 with initialize\" "
   ]
  },
  {
   "cell_type": "code",
   "execution_count": 6,
   "metadata": {},
   "outputs": [
    {
     "name": "stdout",
     "output_type": "stream",
     "text": [
      "__init__ execute\n",
      "This is my variable\n",
      "[1, 2, 3, 4, 5, 6, 7, 8, 9, 10, 11, 12, 13, 14, 15, 16, 17, 18, 19, 20, 21, 22, 23, 24, 25, 26, 27, 28, 29, 30, 31, 32, 33, 34, 35, 36, 37, 38, 39, 40, 41, 42, 43, 44, 45, 46, 47, 48, 49, 50]\n",
      "This is my_function1\n"
     ]
    }
   ],
   "source": [
    "# obj2 = MyClassB\n",
    "obj2 = MyClassB()\n",
    "print(obj2.my_variable)\n",
    "print(obj2.list_1_to_50)\n",
    "print(obj2.my_function1())\n",
    "# print(obj2.my_function2())"
   ]
  },
  {
   "cell_type": "code",
   "execution_count": 37,
   "metadata": {},
   "outputs": [
    {
     "name": "stdout",
     "output_type": "stream",
     "text": [
      "__init__ execute\n",
      "This is my variable\n",
      "This is my_function2 with initialize\n"
     ]
    }
   ],
   "source": [
    "obj2 = MyClassB() # 創建實例\n",
    "print(obj2.my_variable)\n",
    "# print(obj2.my_function1())\n",
    "print(obj2.my_function2())"
   ]
  }
 ],
 "metadata": {
  "kernelspec": {
   "display_name": "Python 3",
   "language": "python",
   "name": "python3"
  },
  "language_info": {
   "codemirror_mode": {
    "name": "ipython",
    "version": 3
   },
   "file_extension": ".py",
   "mimetype": "text/x-python",
   "name": "python",
   "nbconvert_exporter": "python",
   "pygments_lexer": "ipython3",
   "version": "3.12.0"
  }
 },
 "nbformat": 4,
 "nbformat_minor": 2
}
