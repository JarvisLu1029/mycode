{
 "cells": [
  {
   "cell_type": "markdown",
   "metadata": {},
   "source": [
    "##### inheritence"
   ]
  },
  {
   "cell_type": "code",
   "execution_count": 6,
   "metadata": {},
   "outputs": [
    {
     "name": "stdout",
     "output_type": "stream",
     "text": [
      "This is class : Vehicle\n",
      "This is class : Car\n"
     ]
    }
   ],
   "source": [
    "class Vehicle:\n",
    "    def display_info(self):\n",
    "        return f\"This is class : {self.__class__.__name__}\"\n",
    "\n",
    "print(Vehicle().display_info())\n",
    "\n",
    "class Car(Vehicle):\n",
    "    pass\n",
    "\n",
    "print(Car().display_info())"
   ]
  },
  {
   "cell_type": "code",
   "execution_count": 8,
   "metadata": {},
   "outputs": [],
   "source": [
    "class Vehicle:\n",
    "    def __init__(self, brand, model):\n",
    "        self.brand = brand\n",
    "        self.model = model\n",
    "\n",
    "    def display_info(self):\n",
    "        return f\"Brand: {self.brand}, Model: {self.model}\""
   ]
  },
  {
   "cell_type": "markdown",
   "metadata": {},
   "source": [
    "##### super( ) 保留父類別的方法 "
   ]
  },
  {
   "cell_type": "code",
   "execution_count": 11,
   "metadata": {},
   "outputs": [
    {
     "name": "stdout",
     "output_type": "stream",
     "text": [
      "Brand: Toyota, Model: Corolla, Car Type: Sedan\n"
     ]
    }
   ],
   "source": [
    "class Car(Vehicle):\n",
    "    def __init__(self, brand, model, car_type):\n",
    "        super().__init__(brand, model)\n",
    "        self.car_type = car_type\n",
    "\n",
    "    # def display_car_info(self):\n",
    "    #     return f\"{self.display_info()}, Car Type: {self.car_type}\"\n",
    "\n",
    "    def display_info(self):\n",
    "        return f\"{super().display_info()}, Car Type: {self.car_type}\"\n",
    "\n",
    "my_car = Car(\"Toyota\", \"ALTIS\", \"Sedan\")\n",
    "print(my_car.display_info())"
   ]
  },
  {
   "cell_type": "markdown",
   "metadata": {},
   "source": [
    "##### Polymorphism"
   ]
  },
  {
   "cell_type": "code",
   "execution_count": 15,
   "metadata": {},
   "outputs": [
    {
     "name": "stdout",
     "output_type": "stream",
     "text": [
      "Brand: Volvo, Model: FH16, Load Capacity: 20 tons\n"
     ]
    }
   ],
   "source": [
    "class Truck(Vehicle):\n",
    "    def __init__(self, brand, model, load_capacity):\n",
    "        super().__init__(brand, model)\n",
    "        self.load_capacity = load_capacity # 乘載量\n",
    "\n",
    "    def display_info(self):\n",
    "        return f\"{super().display_info()}, Load Capacity: {self.load_capacity} tons\"\n",
    "\n",
    "my_truck = Truck(\"Volvo\", \"FH16\", 20)\n",
    "print(my_truck.display_info())\n"
   ]
  },
  {
   "cell_type": "code",
   "execution_count": 17,
   "metadata": {},
   "outputs": [
    {
     "name": "stdout",
     "output_type": "stream",
     "text": [
      "Brand: Toyota, Model: Corolla, Car Type: Sedan\n",
      "Brand: Volvo, Model: FH16, Load Capacity: 20 tons\n"
     ]
    }
   ],
   "source": [
    "def print_info(vehicle):\n",
    "    print(vehicle.display_info())\n",
    "\n",
    "print_info(my_car)\n",
    "print_info(my_truck)"
   ]
  }
 ],
 "metadata": {
  "kernelspec": {
   "display_name": "Python 3",
   "language": "python",
   "name": "python3"
  },
  "language_info": {
   "codemirror_mode": {
    "name": "ipython",
    "version": 3
   },
   "file_extension": ".py",
   "mimetype": "text/x-python",
   "name": "python",
   "nbconvert_exporter": "python",
   "pygments_lexer": "ipython3",
   "version": "3.9.13"
  }
 },
 "nbformat": 4,
 "nbformat_minor": 2
}
