{
 "cells": [
  {
   "cell_type": "code",
   "execution_count": 5,
   "metadata": {},
   "outputs": [],
   "source": [
    "class MyClassA:\n",
    "    my_variable = \"This is my variable\" # 類別屬性 (Class Attribute)\n",
    "\n",
    "    @staticmethod\n",
    "    def my_function(): # 靜態方法 (Method) \n",
    "        return \"This is my function\" "
   ]
  },
  {
   "cell_type": "code",
   "execution_count": 7,
   "metadata": {},
   "outputs": [
    {
     "name": "stdout",
     "output_type": "stream",
     "text": [
      "This is my variable\n",
      "This is my function\n"
     ]
    }
   ],
   "source": [
    "class1 = MyClassA # 不用建立物件即可使用靜態方法與屬性\n",
    "print(class1.my_variable)\n",
    "print(class1.my_function())"
   ]
  },
  {
   "cell_type": "code",
   "execution_count": 31,
   "metadata": {},
   "outputs": [],
   "source": [
    "class MyClassB:\n",
    "    my_variable = \"This is my variable\" # 類別屬性 (Class Attribute)\n",
    "\n",
    "    def __init__(self): # 建構函式\n",
    "        print('__init__ execute')\n",
    "\n",
    "    def my_function1(): # 靜態方法 (Method)\n",
    "        return \"This is my_function1\" \n",
    "    \n",
    "    def my_function2(self): # 方法 (Method)\n",
    "        return \"This is my_function2 with initialize\" "
   ]
  },
  {
   "cell_type": "code",
   "execution_count": 36,
   "metadata": {},
   "outputs": [
    {
     "name": "stdout",
     "output_type": "stream",
     "text": [
      "This is my variable\n",
      "This is my_function1\n"
     ]
    }
   ],
   "source": [
    "obj2 = MyClassB\n",
    "print(obj2.my_variable)\n",
    "print(obj2.my_function1())\n",
    "# print(obj2.my_function2())"
   ]
  },
  {
   "cell_type": "code",
   "execution_count": 37,
   "metadata": {},
   "outputs": [
    {
     "name": "stdout",
     "output_type": "stream",
     "text": [
      "__init__ execute\n",
      "This is my variable\n",
      "This is my_function2 with initialize\n"
     ]
    }
   ],
   "source": [
    "obj2 = MyClassB() # 創建實例\n",
    "print(obj2.my_variable)\n",
    "# print(obj2.my_function1())\n",
    "print(obj2.my_function2())"
   ]
  }
 ],
 "metadata": {
  "kernelspec": {
   "display_name": "Python 3",
   "language": "python",
   "name": "python3"
  },
  "language_info": {
   "codemirror_mode": {
    "name": "ipython",
    "version": 3
   },
   "file_extension": ".py",
   "mimetype": "text/x-python",
   "name": "python",
   "nbconvert_exporter": "python",
   "pygments_lexer": "ipython3",
   "version": "3.9.13"
  }
 },
 "nbformat": 4,
 "nbformat_minor": 2
}
