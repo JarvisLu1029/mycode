{
 "cells": [
  {
   "cell_type": "code",
   "execution_count": 4,
   "metadata": {},
   "outputs": [
    {
     "name": "stdout",
     "output_type": "stream",
     "text": [
      "<class '__main__.Car'>\n",
      "<class 'type'>\n",
      "<__main__.Car object at 0x000001F922E33320>\n",
      "<class '__main__.Car'>\n"
     ]
    }
   ],
   "source": [
    "class Car:\n",
    "    wheels = 4\n",
    "\n",
    "x = Car # 類別的引用\n",
    "print(x)\n",
    "print(type(x))\n",
    "\n",
    "y = Car() # 物件\n",
    "print(y)\n",
    "print(type(y))"
   ]
  },
  {
   "cell_type": "code",
   "execution_count": 4,
   "metadata": {},
   "outputs": [],
   "source": [
    "class MyClassA:\n",
    "    my_variable = \"This is my variable\" # 類別屬性 (Class Attribute)\n",
    "\n",
    "    def __init__(self): # 建構函式\n",
    "        print('__init__ execute')\n",
    "    \n",
    "    def method_1(self):\n",
    "        print('This is MyClassA method.')\n"
   ]
  },
  {
   "cell_type": "code",
   "execution_count": 8,
   "metadata": {},
   "outputs": [
    {
     "name": "stdout",
     "output_type": "stream",
     "text": [
      "<class '__main__.MyClassA'>\n",
      "This is my variable\n"
     ]
    }
   ],
   "source": [
    "# 不用建立物件即可使用屬性\n",
    "class_a = MyClassA \n",
    "print(class_a)\n",
    "print(class_a.my_variable)\n",
    "# class_a.method_1() "
   ]
  },
  {
   "cell_type": "code",
   "execution_count": 10,
   "metadata": {},
   "outputs": [
    {
     "name": "stdout",
     "output_type": "stream",
     "text": [
      "__init__ execute\n",
      "This is my variable\n",
      "This is MyClassA method.\n"
     ]
    }
   ],
   "source": [
    "object1 = MyClassA()\n",
    "\n",
    "print(object1.my_variable)\n",
    "object1.method_1()"
   ]
  },
  {
   "cell_type": "code",
   "execution_count": 39,
   "metadata": {},
   "outputs": [],
   "source": [
    "class MyClassB:\n",
    "    my_variable = \"This is my variable\" # 類別屬性 (Class Attribute)\n",
    "    list_1_to_50 = [x for x in range(1, 51)]\n",
    "\n",
    "    def __init__(self): # 建構函式\n",
    "        print('__init__ execute')\n",
    "\n",
    "    def my_method_1(self): # 方法 (Method)\n",
    "        return \"This is my_method_1 with initialize\" \n",
    "    \n",
    "    @staticmethod\n",
    "    def my_static_method(): # 靜態方法 (Method) \n",
    "        return \"This is static method\" \n",
    "    \n",
    "    @property\n",
    "    def attribute(self):\n",
    "        print(f'{self.my_variable} in property.')\n",
    "        # return f'{self.my_variable} in property.'\n",
    "    \n"
   ]
  },
  {
   "cell_type": "code",
   "execution_count": 31,
   "metadata": {},
   "outputs": [
    {
     "name": "stdout",
     "output_type": "stream",
     "text": [
      "This is my variable\n",
      "[1, 2, 3, 4, 5, 6, 7, 8, 9, 10, 11, 12, 13, 14, 15, 16, 17, 18, 19, 20, 21, 22, 23, 24, 25, 26, 27, 28, 29, 30, 31, 32, 33, 34, 35, 36, 37, 38, 39, 40, 41, 42, 43, 44, 45, 46, 47, 48, 49, 50]\n",
      "This is static method\n",
      "<property object at 0x0000022FB4C2E020>\n"
     ]
    }
   ],
   "source": [
    "class_b = MyClassB\n",
    "# obj_b = MyClassB()\n",
    "print(class_b.my_variable)\n",
    "print(class_b.list_1_to_50)\n",
    "print(class_b.my_static_method())\n",
    "print(class_b.attribute) # 無法正常執行"
   ]
  },
  {
   "cell_type": "code",
   "execution_count": 35,
   "metadata": {},
   "outputs": [
    {
     "name": "stdout",
     "output_type": "stream",
     "text": [
      "__init__ execute\n",
      "This is my variable\n",
      "This is my_method_1 with initialize\n",
      "This is my variable in property.\n"
     ]
    }
   ],
   "source": [
    "obj_b = MyClassB() # 創建實例\n",
    "print(obj_b.my_variable)\n",
    "print(obj_b.my_method_1())\n",
    "obj_b.attribute"
   ]
  }
 ],
 "metadata": {
  "kernelspec": {
   "display_name": "Python 3",
   "language": "python",
   "name": "python3"
  },
  "language_info": {
   "codemirror_mode": {
    "name": "ipython",
    "version": 3
   },
   "file_extension": ".py",
   "mimetype": "text/x-python",
   "name": "python",
   "nbconvert_exporter": "python",
   "pygments_lexer": "ipython3",
   "version": "3.12.0"
  }
 },
 "nbformat": 4,
 "nbformat_minor": 2
}
