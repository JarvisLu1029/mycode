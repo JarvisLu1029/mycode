{
 "cells": [
  {
   "cell_type": "code",
   "execution_count": 1,
   "metadata": {},
   "outputs": [],
   "source": [
    "class Car:\n",
    "    wheel = 4\n",
    "    year = 2023\n",
    "    \n",
    "    def __init__(self, brand, model, price):\n",
    "        self.brand = brand\n",
    "        self.model = model\n",
    "        self.price = price\n",
    "\n",
    "        print('You create a Car Object')\n",
    "\n",
    "    def info(self, door):\n",
    "        \n",
    "        print(f'In {self.year}, {self.brand} has a car named {self.model}, and this car has {door} doors')\n",
    "    \n",
    "    def get_discounted_price(self, discount):\n",
    "        discounted_price = self.price * discount\n",
    "        \n",
    "        return discounted_price"
   ]
  },
  {
   "cell_type": "code",
   "execution_count": 2,
   "metadata": {},
   "outputs": [
    {
     "name": "stdout",
     "output_type": "stream",
     "text": [
      "You create a Car Object\n",
      "4\n",
      "In 2023, Toyota has a car named ALTIS, and this car has 4 doors\n",
      "None\n",
      "783000.0\n"
     ]
    }
   ],
   "source": [
    "toyota1 = Car('Toyota', 'ALTIS', 870000)\n",
    "print(toyota1.wheel)\n",
    "print(toyota1.info(4))\n",
    "print(toyota1.get_discounted_price(0.9))"
   ]
  },
  {
   "cell_type": "code",
   "execution_count": 3,
   "metadata": {},
   "outputs": [],
   "source": [
    "class CarPerformance(Car):\n",
    "    def __init__(self, speed, kml, brand, model):\n",
    "        super().__init__(brand, model, price=None)\n",
    "        self.speed = speed\n",
    "        self.kml = kml\n",
    "\n",
    "        print(f\"Speed: {self.speed} km/h, kml: {self.kml} km/l\")\n",
    "    \n",
    "    def info(self, hour):\n",
    "        moved_km = self.speed * hour\n",
    "        used_fuel = moved_km / self.kml\n",
    "\n",
    "        print(f\"{self.brand} {self.model} drive {hour}H, move {moved_km} km, use {used_fuel} l fuel\")"
   ]
  },
  {
   "cell_type": "code",
   "execution_count": 4,
   "metadata": {},
   "outputs": [
    {
     "name": "stdout",
     "output_type": "stream",
     "text": [
      "You create a Car Object\n",
      "Speed: 250 km/h, kml: 35 km/l\n",
      "Porsche 911 drive 5H, move 1250 km, use 35.714285714285715 l fuel\n"
     ]
    }
   ],
   "source": [
    "porsche_perf1 = CarPerformance(250, 35, 'Porsche', '911')\n",
    "porsche_perf1.info(5)"
   ]
  },
  {
   "cell_type": "code",
   "execution_count": null,
   "metadata": {},
   "outputs": [],
   "source": [
    "class Car:\n",
    "    wheel = 4\n",
    "    year = 2023\n",
    "    \n",
    "    def get_discounted_price(self):\n",
    "        discounted_price = self.wheel\n",
    "        \n",
    "        return discounted_price\n",
    "\n",
    "Car().get_discounted_price()"
   ]
  }
 ],
 "metadata": {
  "kernelspec": {
   "display_name": "Python 3",
   "language": "python",
   "name": "python3"
  },
  "language_info": {
   "codemirror_mode": {
    "name": "ipython",
    "version": 3
   },
   "file_extension": ".py",
   "mimetype": "text/x-python",
   "name": "python",
   "nbconvert_exporter": "python",
   "pygments_lexer": "ipython3",
   "version": "3.9.13"
  }
 },
 "nbformat": 4,
 "nbformat_minor": 2
}
