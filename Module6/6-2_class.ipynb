{
 "cells": [
  {
   "cell_type": "code",
   "execution_count": 55,
   "metadata": {},
   "outputs": [],
   "source": [
    "class Car:\n",
    "    wheel = 4 # 類別屬性\n",
    "    year = 2023\n",
    "\n",
    "    def __init__(self, brand, model, price):\n",
    "        self.brand = brand # 實例屬性\n",
    "        self.model = model\n",
    "        self.price = price\n",
    "        # self.__price = price\n",
    "\n",
    "        print('You create a Car Object')\n",
    "\n",
    "    def info(self, door=4):\n",
    "        \n",
    "        return f'In {Car.year}, {self.brand} has a car named {self.model} with {door} doors'\n",
    "    \n",
    "    def get_discounted_price(self, discount):\n",
    "        discounted_price = self.price * discount\n",
    "        # discounted_price = self.__price * discount\n",
    "        \n",
    "        return int(discounted_price)"
   ]
  },
  {
   "cell_type": "code",
   "execution_count": 58,
   "metadata": {},
   "outputs": [
    {
     "name": "stdout",
     "output_type": "stream",
     "text": [
      "You create a Car Object\n",
      "4\n",
      "In 2023, Toyota has a car named ALTIS with 4 doors\n",
      "783000\n"
     ]
    }
   ],
   "source": [
    "car1 = Car('Toyota', 'ALTIS', 870000)\n",
    "print(car1.wheel)\n",
    "print(car1.info())\n",
    "print(car1.get_discounted_price(0.9))\n",
    "\n"
   ]
  },
  {
   "cell_type": "code",
   "execution_count": 57,
   "metadata": {},
   "outputs": [
    {
     "name": "stdout",
     "output_type": "stream",
     "text": [
      "800000\n",
      "720000\n"
     ]
    }
   ],
   "source": [
    "# 封裝 __price\n",
    "car1.price = 800000\n",
    "print(car1.price)\n",
    "print(car1.get_discounted_price(0.9))"
   ]
  },
  {
   "cell_type": "code",
   "execution_count": 17,
   "metadata": {},
   "outputs": [
    {
     "name": "stdout",
     "output_type": "stream",
     "text": [
      "You create a Car Object\n",
      "In 2023, Toyota has a car named YARiS with 5 doors\n",
      "826500\n"
     ]
    }
   ],
   "source": [
    "car2 = Car('Toyota', 'YARiS', 750000)\n",
    "print(car2.info(5))\n",
    "print(car1.get_discounted_price(0.95))"
   ]
  },
  {
   "cell_type": "markdown",
   "metadata": {},
   "source": [
    "##### 繼承"
   ]
  },
  {
   "cell_type": "code",
   "execution_count": 46,
   "metadata": {},
   "outputs": [],
   "source": [
    "class CarPerformance(Car):\n",
    "    def __init__(self, speed, kml, brand, model):\n",
    "        super().__init__(brand, model, price=None)\n",
    "        self.speed = speed\n",
    "        self.kml = kml\n",
    "\n",
    "        print(f\"Speed: {self.speed} km/h, kml: {self.kml} km/l\")\n",
    "    \n",
    "    def info(self, hour): \n",
    "        moved_km = self.speed * hour\n",
    "        used_fuel = moved_km / self.kml\n",
    "\n",
    "        print(f\"{self.brand} {self.model} drive {hour}H, move {moved_km} km, use {used_fuel} l fuel\")"
   ]
  },
  {
   "cell_type": "code",
   "execution_count": 47,
   "metadata": {},
   "outputs": [
    {
     "name": "stdout",
     "output_type": "stream",
     "text": [
      "You create a Car Object\n",
      "Speed: 250 km/h, kml: 35 km/l\n",
      "Porsche 911 drive 5H, move 1250 km, use 35.714285714285715 l fuel\n"
     ]
    }
   ],
   "source": [
    "porsche_perf1 = CarPerformance(250, 35, 'Porsche', '911')\n",
    "porsche_perf1.info(5)"
   ]
  },
  {
   "cell_type": "code",
   "execution_count": 54,
   "metadata": {},
   "outputs": [
    {
     "name": "stdout",
     "output_type": "stream",
     "text": [
      "<__main__.Car object at 0x0000028AB35F40A0>\n"
     ]
    },
    {
     "data": {
      "text/plain": [
       "4"
      ]
     },
     "execution_count": 54,
     "metadata": {},
     "output_type": "execute_result"
    }
   ],
   "source": [
    "class Car:\n",
    "    wheel = 4\n",
    "    year = 2023\n",
    "    \n",
    "    def get_discounted_price(a):\n",
    "        print(a)\n",
    "        discounted_price = Car.wheel\n",
    "        \n",
    "        return discounted_price\n",
    "\n",
    "Car().get_discounted_price()"
   ]
  }
 ],
 "metadata": {
  "kernelspec": {
   "display_name": "Python 3",
   "language": "python",
   "name": "python3"
  },
  "language_info": {
   "codemirror_mode": {
    "name": "ipython",
    "version": 3
   },
   "file_extension": ".py",
   "mimetype": "text/x-python",
   "name": "python",
   "nbconvert_exporter": "python",
   "pygments_lexer": "ipython3",
   "version": "3.9.13"
  }
 },
 "nbformat": 4,
 "nbformat_minor": 2
}
