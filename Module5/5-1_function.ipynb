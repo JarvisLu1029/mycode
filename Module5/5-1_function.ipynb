{
 "cells": [
  {
   "cell_type": "code",
   "execution_count": 3,
   "metadata": {},
   "outputs": [
    {
     "name": "stdout",
     "output_type": "stream",
     "text": [
      "Hello\n",
      "None\n"
     ]
    }
   ],
   "source": [
    "# 建立 function 1\n",
    "def say_hello():\n",
    "    print('Hello')\n",
    "\n",
    "a = say_hello()\n",
    "print(a) # None"
   ]
  },
  {
   "cell_type": "code",
   "execution_count": 4,
   "metadata": {},
   "outputs": [
    {
     "name": "stdout",
     "output_type": "stream",
     "text": [
      "Jarvis\n"
     ]
    }
   ],
   "source": [
    "# 建立 function 2 return值\n",
    "def get_name():\n",
    "    name = \"Jarvis\"\n",
    "    return name\n",
    "\n",
    "result = get_name()\n",
    "print(result)"
   ]
  },
  {
   "cell_type": "code",
   "execution_count": 6,
   "metadata": {},
   "outputs": [
    {
     "name": "stdout",
     "output_type": "stream",
     "text": [
      "Hello, Jarvis\n"
     ]
    }
   ],
   "source": [
    "# 建立 function 3 帶參數\n",
    "def get_greeting(name):\n",
    "    return \"Hello, \" + name\n",
    "\n",
    "result = get_greeting(\"Jarvis\")\n",
    "print(result)"
   ]
  },
  {
   "cell_type": "code",
   "execution_count": 3,
   "metadata": {},
   "outputs": [
    {
     "name": "stdout",
     "output_type": "stream",
     "text": [
      "hi Jarvis\n"
     ]
    }
   ],
   "source": [
    "# 建立 function 4 預設參數值\n",
    "def get_greeting(greeting='Hello', name=\"Jarvis\"):\n",
    "    return f'{greeting} {name}'\n",
    "\n",
    "result = get_greeting('hi')\n",
    "print(result)\n"
   ]
  },
  {
   "cell_type": "markdown",
   "metadata": {},
   "source": [
    "-----"
   ]
  },
  {
   "cell_type": "code",
   "execution_count": 4,
   "metadata": {},
   "outputs": [
    {
     "name": "stdout",
     "output_type": "stream",
     "text": [
      "4100\n"
     ]
    }
   ],
   "source": [
    "# 改寫 Module2 practice\n",
    "'''\n",
    "在函數定義中，\n",
    "默認參數 (default arguments) 應該在位置參數 (positional arguments) 之後\n",
    "這樣Python才能確定每個參數的位置。\n",
    "'''\n",
    "def get_discounted_total(total, discount=200):\n",
    "    if total >= 2000:\n",
    "        n = total // 2000\n",
    "        total = total - discount*n\n",
    "    return total\n",
    "\n",
    "print(get_discounted_total(4500))"
   ]
  },
  {
   "cell_type": "code",
   "execution_count": 9,
   "metadata": {},
   "outputs": [
    {
     "name": "stdout",
     "output_type": "stream",
     "text": [
      "6700\n"
     ]
    }
   ],
   "source": [
    "# threshold 門檻\n",
    "def get_discounted_total(total, discount, threshold):\n",
    "    if total >= threshold:\n",
    "        n = total // threshold\n",
    "        total = total - discount*n\n",
    "    return total\n",
    "\n",
    "print(get_discounted_total(total=7300, discount=300, threshold=3000))"
   ]
  }
 ],
 "metadata": {
  "kernelspec": {
   "display_name": "Python 3",
   "language": "python",
   "name": "python3"
  },
  "language_info": {
   "codemirror_mode": {
    "name": "ipython",
    "version": 3
   },
   "file_extension": ".py",
   "mimetype": "text/x-python",
   "name": "python",
   "nbconvert_exporter": "python",
   "pygments_lexer": "ipython3",
   "version": "3.11.2"
  }
 },
 "nbformat": 4,
 "nbformat_minor": 2
}
