{
 "cells": [
  {
   "cell_type": "markdown",
   "metadata": {},
   "source": [
    "### lambda 匿名函式  \n",
    "用法  \n",
    "```\n",
    "function_name = lambda arguments: expression\n",
    "```"
   ]
  },
  {
   "cell_type": "code",
   "execution_count": 1,
   "metadata": {},
   "outputs": [
    {
     "name": "stdout",
     "output_type": "stream",
     "text": [
      "15\n"
     ]
    }
   ],
   "source": [
    "# 建立函式\n",
    "def times1(x, y):\n",
    "    return x * y\n",
    "\n",
    "print(times1(3, 5))"
   ]
  },
  {
   "cell_type": "code",
   "execution_count": 2,
   "metadata": {},
   "outputs": [
    {
     "name": "stdout",
     "output_type": "stream",
     "text": [
      "15\n"
     ]
    }
   ],
   "source": [
    "# 基本用法\n",
    "times2 = lambda x, y: x * y\n",
    "print(times2(3, 5))"
   ]
  },
  {
   "cell_type": "code",
   "execution_count": null,
   "metadata": {},
   "outputs": [],
   "source": [
    "# (帶入一個參數 要輸出自己相乘)\n",
    "g = lambda x: x * x\n",
    "print(g(7))  # 49\n"
   ]
  },
  {
   "cell_type": "code",
   "execution_count": 5,
   "metadata": {},
   "outputs": [
    {
     "name": "stdout",
     "output_type": "stream",
     "text": [
      "True\n",
      "False\n"
     ]
    }
   ],
   "source": [
    "# 條件判斷\n",
    "def check_even1(x):\n",
    "    if x%2 == 0:\n",
    "        return True\n",
    "    else:\n",
    "        return False\n",
    "\n",
    "print(check_even1(4))  # 輸出 True\n",
    "print(check_even1(5))  # 輸出 False\n"
   ]
  },
  {
   "cell_type": "code",
   "execution_count": 3,
   "metadata": {},
   "outputs": [
    {
     "name": "stdout",
     "output_type": "stream",
     "text": [
      "True\n",
      "False\n"
     ]
    }
   ],
   "source": [
    "check_even2 = lambda x: True if x % 2 == 0 else False\n",
    "\n",
    "print(check_even2(4))  # 輸出 True\n",
    "print(check_even2(5))  # 輸出 False\n",
    "\n",
    "# check_even_or_multiple_of_three  = lambda x: '回傳 True' if x % 2 == 0 or x % 3 == 0 else False"
   ]
  },
  {
   "cell_type": "code",
   "execution_count": null,
   "metadata": {},
   "outputs": [],
   "source": [
    "# 多參數\n",
    "g = lambda x, y: x + y\n",
    "print(g(2, 3))  # 輸出 5\n"
   ]
  },
  {
   "cell_type": "markdown",
   "metadata": {},
   "source": [
    "### 小試身手  \n",
    "請建立一個 list ，並在該 list 內產生 x 個 [1, 2, x] 的 list (x 的值要遞增)  \n",
    "x 到 10 即可  \n",
    "Ex :  \n",
    "```\n",
    "[ [1, 2, 1], [1, 2, 2], [1, 2, 3], .......[1, 2, 10] ]\n",
    "```"
   ]
  },
  {
   "cell_type": "code",
   "execution_count": 30,
   "metadata": {},
   "outputs": [
    {
     "name": "stdout",
     "output_type": "stream",
     "text": [
      "[[1, 2, 1], [1, 2, 2], [1, 2, 3], [1, 2, 4], [1, 2, 5], [1, 2, 6], [1, 2, 7], [1, 2, 8], [1, 2, 9], [1, 2, 10]]\n"
     ]
    }
   ],
   "source": [
    "n = -2\n",
    "my_list1 = []\n",
    "list_inside = []\n",
    "for i in range(1, 11):\n",
    "    list_inside = [x for x in range(1, 4)]\n",
    "\n",
    "    list_inside[2] = i\n",
    "\n",
    "    # list_inside[2] += n\n",
    "    # n += 1\n",
    "\n",
    "    my_list1.append(list_inside)\n",
    "\n",
    "print(my_list1)"
   ]
  },
  {
   "cell_type": "markdown",
   "metadata": {},
   "source": [
    "##### sort( ) 函式"
   ]
  },
  {
   "cell_type": "code",
   "execution_count": 16,
   "metadata": {},
   "outputs": [
    {
     "name": "stdout",
     "output_type": "stream",
     "text": [
      "[[1, 2, 10], [1, 2, 9], [1, 2, 8], [1, 2, 7], [1, 2, 6], [1, 2, 5], [1, 2, 4], [1, 2, 3], [1, 2, 2], [1, 2, 1]]\n"
     ]
    }
   ],
   "source": [
    "my_list1.sort(reverse=True)\n",
    "print(my_list1)"
   ]
  },
  {
   "cell_type": "markdown",
   "metadata": {},
   "source": [
    "##### 每三個 list 中間的值要改成5\n",
    "\n",
    "Ex :  \n",
    "```\n",
    "[ [1, 2, 1], [1, 2, 2], [1, 5, 3], [1, 2, 4], [1, 2, 5], [1, 5, 6] ]\n",
    "```"
   ]
  },
  {
   "cell_type": "code",
   "execution_count": 17,
   "metadata": {},
   "outputs": [
    {
     "name": "stdout",
     "output_type": "stream",
     "text": [
      "[[1, 2, 1], [1, 2, 2], [1, 5, 3], [1, 2, 4], [1, 2, 5], [1, 5, 6], [1, 2, 7], [1, 2, 8], [1, 5, 9], [1, 2, 10]]\n"
     ]
    }
   ],
   "source": [
    "n = -2\n",
    "my_list2 = []\n",
    "for i in range(1, 11):\n",
    "    list_inside = [x for x in range(1, 4)]\n",
    "    list_inside[2] += n\n",
    "    n += 1\n",
    "    # 每三個 list 中間的值要改成 5\n",
    "    if i % 3 == 0:\n",
    "        list_inside[1] = 5\n",
    "    my_list2.append(list_inside)\n",
    "\n",
    "print(my_list2)"
   ]
  },
  {
   "cell_type": "code",
   "execution_count": 1,
   "metadata": {},
   "outputs": [
    {
     "ename": "NameError",
     "evalue": "name 'my_list2' is not defined",
     "output_type": "error",
     "traceback": [
      "\u001b[1;31m---------------------------------------------------------------------------\u001b[0m",
      "\u001b[1;31mNameError\u001b[0m                                 Traceback (most recent call last)",
      "\u001b[1;32me:\\Program\\資策會課程講義\\個人講義\\Python_code\\mycode\\Module5\\5-3_lambda.ipynb 儲存格 14\u001b[0m line \u001b[0;36m2\n\u001b[0;32m      <a href='vscode-notebook-cell:/e%3A/Program/%E8%B3%87%E7%AD%96%E6%9C%83%E8%AA%B2%E7%A8%8B%E8%AC%9B%E7%BE%A9/%E5%80%8B%E4%BA%BA%E8%AC%9B%E7%BE%A9/Python_code/mycode/Module5/5-3_lambda.ipynb#X16sZmlsZQ%3D%3D?line=0'>1</a>\u001b[0m \u001b[39m# 順序會被打亂\u001b[39;00m\n\u001b[1;32m----> <a href='vscode-notebook-cell:/e%3A/Program/%E8%B3%87%E7%AD%96%E6%9C%83%E8%AA%B2%E7%A8%8B%E8%AC%9B%E7%BE%A9/%E5%80%8B%E4%BA%BA%E8%AC%9B%E7%BE%A9/Python_code/mycode/Module5/5-3_lambda.ipynb#X16sZmlsZQ%3D%3D?line=1'>2</a>\u001b[0m my_list2\u001b[39m.\u001b[39msort()\n\u001b[0;32m      <a href='vscode-notebook-cell:/e%3A/Program/%E8%B3%87%E7%AD%96%E6%9C%83%E8%AA%B2%E7%A8%8B%E8%AC%9B%E7%BE%A9/%E5%80%8B%E4%BA%BA%E8%AC%9B%E7%BE%A9/Python_code/mycode/Module5/5-3_lambda.ipynb#X16sZmlsZQ%3D%3D?line=2'>3</a>\u001b[0m \u001b[39mprint\u001b[39m(my_list2)\n",
      "\u001b[1;31mNameError\u001b[0m: name 'my_list2' is not defined"
     ]
    }
   ],
   "source": [
    "# 順序會被打亂\n",
    "my_list2.sort()\n",
    "print(my_list2)"
   ]
  },
  {
   "cell_type": "markdown",
   "metadata": {},
   "source": [
    "##### lambda 搭配 list.sort( ) 函式"
   ]
  },
  {
   "cell_type": "code",
   "execution_count": 20,
   "metadata": {},
   "outputs": [
    {
     "name": "stdout",
     "output_type": "stream",
     "text": [
      "[[1, 2, 1], [1, 2, 2], [1, 2, 3], [1, 2, 4], [1, 2, 5], [1, 2, 6], [1, 2, 7], [1, 2, 8], [1, 2, 9], [1, 2, 10]]\n"
     ]
    }
   ],
   "source": [
    "my_list2.sort(key=lambda x: x[2], reverse=True)\n",
    "print(my_list2)"
   ]
  },
  {
   "cell_type": "code",
   "execution_count": 29,
   "metadata": {},
   "outputs": [
    {
     "name": "stdout",
     "output_type": "stream",
     "text": [
      "student_list : [('Jarvis', 'A', 15), ('Jenny', 'B', 12), ('David', 'B', 10)]\n",
      "sorted_student_list : [('David', 'B', 10), ('Jarvis', 'A', 15), ('Jenny', 'B', 12)]\n"
     ]
    }
   ],
   "source": [
    "# sorted(tuple) 可以 但沒有 tuple.sort()\n",
    "# student_list = (('Jarvis', 'A', 15), ('Jenny', 'B', 12), ('David', 'B', 10)) \n",
    "student_list = [('Jarvis', 'A', 15), ('Jenny', 'B', 12), ('David', 'B', 10)]\n",
    "sorted_student_list = sorted(student_list) # 會回傳一個新的 list, \n",
    "\n",
    "print(f'student_list : {student_list}')\n",
    "print(f'sorted_student_list : {sorted_student_list}')\n"
   ]
  },
  {
   "cell_type": "code",
   "execution_count": 28,
   "metadata": {},
   "outputs": [
    {
     "name": "stdout",
     "output_type": "stream",
     "text": [
      "[('David', 'B', 10), ('Jarvis', 'A', 15), ('Jenny', 'B', 12)]\n",
      "[('David', 'B', 10), ('Jenny', 'B', 12), ('Jarvis', 'A', 15)]\n"
     ]
    }
   ],
   "source": [
    "student_list.sort()\n",
    "print(student_list)\n",
    "\n",
    "student_list.sort(key=lambda x: x[2])\n",
    "print(student_list)"
   ]
  }
 ],
 "metadata": {
  "kernelspec": {
   "display_name": "Python 3",
   "language": "python",
   "name": "python3"
  },
  "language_info": {
   "codemirror_mode": {
    "name": "ipython",
    "version": 3
   },
   "file_extension": ".py",
   "mimetype": "text/x-python",
   "name": "python",
   "nbconvert_exporter": "python",
   "pygments_lexer": "ipython3",
   "version": "3.12.0"
  }
 },
 "nbformat": 4,
 "nbformat_minor": 2
}
