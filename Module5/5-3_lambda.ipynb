{
 "cells": [
  {
   "cell_type": "markdown",
   "metadata": {},
   "source": [
    "### lambda 匿名函式  \n",
    "用法  \n",
    "```\n",
    "function_name = lambda arguments: expression\n",
    "```"
   ]
  },
  {
   "cell_type": "code",
   "execution_count": 1,
   "metadata": {},
   "outputs": [
    {
     "name": "stdout",
     "output_type": "stream",
     "text": [
      "15\n"
     ]
    }
   ],
   "source": [
    "# 建立函式\n",
    "def times1(x, y):\n",
    "    return x * y\n",
    "\n",
    "print(times1(3, 5))"
   ]
  },
  {
   "cell_type": "code",
   "execution_count": 2,
   "metadata": {},
   "outputs": [
    {
     "name": "stdout",
     "output_type": "stream",
     "text": [
      "15\n"
     ]
    }
   ],
   "source": [
    "# 基本用法\n",
    "times2 = lambda x, y: x * y\n",
    "print(times2(3, 5))"
   ]
  },
  {
   "cell_type": "code",
   "execution_count": 3,
   "metadata": {},
   "outputs": [
    {
     "name": "stdout",
     "output_type": "stream",
     "text": [
      "49\n"
     ]
    }
   ],
   "source": [
    "# (帶入一個參數 要輸出自己相乘)\n",
    "g = lambda x: x * x\n",
    "print(g(7))  # 49\n"
   ]
  },
  {
   "cell_type": "code",
   "execution_count": 4,
   "metadata": {},
   "outputs": [
    {
     "name": "stdout",
     "output_type": "stream",
     "text": [
      "True\n",
      "False\n"
     ]
    }
   ],
   "source": [
    "# 條件判斷\n",
    "def check_even1(x):\n",
    "    if x % 2 == 0:\n",
    "        return True\n",
    "    else:\n",
    "        return False\n",
    "\n",
    "print(check_even1(4))  # 輸出 True\n",
    "print(check_even1(5))  # 輸出 False\n"
   ]
  },
  {
   "cell_type": "code",
   "execution_count": 5,
   "metadata": {},
   "outputs": [
    {
     "name": "stdout",
     "output_type": "stream",
     "text": [
      "True\n",
      "False\n"
     ]
    }
   ],
   "source": [
    "check_even2 = lambda x: True if x % 2 == 0 else False\n",
    "\n",
    "print(check_even2(4))  # 輸出 True\n",
    "print(check_even2(5))  # 輸出 False\n",
    "\n",
    "# check_even_or_multiple_of_three  = lambda x: '回傳 True' if x % 2 == 0 or x % 3 == 0 else False"
   ]
  },
  {
   "cell_type": "code",
   "execution_count": 15,
   "metadata": {},
   "outputs": [
    {
     "name": "stdout",
     "output_type": "stream",
     "text": [
      "10\n"
     ]
    }
   ],
   "source": [
    "# 多參數\n",
    "g = lambda x, y, z: x + y + z\n",
    "print(g(2, 3, 5))  # 輸出 5\n"
   ]
  },
  {
   "cell_type": "markdown",
   "metadata": {},
   "source": [
    "### 小試身手  \n",
    "請建立一個 list ，並在該 list 內產生 x 個 [1, 2, x] 的 list (x 的值要遞增)  \n",
    "x 到 10 即可  \n",
    "Ex :  \n",
    "```\n",
    "[ [1, 2, 1], [1, 2, 2], [1, 2, 3], .......[1, 2, 10] ]\n",
    "```"
   ]
  },
  {
   "cell_type": "code",
   "execution_count": 1,
   "metadata": {},
   "outputs": [
    {
     "name": "stdout",
     "output_type": "stream",
     "text": [
      "[[1, 2, 1], [1, 2, 2], [1, 2, 3], [1, 2, 4], [1, 2, 5], [1, 2, 6], [1, 2, 7], [1, 2, 8], [1, 2, 9], [1, 2, 10]]\n"
     ]
    }
   ],
   "source": [
    "total_list = []\n",
    "\n",
    "for i in range(1, 11):\n",
    "    inside_list = [1, 2]\n",
    "    inside_list.append(i)\n",
    "    total_list.append(inside_list)\n",
    "\n",
    "print(total_list)"
   ]
  },
  {
   "cell_type": "code",
   "execution_count": 7,
   "metadata": {},
   "outputs": [
    {
     "name": "stdout",
     "output_type": "stream",
     "text": [
      "[[1, 2, 1], [1, 2, 2], [1, 2, 3], [1, 2, 4], [1, 2, 5], [1, 2, 6], [1, 2, 7], [1, 2, 8], [1, 2, 9], [1, 2, 10]]\n"
     ]
    }
   ],
   "source": [
    "n = -2\n",
    "my_list1 = []\n",
    "list_inside = []\n",
    "for i in range(1, 11):\n",
    "    list_inside = [x for x in range(1, 4)]\n",
    "\n",
    "    list_inside[2] = i\n",
    "\n",
    "    # list_inside[2] += n\n",
    "    # n += 1\n",
    "\n",
    "    my_list1.append(list_inside)\n",
    "\n",
    "print(my_list1)"
   ]
  },
  {
   "cell_type": "markdown",
   "metadata": {},
   "source": [
    "##### sort( ) 函式"
   ]
  },
  {
   "cell_type": "code",
   "execution_count": 8,
   "metadata": {},
   "outputs": [
    {
     "name": "stdout",
     "output_type": "stream",
     "text": [
      "[[1, 2, 10], [1, 2, 9], [1, 2, 8], [1, 2, 7], [1, 2, 6], [1, 2, 5], [1, 2, 4], [1, 2, 3], [1, 2, 2], [1, 2, 1]]\n"
     ]
    }
   ],
   "source": [
    "my_list1.sort(reverse=True)\n",
    "print(my_list1)"
   ]
  },
  {
   "cell_type": "markdown",
   "metadata": {},
   "source": [
    "##### 每三個 list 中間的值要改成5\n",
    "\n",
    "Ex :  \n",
    "```\n",
    "[ [1, 2, 1], [1, 2, 2], [1, 5, 3], [1, 2, 4], [1, 2, 5], [1, 5, 6] ]\n",
    "```"
   ]
  },
  {
   "cell_type": "code",
   "execution_count": 9,
   "metadata": {},
   "outputs": [
    {
     "name": "stdout",
     "output_type": "stream",
     "text": [
      "[[1, 2, 1], [1, 2, 2], [1, 5, 3], [1, 2, 4], [1, 2, 5], [1, 5, 6], [1, 2, 7], [1, 2, 8], [1, 5, 9], [1, 2, 10]]\n"
     ]
    }
   ],
   "source": [
    "n = -2\n",
    "my_list2 = []\n",
    "for i in range(1, 11):\n",
    "    list_inside = [x for x in range(1, 4)]\n",
    "    list_inside[2] += n\n",
    "    n += 1\n",
    "    # 每三個 list 中間的值要改成 5\n",
    "    if i % 3 == 0:\n",
    "        list_inside[1] = 5\n",
    "    my_list2.append(list_inside)\n",
    "\n",
    "print(my_list2)"
   ]
  },
  {
   "cell_type": "code",
   "execution_count": 10,
   "metadata": {},
   "outputs": [
    {
     "name": "stdout",
     "output_type": "stream",
     "text": [
      "[[1, 2, 1], [1, 2, 2], [1, 2, 4], [1, 2, 5], [1, 2, 7], [1, 2, 8], [1, 2, 10], [1, 5, 3], [1, 5, 6], [1, 5, 9]]\n"
     ]
    }
   ],
   "source": [
    "# 順序會被打亂\n",
    "my_list2.sort()\n",
    "print(my_list2)"
   ]
  },
  {
   "cell_type": "markdown",
   "metadata": {},
   "source": [
    "##### lambda 搭配 list.sort( ) 函式"
   ]
  },
  {
   "cell_type": "code",
   "execution_count": 11,
   "metadata": {},
   "outputs": [
    {
     "name": "stdout",
     "output_type": "stream",
     "text": [
      "[[1, 2, 10], [1, 5, 9], [1, 2, 8], [1, 2, 7], [1, 5, 6], [1, 2, 5], [1, 2, 4], [1, 5, 3], [1, 2, 2], [1, 2, 1]]\n"
     ]
    }
   ],
   "source": [
    "my_list2.sort(key=lambda x: x[2], reverse=True)\n",
    "print(my_list2)"
   ]
  },
  {
   "cell_type": "code",
   "execution_count": 12,
   "metadata": {},
   "outputs": [
    {
     "name": "stdout",
     "output_type": "stream",
     "text": [
      "student_list : [('Jarvis', 'A', 15), ('Jenny', 'B', 12), ('David', 'B', 10)]\n",
      "sorted_student_list : [('David', 'B', 10), ('Jarvis', 'A', 15), ('Jenny', 'B', 12)]\n"
     ]
    }
   ],
   "source": [
    "# sorted(tuple) 可以 但沒有 tuple.sort()\n",
    "# student_list = (('Jarvis', 'A', 15), ('Jenny', 'B', 12), ('David', 'B', 10)) \n",
    "student_list = [('Jarvis', 'A', 15), ('Jenny', 'B', 12), ('David', 'B', 10)]\n",
    "sorted_student_list = sorted(student_list) # 會回傳一個新的 list, \n",
    "\n",
    "print(f'student_list : {student_list}')\n",
    "print(f'sorted_student_list : {sorted_student_list}')\n"
   ]
  },
  {
   "cell_type": "code",
   "execution_count": 13,
   "metadata": {},
   "outputs": [
    {
     "name": "stdout",
     "output_type": "stream",
     "text": [
      "[('David', 'B', 10), ('Jarvis', 'A', 15), ('Jenny', 'B', 12)]\n",
      "[('David', 'B', 10), ('Jenny', 'B', 12), ('Jarvis', 'A', 15)]\n"
     ]
    }
   ],
   "source": [
    "student_list.sort()\n",
    "print(student_list)\n",
    "\n",
    "student_list.sort(key=lambda x: x[2])\n",
    "print(student_list)"
   ]
  }
 ],
 "metadata": {
  "kernelspec": {
   "display_name": "Python 3",
   "language": "python",
   "name": "python3"
  },
  "language_info": {
   "codemirror_mode": {
    "name": "ipython",
    "version": 3
   },
   "file_extension": ".py",
   "mimetype": "text/x-python",
   "name": "python",
   "nbconvert_exporter": "python",
   "pygments_lexer": "ipython3",
   "version": "3.12.0"
  }
 },
 "nbformat": 4,
 "nbformat_minor": 2
}
