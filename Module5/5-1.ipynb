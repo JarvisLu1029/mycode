{
 "cells": [
  {
   "cell_type": "code",
   "execution_count": 12,
   "metadata": {},
   "outputs": [
    {
     "name": "stdout",
     "output_type": "stream",
     "text": [
      "55000\n"
     ]
    }
   ],
   "source": [
    "class Employee:\n",
    "\n",
    "    def __init__(self):\n",
    "        self.salary = 35000\n",
    " \n",
    "    def pay_salary(self):\n",
    "        print(self.salary)\n",
    " \n",
    "worker_A = Employee()\n",
    "\n",
    "worker_A.salary = 55000\n",
    "\n",
    "worker_A.pay_salary()"
   ]
  },
  {
   "cell_type": "code",
   "execution_count": 2,
   "metadata": {},
   "outputs": [
    {
     "name": "stdout",
     "output_type": "stream",
     "text": [
      "40000\n",
      "55000\n"
     ]
    }
   ],
   "source": [
    "class Employee:\n",
    "\n",
    "    def __init__(self):\n",
    "        self.__salary = 35000\n",
    "\n",
    "    def work_hard(self):\n",
    "        self.__salary += 5000\n",
    " \n",
    "    def sleep(self):\n",
    "        self.__salary -= 5000\n",
    "\n",
    "    def pay_salary(self):\n",
    "        print(self.__salary)\n",
    " \n",
    "worker1 = Employee()\n",
    "\n",
    "# print(worker1.__salary)\n",
    "\n",
    "worker1.__salary = 55000  # 這邊創建了一個新的物件屬性\n",
    "\n",
    "worker1.work_hard()\n",
    "\n",
    "worker1.pay_salary()\n",
    "\n",
    "print(worker1.__salary)"
   ]
  },
  {
   "cell_type": "code",
   "execution_count": 5,
   "metadata": {},
   "outputs": [
    {
     "name": "stdout",
     "output_type": "stream",
     "text": [
      "存款成功，帳戶餘額 1500 元\n",
      "提款成功，帳戶餘額 1300 元\n",
      "1300\n"
     ]
    }
   ],
   "source": [
    "class BankAccount:\n",
    "    def __init__(self, initial_balance=0):\n",
    "        self.__balance = initial_balance  # 私有屬性\n",
    "\n",
    "    def deposit(self, amount):\n",
    "        if amount > 0:\n",
    "            self.__balance += amount\n",
    "            return f\"存款成功，帳戶餘額 {self.__balance} 元\"\n",
    "        else:\n",
    "            return \"無效的金額\"\n",
    "\n",
    "    def withdraw(self, amount):\n",
    "        if amount > 0 and amount <= self.__balance:\n",
    "            self.__balance -= amount\n",
    "            return f\"提款成功，帳戶餘額 {self.__balance} 元\"\n",
    "        else:\n",
    "            return \"無效的金額或餘額不足\"\n",
    "\n",
    "    def get_balance(self):\n",
    "        return self.__balance\n",
    "\n",
    "# 創建 BankAccount 類別的實例\n",
    "account = BankAccount(1000)\n",
    "\n",
    "# 嘗試直接訪問私有屬性（會失敗）\n",
    "# print(account.__balance)  # 這會產生錯誤\n",
    "\n",
    "# 使用方法存款和提款\n",
    "print(account.deposit(500))   # 存款成功\n",
    "print(account.withdraw(200))  # 提款成功\n",
    "\n",
    "# 使用方法獲取餘額\n",
    "print(account.get_balance())  # 輸出餘額\n"
   ]
  }
 ],
 "metadata": {
  "kernelspec": {
   "display_name": "Python 3",
   "language": "python",
   "name": "python3"
  },
  "language_info": {
   "codemirror_mode": {
    "name": "ipython",
    "version": 3
   },
   "file_extension": ".py",
   "mimetype": "text/x-python",
   "name": "python",
   "nbconvert_exporter": "python",
   "pygments_lexer": "ipython3",
   "version": "3.10.12"
  }
 },
 "nbformat": 4,
 "nbformat_minor": 2
}
