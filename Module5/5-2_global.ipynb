{
 "cells": [
  {
   "cell_type": "code",
   "execution_count": 1,
   "metadata": {},
   "outputs": [
    {
     "name": "stdout",
     "output_type": "stream",
     "text": [
      "Bill\n"
     ]
    }
   ],
   "source": [
    "# 全域變數\n",
    "name = 'Bill'\n",
    "\n",
    "# 定義函式\n",
    "def use_name():\n",
    "    # 區域變數\n",
    "    name = 'Jarvis'\n",
    "\n",
    "# 執行函式\n",
    "use_name()\n",
    "\n",
    "# 輸出 name\n",
    "print(name)"
   ]
  },
  {
   "cell_type": "markdown",
   "metadata": {},
   "source": [
    "##### 使用 global 讓函式存取全域變數的值"
   ]
  },
  {
   "cell_type": "code",
   "execution_count": 2,
   "metadata": {},
   "outputs": [
    {
     "name": "stdout",
     "output_type": "stream",
     "text": [
      "Jarvis\n"
     ]
    }
   ],
   "source": [
    "# 全域變數\n",
    "name = 'Bill'\n",
    "\n",
    "# 定義函式\n",
    "def use_name():\n",
    "    # 使用 global\n",
    "    global name\n",
    "    \n",
    "    name = 'Jarvis'\n",
    "\n",
    "# 執行函式\n",
    "use_name()\n",
    "\n",
    "# 輸出 name\n",
    "print(name)"
   ]
  }
 ],
 "metadata": {
  "kernelspec": {
   "display_name": "Python 3",
   "language": "python",
   "name": "python3"
  },
  "language_info": {
   "codemirror_mode": {
    "name": "ipython",
    "version": 3
   },
   "file_extension": ".py",
   "mimetype": "text/x-python",
   "name": "python",
   "nbconvert_exporter": "python",
   "pygments_lexer": "ipython3",
   "version": "3.9.13"
  }
 },
 "nbformat": 4,
 "nbformat_minor": 2
}
