{
 "cells": [
  {
   "cell_type": "code",
   "execution_count": 1,
   "metadata": {},
   "outputs": [
    {
     "ename": "UnboundLocalError",
     "evalue": "cannot access local variable 'name' where it is not associated with a value",
     "output_type": "error",
     "traceback": [
      "\u001b[0;31m---------------------------------------------------------------------------\u001b[0m",
      "\u001b[0;31mUnboundLocalError\u001b[0m                         Traceback (most recent call last)",
      "Cell \u001b[0;32mIn[1], line 11\u001b[0m\n\u001b[1;32m      8\u001b[0m     name \u001b[39m=\u001b[39m \u001b[39m'\u001b[39m\u001b[39mJarvis\u001b[39m\u001b[39m'\u001b[39m\n\u001b[1;32m     10\u001b[0m \u001b[39m# 執行函式\u001b[39;00m\n\u001b[0;32m---> 11\u001b[0m \u001b[39mprint\u001b[39m(use_name())\n\u001b[1;32m     13\u001b[0m \u001b[39m# 輸出 name\u001b[39;00m\n\u001b[1;32m     14\u001b[0m \u001b[39mprint\u001b[39m(name)\n",
      "Cell \u001b[0;32mIn[1], line 6\u001b[0m, in \u001b[0;36muse_name\u001b[0;34m()\u001b[0m\n\u001b[1;32m      5\u001b[0m \u001b[39mdef\u001b[39;00m \u001b[39muse_name\u001b[39m():\n\u001b[0;32m----> 6\u001b[0m     \u001b[39mreturn\u001b[39;00m name\n\u001b[1;32m      7\u001b[0m     \u001b[39m# 區域變數\u001b[39;00m\n\u001b[1;32m      8\u001b[0m     name \u001b[39m=\u001b[39m \u001b[39m'\u001b[39m\u001b[39mJarvis\u001b[39m\u001b[39m'\u001b[39m\n",
      "\u001b[0;31mUnboundLocalError\u001b[0m: cannot access local variable 'name' where it is not associated with a value"
     ]
    }
   ],
   "source": [
    "# 全域變數\n",
    "name = 'Bill'\n",
    "\n",
    "# 定義函式\n",
    "def use_name():\n",
    "    return name\n",
    "    # 區域變數\n",
    "    name = 'Jarvis'\n",
    "\n",
    "# 執行函式\n",
    "print(use_name())\n",
    "\n",
    "# 輸出 name\n",
    "print(name)"
   ]
  },
  {
   "cell_type": "markdown",
   "metadata": {},
   "source": [
    "##### 使用 global 讓函式存取全域變數的值"
   ]
  },
  {
   "cell_type": "code",
   "execution_count": 2,
   "metadata": {},
   "outputs": [
    {
     "name": "stdout",
     "output_type": "stream",
     "text": [
      "Jarvis\n"
     ]
    }
   ],
   "source": [
    "# 全域變數\n",
    "name = 'Bill'\n",
    "\n",
    "# 定義函式\n",
    "def use_name():\n",
    "    # 使用 global\n",
    "    global name\n",
    "    \n",
    "    name = 'Jarvis'\n",
    "\n",
    "# 執行函式\n",
    "use_name()\n",
    "\n",
    "# 輸出 name\n",
    "print(name)"
   ]
  }
 ],
 "metadata": {
  "kernelspec": {
   "display_name": "Python 3",
   "language": "python",
   "name": "python3"
  },
  "language_info": {
   "codemirror_mode": {
    "name": "ipython",
    "version": 3
   },
   "file_extension": ".py",
   "mimetype": "text/x-python",
   "name": "python",
   "nbconvert_exporter": "python",
   "pygments_lexer": "ipython3",
   "version": "3.11.2"
  }
 },
 "nbformat": 4,
 "nbformat_minor": 2
}
